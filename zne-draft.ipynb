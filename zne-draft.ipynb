{
 "cells": [
  {
   "cell_type": "markdown",
   "metadata": {},
   "source": [
    "# Draft of a ZNE toolkit"
   ]
  },
  {
   "cell_type": "markdown",
   "metadata": {},
   "source": [
    "Actually this notebook is self-consistent and does not import any toolkit. This is useful for understanding and prototyping the main components of the toolkit."
   ]
  },
  {
   "cell_type": "code",
   "execution_count": 107,
   "metadata": {},
   "outputs": [],
   "source": [
    "# IBM SDK\n",
    "import qiskit\n",
    "from qiskit import QuantumCircuit\n",
    "\n",
    "# Noise simulation packages\n",
    "from qiskit.providers.aer.noise import NoiseModel\n",
    "from qiskit.providers.aer.noise.errors.standard_errors import depolarizing_error\n",
    "\n",
    "# Other tools\n",
    "import numpy as np\n",
    "%matplotlib inline\n",
    "from matplotlib import pylab as plt"
   ]
  },
  {
   "cell_type": "markdown",
   "metadata": {},
   "source": [
    "The following function is not related to the toolkit. We just use it to generate random circuits."
   ]
  },
  {
   "cell_type": "code",
   "execution_count": 108,
   "metadata": {},
   "outputs": [],
   "source": [
    "def random_identity_circuit(depth=None):\n",
    "    \"\"\"Returns a single-qubit identity circuit based on Pauli gates.\"\"\"\n",
    "    \n",
    "    # initialize a quantum circuit with 1 qubit and 1 classical bit\n",
    "    circuit = QuantumCircuit(1, 1)\n",
    "    \n",
    "    # index of the (inverting) final gate: 0=I, 1=X, 2=Y, 3=Z\n",
    "    k_inv = 0\n",
    "\n",
    "    # apply a random sequence of Pauli gates\n",
    "    for _ in range(depth):\n",
    "        # random index for the next gate: 1=X, 2=Y, 3=Z\n",
    "        k = np.random.choice([1, 2, 3])\n",
    "        # apply the Pauli gate \"k\"\n",
    "        if k == 1:\n",
    "            circuit.x(0)\n",
    "        elif k == 2:\n",
    "            circuit.y(0)\n",
    "        elif k == 3:\n",
    "            circuit.z(0)\n",
    "        \n",
    "        # update the inverse index according to \n",
    "        # the product rules of Pauli matrices k and k_inv\n",
    "        if k_inv == 0:\n",
    "            k_inv = k\n",
    "        elif k_inv == k:\n",
    "            k_inv = 0\n",
    "        else:\n",
    "            _ = [1, 2, 3]\n",
    "            _.remove(k_inv)\n",
    "            _.remove(k)\n",
    "            k_inv = _[0]\n",
    "    \n",
    "    # apply the final inverse gate\n",
    "    if k_inv == 1:\n",
    "        circuit.x(0)\n",
    "    elif k_inv == 2:\n",
    "        circuit.y(0)\n",
    "    elif k_inv == 3:\n",
    "        circuit.z(0)\n",
    "        \n",
    "    return circuit"
   ]
  },
  {
   "cell_type": "markdown",
   "metadata": {},
   "source": [
    "## We focus on the simplest scenario: we assume the user can increase the noise level"
   ]
  },
  {
   "cell_type": "markdown",
   "metadata": {},
   "source": [
    "We assume the user can define a function which evaluates an input circuit at a given noise level and returns a single expectation value. For example:"
   ]
  },
  {
   "cell_type": "code",
   "execution_count": 117,
   "metadata": {},
   "outputs": [],
   "source": [
    "def circ_to_expval(circuit=None, stretch=1):\n",
    "    \"\"\"Executes a circuit on a noisy device and returns the expectation value of \n",
    "    the final measurement. The function is not expected/required to be well defined for stretch<1,\n",
    "    i.e., noise can be increased but not reduced. \"\"\"\n",
    "    \n",
    "    shots = 10 ** 5       # measurement shots\n",
    "    true_noise = 0.007    # real value of the noise\n",
    "    \n",
    "    # noise stretching\n",
    "    noise = true_noise * stretch\n",
    "    \n",
    "    # initialize a qiskit noise model\n",
    "    noise_model = NoiseModel()\n",
    "    \n",
    "    # we assume a depolarizing error for each gate of the standard IBM basis set (u1, u2, u3)\n",
    "    noise_model.add_all_qubit_quantum_error(depolarizing_error(noise, 1), ['u1', 'u2', 'u3'])\n",
    "    \n",
    "    # execution of the experiment\n",
    "    job = qiskit.execute(circuit, \n",
    "                         backend=backend, \n",
    "                         basis_gates=['u1', 'u2', 'u3'],\n",
    "                         # we want all gates to be actually applied,\n",
    "                         # so we skip any circuit optimization\n",
    "                         optimization_level=0, \n",
    "                         noise_model=noise_model,\n",
    "                         shots=shots)\n",
    "    results = job.result()\n",
    "    counts = results.get_counts()\n",
    "    expval = counts['0'] / shots\n",
    "    return expval"
   ]
  },
  {
   "cell_type": "markdown",
   "metadata": {},
   "source": [
    "Let us test the function above for different levels of noise"
   ]
  },
  {
   "cell_type": "code",
   "execution_count": 118,
   "metadata": {},
   "outputs": [
    {
     "name": "stdout",
     "output_type": "stream",
     "text": [
      "stretch:0  expval:1.00 (noiseless result not accessible to the user in a real scenario)\n",
      "stretch:1  expval:0.75 (result without error mitigation)\n",
      "stretch:2  expval:0.62 \n",
      "stretch:3  expval:0.56 \n",
      "stretch:4  expval:0.53 \n"
     ]
    }
   ],
   "source": [
    "# beckend initialization\n",
    "backend = qiskit.Aer.get_backend('qasm_simulator')\n",
    "\n",
    "# generate a random circuit\n",
    "circuit = random_identity_circuit(depth=100)\n",
    "\n",
    "# add a final measurement in the z basis, ideally 1 without noise.\n",
    "circuit.measure(0, 0)\n",
    "\n",
    "for j in range(5):\n",
    "    expval = circ_to_expval(circuit=circuit, stretch=j)\n",
    "    note = \"\"\n",
    "    if j == 0:\n",
    "        note = \"(noiseless result not accessible to the user in a real scenario)\"\n",
    "    if j == 1:\n",
    "        note = \"(result without error mitigation)\"\n",
    "    print(\"stretch:{}  expval:{:.2f} {}\".format(j, expval, note))"
   ]
  },
  {
   "cell_type": "markdown",
   "metadata": {},
   "source": [
    "## The Mitigator object"
   ]
  },
  {
   "cell_type": "markdown",
   "metadata": {},
   "source": [
    "First, we define two auxiliary functions:"
   ]
  },
  {
   "cell_type": "code",
   "execution_count": 111,
   "metadata": {},
   "outputs": [],
   "source": [
    "def get_gammas(c):\n",
    "    \"\"\"Returns the linear combination coefficients \"gammas\" for Richardson's extrapolation.\n",
    "    The input is a list of the noise stretch factors.    \n",
    "    \"\"\"\n",
    "    order = len(c) - 1\n",
    "    np_c = np.asarray(c)\n",
    "    A = np.zeros((order + 1, order + 1))\n",
    "    for k in range(order + 1):\n",
    "        A[k] = np_c ** k\n",
    "    b = np.zeros(order + 1)\n",
    "    b[0] = 1\n",
    "    return np.linalg.solve(A, b) "
   ]
  },
  {
   "cell_type": "code",
   "execution_count": 112,
   "metadata": {},
   "outputs": [],
   "source": [
    "def check_c(order, c):\n",
    "    \"\"\"Consistency check of the noise stretch vector. Returns c[:order + 1]. If c is None, generates a default one.\"\"\"\n",
    "    if c == None:\n",
    "        # generate a default list\n",
    "        c = list(range(1, order + 2))\n",
    "    if order > len(c) - 1:\n",
    "        raise ValueError(\"Extrapolation order is too high compared to len(c) - 1.\") \n",
    "    if c[0] != 1:\n",
    "        raise ValueError(\"c[0] should be 1.\") # Not sure if this is really a requirement.\n",
    "    return c[:order + 1]"
   ]
  },
  {
   "cell_type": "markdown",
   "metadata": {},
   "source": [
    "Now we can define a key component of the toolkit: the `Mitigator` class."
   ]
  },
  {
   "cell_type": "code",
   "execution_count": 113,
   "metadata": {},
   "outputs": [],
   "source": [
    "class Mitigator:\n",
    "    \"\"\"\"Error mitigation class. \n",
    "    It can be used to process a quantum circuit in order to extrapolate an error-mitigated result.\n",
    "    \"\"\"\n",
    "        \n",
    "    def __init__(self, circ_to_expval, order=0, c=None, method='richardson'):\n",
    "        \"\"\"Initializes the mitigator.\"\"\"\n",
    "        # consistency check of the arguments\n",
    "        check_c(order, c)\n",
    "        # initialize object variables\n",
    "        self.circuit = None\n",
    "        self.circ_to_expval = circ_to_expval\n",
    "        self.order = order\n",
    "        self.c = c\n",
    "        self.method = method\n",
    "        self.expvals = []\n",
    "        self.result = None\n",
    "    \n",
    "    def load(self, circuit):\n",
    "        \"\"\"Loads the circuit into the mitigator object.\"\"\"\n",
    "        self.circuit = circuit\n",
    "    \n",
    "    def comp(self):\n",
    "        \"\"\"Compiles the circuit for error mitigation purposes.\"\"\"\n",
    "        # if the user is able to control the noise, do nothing.\n",
    "        pass\n",
    "    \n",
    "    def run(self):\n",
    "        \"\"\"Executes the circuit for different noise levles\"\"\"\n",
    "        _c = check_c(self.order, self.c)\n",
    "        self.expvals = []\n",
    "        for j, c_val in enumerate(_c):\n",
    "            self.expvals.append(self.circ_to_expval(circuit=self.circuit, stretch=c_val))\n",
    "        return self.expvals\n",
    "    \n",
    "    def extrapolate(self):\n",
    "        \"\"\"Extrapolates from the list self.expvals\"\"\"\n",
    "        if self.method == 'richardson':\n",
    "            _c = check_c(self.order, self.c)\n",
    "            # get linear combination coefficients\n",
    "            gammas = get_gammas(_c)\n",
    "            # linear extraolation\n",
    "            self.result = np.dot(gammas, self.expvals[0:self.order + 1])\n",
    "        return self.result\n",
    "    \n",
    "    def __call__(self, circuit):\n",
    "        \"\"\"Evaluates the expectation value of the input circuit with error mitigation\"\"\"\n",
    "        self.load(circuit)\n",
    "        self.comp()\n",
    "        self.run()\n",
    "        self.extrapolate()\n",
    "        return self.result\n",
    "        \n",
    "    "
   ]
  },
  {
   "cell_type": "markdown",
   "metadata": {},
   "source": [
    "## Manually using a *Mitigator* object  (no *decorator*)"
   ]
  },
  {
   "cell_type": "markdown",
   "metadata": {},
   "source": [
    "The user can instantiate a mitigator object in this way:"
   ]
  },
  {
   "cell_type": "code",
   "execution_count": 114,
   "metadata": {},
   "outputs": [],
   "source": [
    "mit = Mitigator(circ_to_expval, order=3)"
   ]
  },
  {
   "cell_type": "markdown",
   "metadata": {},
   "source": [
    "Assume that we want to evaluate the following random circuit:"
   ]
  },
  {
   "cell_type": "code",
   "execution_count": 115,
   "metadata": {},
   "outputs": [
    {
     "data": {
      "text/plain": [
       "<qiskit.circuit.instructionset.InstructionSet at 0x1cf9c2d1508>"
      ]
     },
     "execution_count": 115,
     "metadata": {},
     "output_type": "execute_result"
    }
   ],
   "source": [
    "rand_circ = random_identity_circuit(depth=100)\n",
    "rand_circ.measure(0, 0)"
   ]
  },
  {
   "cell_type": "markdown",
   "metadata": {},
   "source": [
    "There are different ways of applying the mitigator `mit` to the circuit `rand_circ`."
   ]
  },
  {
   "cell_type": "markdown",
   "metadata": {},
   "source": [
    "### Step by step processing"
   ]
  },
  {
   "cell_type": "markdown",
   "metadata": {},
   "source": [
    "* Load the circuit into the mitigator:"
   ]
  },
  {
   "cell_type": "code",
   "execution_count": 99,
   "metadata": {},
   "outputs": [],
   "source": [
    "mit.load(rand_circ)"
   ]
  },
  {
   "cell_type": "markdown",
   "metadata": {},
   "source": [
    "* Compile (if necessary) and execute the circuit at different noise levels:"
   ]
  },
  {
   "cell_type": "code",
   "execution_count": 100,
   "metadata": {},
   "outputs": [
    {
     "data": {
      "text/plain": [
       "[0.74598, 0.61994, 0.55872, 0.52864]"
      ]
     },
     "execution_count": 100,
     "metadata": {},
     "output_type": "execute_result"
    }
   ],
   "source": [
    "mit.comp()\n",
    "mit.run()"
   ]
  },
  {
   "cell_type": "markdown",
   "metadata": {},
   "source": [
    "* Extrapolate to the zero noise limit:"
   ]
  },
  {
   "cell_type": "code",
   "execution_count": 101,
   "metadata": {},
   "outputs": [
    {
     "data": {
      "text/plain": [
       "0.9705199999999996"
      ]
     },
     "execution_count": 101,
     "metadata": {},
     "output_type": "execute_result"
    }
   ],
   "source": [
    "mit.extrapolate()"
   ]
  },
  {
   "cell_type": "markdown",
   "metadata": {},
   "source": [
    "### Direct processing of the mitigated result"
   ]
  },
  {
   "cell_type": "markdown",
   "metadata": {},
   "source": [
    "Alternatively, the user can directly get the mitigated result as follows:"
   ]
  },
  {
   "cell_type": "code",
   "execution_count": 103,
   "metadata": {},
   "outputs": [
    {
     "data": {
      "text/plain": [
       "0.9628099999999999"
      ]
     },
     "execution_count": 103,
     "metadata": {},
     "output_type": "execute_result"
    }
   ],
   "source": [
    "mit(rand_circ)"
   ]
  },
  {
   "cell_type": "markdown",
   "metadata": {},
   "source": [
    "**Note:** Different evaluations of the mitigator produce slightly different results because of the finite number of shots."
   ]
  },
  {
   "cell_type": "markdown",
   "metadata": {},
   "source": [
    "## Directly *decorating* user's functions"
   ]
  },
  {
   "cell_type": "markdown",
   "metadata": {},
   "source": [
    "Let us define a Python *decorator* (`mitigate`) associated to the class `Mitigator`:"
   ]
  },
  {
   "cell_type": "code",
   "execution_count": 104,
   "metadata": {},
   "outputs": [],
   "source": [
    "# more precisely, this is a wrap function which is necessary to pass some parameters to the decorator\n",
    "def mitigate(order=0, c=None, method='richardson'):\n",
    "    \n",
    "    # formally, this is the actual decorator\n",
    "    def create_mitigator(fun):\n",
    "        return Mitigator(fun, order=order, c=c, method=method)\n",
    "    \n",
    "    return create_mitigator   "
   ]
  },
  {
   "cell_type": "markdown",
   "metadata": {},
   "source": [
    "The user can directly decorate its own functions with a single line of code `@mitigate()`, to be placed right above the function definition. For example:"
   ]
  },
  {
   "cell_type": "code",
   "execution_count": 105,
   "metadata": {},
   "outputs": [],
   "source": [
    "@mitigate(order=3)\n",
    "def magic_run(circuit=None, stretch=1):\n",
    "    \"\"\"Execute a circuit on a noisy device and returns the expectation value of \n",
    "    the final measurement.\"\"\"\n",
    "    \n",
    "    shots = 10 ** 5       # measurement shots\n",
    "    true_noise = 0.007    # real value of the noise\n",
    "    \n",
    "    # noise stretching\n",
    "    noise = true_noise * stretch\n",
    "    \n",
    "    # initialize a qiskit noise model\n",
    "    noise_model = NoiseModel()\n",
    "    \n",
    "    # we assume a depolarizing error for each gate of the standard IBM basis set (u1, u2, u3)\n",
    "    noise_model.add_all_qubit_quantum_error(depolarizing_error(noise, 1), ['u1', 'u2', 'u3'])\n",
    "    \n",
    "    # execution of the experiment\n",
    "    job = qiskit.execute(circuit, \n",
    "                         backend=backend, \n",
    "                         basis_gates=['u1', 'u2', 'u3'],\n",
    "                         # we want all gates to be actually applied,\n",
    "                         # so we skip any circuit optimization\n",
    "                         optimization_level=0, \n",
    "                         noise_model=noise_model,\n",
    "                         shots=shots)\n",
    "    results = job.result()\n",
    "    counts = results.get_counts()\n",
    "    expval = counts['0'] / shots\n",
    "    return expval"
   ]
  },
  {
   "cell_type": "markdown",
   "metadata": {},
   "source": [
    "**Note:** The body of the function `magic_run` is a the same as the previous `circ_to_expval`. We simply used a different name to avoid conflicts with the previous part of this notebook."
   ]
  },
  {
   "cell_type": "markdown",
   "metadata": {},
   "source": [
    "Now the user can directly apply his/her own function `magic_run` to evaluate circuits. Errors will be magically mitigated behind the scenes!"
   ]
  },
  {
   "cell_type": "code",
   "execution_count": 106,
   "metadata": {},
   "outputs": [
    {
     "data": {
      "text/plain": [
       "0.96571"
      ]
     },
     "execution_count": 106,
     "metadata": {},
     "output_type": "execute_result"
    }
   ],
   "source": [
    "magic_run(rand_circ)"
   ]
  },
  {
   "cell_type": "markdown",
   "metadata": {},
   "source": [
    "## Advanced usage"
   ]
  },
  {
   "cell_type": "markdown",
   "metadata": {},
   "source": [
    "Because of the decorator, `magic_run` is actually not a function but an instance of the `Mitigator` class. This means that, if necessary, we can access some of its attributes. For example, we can change the extrapolation order:"
   ]
  },
  {
   "cell_type": "code",
   "execution_count": 87,
   "metadata": {},
   "outputs": [
    {
     "data": {
      "text/plain": [
       "0.74632"
      ]
     },
     "execution_count": 87,
     "metadata": {},
     "output_type": "execute_result"
    }
   ],
   "source": [
    "magic_run.order=0\n",
    "magic_run(rand_circ)"
   ]
  },
  {
   "cell_type": "code",
   "execution_count": 88,
   "metadata": {},
   "outputs": [
    {
     "data": {
      "text/plain": [
       "0.9869300000000009"
      ]
     },
     "execution_count": 88,
     "metadata": {},
     "output_type": "execute_result"
    }
   ],
   "source": [
    "magic_run.order=4\n",
    "magic_run(rand_circ)"
   ]
  },
  {
   "cell_type": "markdown",
   "metadata": {},
   "source": [
    "Another useful possibility is that of visualizing and/or manually modifying the internal list of expectation values `self.expvals`:"
   ]
  },
  {
   "cell_type": "code",
   "execution_count": 89,
   "metadata": {},
   "outputs": [
    {
     "data": {
      "text/plain": [
       "0.8633593474261136"
      ]
     },
     "execution_count": 89,
     "metadata": {},
     "output_type": "execute_result"
    }
   ],
   "source": [
    "expv = magic_run.expvals\n",
    "# add some random shifts to the internal list of expectation values\n",
    "magic_run.expvals = [expv[j] + 0.02 * np.random.rand() for j in range(len(expv))]\n",
    "# extrapolate\n",
    "magic_run.extrapolate()"
   ]
  },
  {
   "cell_type": "markdown",
   "metadata": {},
   "source": [
    "**Note:** running the previous cell many times one can classically estimate the statistical error without performing additional quantum experiments (*bootstrapping*)."
   ]
  }
 ],
 "metadata": {
  "kernelspec": {
   "display_name": "Python 3",
   "language": "python",
   "name": "python3"
  },
  "language_info": {
   "codemirror_mode": {
    "name": "ipython",
    "version": 3
   },
   "file_extension": ".py",
   "mimetype": "text/x-python",
   "name": "python",
   "nbconvert_exporter": "python",
   "pygments_lexer": "ipython3",
   "version": "3.7.5"
  }
 },
 "nbformat": 4,
 "nbformat_minor": 2
}

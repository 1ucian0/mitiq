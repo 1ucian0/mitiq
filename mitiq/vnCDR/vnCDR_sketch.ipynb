{
 "cells": [
  {
   "cell_type": "markdown",
   "metadata": {},
   "source": [
    "# vnCDR sketch with Qiskit\n"
   ]
  },
  {
   "cell_type": "markdown",
   "metadata": {},
   "source": [
    "This notebook shows the skeleton for a working variable noise Clifford data regression (vnCDR) implementation for a given circuit. The vnCDR training set construction is completed using Qiskit. A single instance of a random quantum circuit is used to explore performance relative to Clifford data regression (CDR) and ZNE with various functional extrapolations. \n",
    "\n",
    "First, let’s review the vnCDR and CDR methods to remind ourselves of how these methods work and the elements necessary. vnCDR is the more general setting and is also expected to provide better mitigated results on average, so we will focus on the formalism for this method when presenting the necessary steps. \n",
    "\n",
    "## vnCDR \n",
    "vnCDR is a data driven error mitigation method. That means data from many quantum circuits is used to mitigate the effect of noise produced by one circuit of interest. vnCDR uses data from circuits which are classically simulable evaluated both classically (using a simulator) and on a real device at various levels of hardware noise. This data set is then used to train an ansatz mapping the noisy to exact data. The trained ansatz is used to mitigate the effect of the noise on the circuit of interest evaluated at different hardware noise levels. \n",
    "\n",
    "More formally, let $U$ be a quantum circuit which we are interested in, $|0 \\rangle$ its initial state, and $X$ an observable of interest. We want to estimate the expectation value $\\mu = \\langle 0|U^{+} X U |0 \\rangle$ from measurements on a noisy quantum device. We can mitigate the effect of noise using the following procedure:\n",
    "\n",
    "- (Clifford data) Choose a set of circuits $\\mathcal{S} = \\{V_i\\}_{i=1}^m$ based on $U$ which will be used to form the training set $\\mathcal{T}$ in step 3. The circuits in $\\mathcal{S}$ must be efficient to simulate classically, which is ensured by constructing them primarily from Clifford gates. The number of non-Cliffords used is denoted by $N$. Note that $N$ is assumed to be a constant parameter here, so the simulations are classically tractable. \n",
    "\n",
    "    \n",
    "- (Noise data) Choose a set of noise levels $\\mathcal{C}=\\{c_0,c_1,\\dots,c_n\\}$ where $1 = c_0 < c_1 < \\dots < c_n$ which will be used to form the training set $\\mathcal{T}$ in step 3. If the noise is characterized by a parameter $\\epsilon$ then running the device with noise level $c_j$ means the new parameter is $c_j\\epsilon$.\n",
    "    \n",
    "- (Training set)  For each of the $m$ circuits $V_i$ in $\\mathcal{S}$ and $n+1$ noise levels $c_j\\in \\mathcal{C}$, produce an estimate of the observable expectation called $x_{i, j}$. Also, for each of the $m$ circuits compute $y_i = \\langle 0|V_i^{+} X V_i |0 \\rangle$ using a classical simulation. The training set $\\mathcal{T}$ is then defined as $\\mathcal{T} = \\{(\\vec{x}_i, y_i)\\}$ where $\\vec{x}_i = (x_{i,0},\\dots,x_{i,n})$ is the vector of noisy estimates originating from the $i^\\text{th}$ circuit.\n",
    "\n",
    "- (Learning) Learn a function $f : \\mathbb{R}^n \\to \\mathbb{R}$ that takes a set of noisy estimates at the $n+1$ different noise levels and outputs an estimate for the noise-free value. Specifically, we take the linear ansatz $g : \\mathbb{R}^n \\times \\mathbb{R}^n \\to \\mathbb{R}$,\n",
    "\\begin{equation}\n",
    "           g(\\vec{x}; \\vec{a}) = \\vec{a}\\cdot\\vec{x}\\\n",
    "\\end{equation}\n",
    "    We use least-squares regression on the dataset $\\mathcal{T}$ to pick optimal parameters $\\vec{a}^*$, i.e.,\n",
    "    \\begin{align}\n",
    "        \\vec{a}^* = \\underset{\\vec{a}}{\\text{argmin}} \\sum_{i=1}^m \\left(y_i - g(\\vec{x}_i; \\vec{a})\\right)^2\\,,\n",
    "    \\end{align}\n",
    "    so that we expect $f(\\vec{x}) = g(\\vec{x}; \\vec{a}^*)$ to output a good estimate for the noise-free expected value given a vector of noisy ones.\n",
    "    \n",
    "- (Correction) Use the estimate $\\hat{\\mu} = \\vec{a}^*\\cdot\\vec{\\mu}$, where $\\vec{\\mu} = (\\hat{\\mu}_0,\\dots,\\hat{\\mu}_n)$ is comprised of the $n+1$ noisy expectations for the original circuit.\n",
    "\n",
    "## CDR \n",
    "\n",
    "There are two important distinctions between CDR and vnCDR. CDR does not use multiple hardware noise levels. Therefore there is not a vector of data for each circuit in the training set just a singular point. This also leads to the trianed ansatz being different. In the case of CDR the training set consisting of the noisy evaluated trianing circuits and their exact values are used to train a linear ansatz: \n",
    "\\begin{equation}\n",
    "           g(x; a, b) = ax + c.\n",
    "\\end{equation}\n",
    "\n",
    "## Important features\n",
    "\n",
    "Two important considerations when implementing vnCDR and CDR are how hardware noise is increased and how the circuits in the training set are constructed from the circuit of interest. In this sketch we present the simplest form of training set construction and hardware noise level increase. \n",
    "\n",
    "To construct the trianing set of classically simulable circuits here we randomly select a certain number of the non-Clifford gates in our circuit of interest and project them to their nearest Clifford gate, leaving $N$ non-Cliffords. This process is repeated $M$ times, giving a training set of size $M$. \n",
    "\n",
    "Noise is incrased by inserting identites formed of repeated CNOT gates. This is done using the unitary folding method provided in the mitiq package. \n",
    "\n",
    "The perforance of the mitigation is expected to converge with the number of non-Clifford gates in the training set circuits ($N$) and the number of circuits in the training set ($M$).\n",
    "\n"
   ]
  },
  {
   "cell_type": "markdown",
   "metadata": {},
   "source": [
    "## Imports"
   ]
  },
  {
   "cell_type": "code",
   "execution_count": 1,
   "metadata": {},
   "outputs": [],
   "source": [
    "from qiskit import execute, QuantumCircuit, QuantumRegister, IBMQ, Aer, compiler\n",
    "from qiskit.circuit.random import random_circuit\n",
    "import numpy as np\n",
    "import scipy as sci\n",
    "import matplotlib.pyplot as plt\n",
    "import scipy.sparse as scs\n",
    "from typing import Callable, Optional\n",
    "from functools import wraps\n",
    "from mitiq._typing import QPROGRAM\n",
    "import numpy as np\n",
    "from sklearn import linear_model\n",
    "from operator import itemgetter\n",
    "from qiskit.circuit import QuantumRegister, ClassicalRegister, QuantumCircuit\n",
    "from qiskit.circuit import Reset\n",
    "from qiskit.circuit.library.standard_gates import (IGate, U1Gate, U2Gate, U3Gate, XGate,\n",
    "                                                   YGate, ZGate, HGate, SGate, SdgGate, TGate,\n",
    "                                                   TdgGate, RXGate, RYGate, RZGate, CXGate,\n",
    "                                                   CYGate, CZGate, CHGate, CRZGate, CU1Gate,\n",
    "                                                   CU3Gate, SwapGate, RZZGate,\n",
    "                                                   CCXGate, CSwapGate)\n",
    "import qiskit.providers.aer.noise as aern\n",
    "from qiskit.circuit.exceptions import CircuitError\n",
    "from qiskit.util import deprecate_arguments\n",
    "import random\n",
    "from mitiq.zne.scaling import fold_gates_at_random\n",
    "from mitiq.zne.zne import execute_with_zne\n",
    "from mitiq.zne.inference import LinearFactory, RichardsonFactory, PolyFactory, ExpFactory\n",
    "from functools import partial\n"
   ]
  },
  {
   "cell_type": "markdown",
   "metadata": {},
   "source": [
    "## Load IBMQ account"
   ]
  },
  {
   "cell_type": "code",
   "execution_count": 2,
   "metadata": {},
   "outputs": [
    {
     "name": "stderr",
     "output_type": "stream",
     "text": [
      "C:\\Users\\Max\\Anaconda3\\envs\\TNS\\lib\\site-packages\\qiskit\\providers\\ibmq\\ibmqfactory.py:192: UserWarning: Timestamps in IBMQ backend properties, jobs, and job results are all now in local time instead of UTC.\n",
      "  warnings.warn('Timestamps in IBMQ backend properties, jobs, and job results '\n"
     ]
    }
   ],
   "source": [
    "IBMQ.load_account()\n",
    "provider = IBMQ.get_provider(hub='ibm-q-csic', group='internal', project='ift-csic')"
   ]
  },
  {
   "cell_type": "markdown",
   "metadata": {},
   "source": [
    "## Random Quantum Circuit\n",
    "In order to test the performance of vnCDR and CDR we need a test case to run on. Random quantum circuits (RQC) are a good option to use due to their generality. Below is the code to construct random quantum circuits (in Qiskit) composed of many different gates, with no fixed CNOT gate structure.\n"
   ]
  },
  {
   "cell_type": "code",
   "execution_count": 3,
   "metadata": {},
   "outputs": [],
   "source": [
    "def random_circuit(\n",
    "    num_qubits: int, \n",
    "    depth: int, \n",
    "    max_operands: int=2, \n",
    "    measure: bool=True,        \n",
    "    conditional: bool=False, \n",
    "    reset: bool=False, \n",
    "    seed: bool=None\n",
    ")-> QPROGRAM:\n",
    "    \"\"\"Returns random qiskit quantum circuit object, used to test the code here is working properly.\n",
    "    \n",
    "    Args:\n",
    "        num_qubits (int): number of quantum wires\n",
    "        depth (int): layers of operations (i.e. critical path length)\n",
    "        max_operands (int): maximum operands of each gate (between 1 and 3)\n",
    "        measure (bool): if True, measure all qubits at the end\n",
    "        conditional (bool): if True, insert middle measurements and conditionals\n",
    "        reset (bool): if True, insert middle resets\n",
    "        seed (int): sets random seed (optional)\n",
    "\n",
    "    Returns:\n",
    "        qc (QPROGRAM): constructed circuit\n",
    "    \n",
    "    \"\"\"\n",
    "    \n",
    "    if max_operands < 1 or max_operands > 3:\n",
    "        raise CircuitError(\"max_operands must be between 1 and 3\")\n",
    "\n",
    "    one_q_ops = [ U3Gate, XGate, YGate, ZGate,\n",
    "                 HGate, SGate, SdgGate, TGate, TdgGate, RXGate, RYGate, RZGate]\n",
    "    one_param = [U1Gate, RXGate, RYGate, RZGate]\n",
    "    two_param = [U2Gate]\n",
    "    three_param = [U3Gate]\n",
    "    two_q_ops = [CXGate]\n",
    "    three_q_ops = []\n",
    "\n",
    "    qr = QuantumRegister(num_qubits, 'q')\n",
    "    qc = QuantumCircuit(num_qubits)\n",
    "\n",
    "    if measure or conditional:\n",
    "        cr = ClassicalRegister(num_qubits, 'c')\n",
    "        qc.add_register(cr)\n",
    "\n",
    "    if reset:\n",
    "        one_q_ops += [Reset]\n",
    "\n",
    "    if seed is None:\n",
    "        seed = np.random.randint(0, np.iinfo(np.int32).max)\n",
    "    rng = np.random.default_rng(seed)\n",
    "\n",
    "    # apply arbitrary random operations at every depth\n",
    "    for _ in range(depth):\n",
    "        # choose either 1, 2, or 3 qubits for the operation\n",
    "        remaining_qubits = list(range(num_qubits))\n",
    "        while remaining_qubits:\n",
    "            max_possible_operands = min(len(remaining_qubits), max_operands)\n",
    "            num_operands = rng.choice(range(max_possible_operands)) + 1\n",
    "            rng.shuffle(remaining_qubits)\n",
    "            operands = remaining_qubits[:num_operands]\n",
    "            remaining_qubits = [q for q in remaining_qubits if q not in operands]\n",
    "            if num_operands == 1:\n",
    "                operation = rng.choice(one_q_ops)\n",
    "            elif num_operands == 2:\n",
    "                operation = rng.choice(two_q_ops)\n",
    "            elif num_operands == 3:\n",
    "                operation = rng.choice(three_q_ops)\n",
    "            if operation in one_param:\n",
    "                num_angles = 1\n",
    "            elif operation in two_param:\n",
    "                num_angles = 2\n",
    "            elif operation in three_param:\n",
    "                num_angles = 3\n",
    "            else:\n",
    "                num_angles = 0\n",
    "            angles = [rng.uniform(0, 2 * np.pi) for x in range(num_angles)]\n",
    "            register_operands = [qr[i] for i in operands]\n",
    "            op = operation(*angles)\n",
    "\n",
    "            # with some low probability, condition on classical bit values\n",
    "            if conditional and rng.choice(range(10)) == 0:\n",
    "                value = rng.integers(0, np.power(2, num_qubits))\n",
    "                op.condition = (cr, value)\n",
    "\n",
    "            qc.append(op, register_operands)\n",
    "\n",
    "    if measure:\n",
    "        qc.measure(qr, cr)\n",
    "\n",
    "    return qc"
   ]
  },
  {
   "cell_type": "markdown",
   "metadata": {},
   "source": [
    "## Functions used in CDR\n",
    "Here we begin the code that is used in the CDR method. First up we have a function that takes any Qiskit circuit and compiles it to minimise depth, as well as decomposing it into a gate set where the only non-Clifford gate is the Rz rotation gate."
   ]
  },
  {
   "cell_type": "code",
   "execution_count": 4,
   "metadata": {},
   "outputs": [],
   "source": [
    "def CircuitTranslation(\n",
    "    circ: QPROGRAM\n",
    ")-> QPROGRAM:\n",
    "    \"\"\"Decomposes qiskit circuit object into Rz, Rx(pi/2) (sx), X and CNOT gates. \n",
    "    \n",
    "    Args:\n",
    "        :circ: original circuit of interest assumed to be qiskit circuit object.\n",
    "    Returns: \n",
    "        :circ_new: new circuite compiled and decomposed into the above gate set.\n",
    "    \"\"\"\n",
    "    # this decomposes the circuit into u3 and cnot gates:\n",
    "    circ = compiler.transpile(circ, basis_gates = ['sx','rz','cx', 'x'], optimization_level=3)\n",
    "    #print(circ.draw())\n",
    "    # now for each U3(theta, phi, lambda), this can be converted into Rz(phi+pi)Rx(pi/2)Rz(theta+pi)Rx(pi/2)Rz(lambda)\n",
    "    circ_new = QuantumCircuit(len(circ.qubits),len(circ.clbits))\n",
    "    for i in range(len(circ.data)):\n",
    "        # get information for the gate\n",
    "        gate = circ.data[i][0]\n",
    "        name = gate.name\n",
    "        if name == 'cx':\n",
    "            qubit = [circ.data[i][1][0].index, circ.data[i][1][1].index]\n",
    "            parameters =[]\n",
    "            circ_new.cx(qubit[0], qubit[1])\n",
    "        if name =='rz':\n",
    "            parameters = gate.params[0]\n",
    "            qubit = circ.data[i][1][0].index\n",
    "            circ_new.rz(parameters, qubit)\n",
    "        if name =='sx':\n",
    "            parameters = np.pi/2\n",
    "            qubit = circ.data[i][1][0].index\n",
    "            circ_new.rx(parameters, qubit)\n",
    "        if name =='x':\n",
    "            qubit = circ.data[i][1][0].index\n",
    "            circ_new.x(qubit)\n",
    "        elif name =='measure':\n",
    "            qubit = circ.data[i][1][0].index\n",
    "            cbit = circ.data[i][2][0].index\n",
    "            circ_new.measure(qubit, cbit)\n",
    "        \n",
    "    return(circ_new)"
   ]
  },
  {
   "cell_type": "markdown",
   "metadata": {},
   "source": [
    "It should be noted that the gates that are involved in this decomposition are soon to be made the basis gate set for all IBM computers. Lets have a look at the circuits we have constructed and how the decomposition affects our circuit."
   ]
  },
  {
   "cell_type": "code",
   "execution_count": 11,
   "metadata": {
    "scrolled": false
   },
   "outputs": [
    {
     "data": {
      "text/html": [
       "<pre style=\"word-wrap: normal;white-space: pre;background: #fff0;line-height: 1.1;font-family: &quot;Courier New&quot;,Courier,monospace\">     ┌───┐       ┌────────────┐       ┌───┐                                 »\n",
       "q_0: ┤ X ├───────┤ RY(5.4235) ├───────┤ S ├──────────────────────────────■──»\n",
       "     └─┬─┘┌──────┴────────────┴─────┐ ├───┤           ┌───┐            ┌─┴─┐»\n",
       "q_1: ──┼──┤ U3(5.1099,5.735,3.8116) ├─┤ X ├───────────┤ H ├────────────┤ X ├»\n",
       "       │  └─────────────────────────┘ └─┬─┘┌──────────┴───┴───────────┐├───┤»\n",
       "q_2: ──■────────────────────────────────■──┤ U3(4.2137,4.0664,3.8666) ├┤ X ├»\n",
       "          ┌──────────────────────────┐┌───┐└──────────┬───┬───────────┘└─┬─┘»\n",
       "q_3: ─────┤ U3(4.5836,3.4157,5.8752) ├┤ H ├───────────┤ Z ├──────────────■──»\n",
       "          └──────────────────────────┘└───┘           └───┘                 »\n",
       "c: 4/═══════════════════════════════════════════════════════════════════════»\n",
       "                                                                            »\n",
       "«      ┌───┐ ┌───┐       ┌───┐┌───┐┌─┐      \n",
       "«q_0: ─┤ X ├─┤ X ├───────┤ X ├┤ X ├┤M├──────\n",
       "«      ├───┤ └─┬─┘┌─────┐└─┬─┘└─┬─┘└╥┘┌─┐   \n",
       "«q_1: ─┤ X ├───┼──┤ TDG ├──■────■───╫─┤M├───\n",
       "«      └─┬─┘   │  └┬───┬┘┌───┐ ┌─┐  ║ └╥┘   \n",
       "«q_2: ───■─────■───┤ Z ├─┤ H ├─┤M├──╫──╫────\n",
       "«     ┌─────┐┌───┐┌┴───┴┐├───┤ └╥┘  ║  ║ ┌─┐\n",
       "«q_3: ┤ SDG ├┤ S ├┤ SDG ├┤ Z ├──╫───╫──╫─┤M├\n",
       "«     └─────┘└───┘└─────┘└───┘  ║   ║  ║ └╥┘\n",
       "«c: 4/══════════════════════════╩═══╩══╩══╩═\n",
       "«                               2   0  1  3 </pre>"
      ],
      "text/plain": [
       "     ┌───┐       ┌────────────┐       ┌───┐                                 »\n",
       "q_0: ┤ X ├───────┤ RY(5.4235) ├───────┤ S ├──────────────────────────────■──»\n",
       "     └─┬─┘┌──────┴────────────┴─────┐ ├───┤           ┌───┐            ┌─┴─┐»\n",
       "q_1: ──┼──┤ U3(5.1099,5.735,3.8116) ├─┤ X ├───────────┤ H ├────────────┤ X ├»\n",
       "       │  └─────────────────────────┘ └─┬─┘┌──────────┴───┴───────────┐├───┤»\n",
       "q_2: ──■────────────────────────────────■──┤ U3(4.2137,4.0664,3.8666) ├┤ X ├»\n",
       "          ┌──────────────────────────┐┌───┐└──────────┬───┬───────────┘└─┬─┘»\n",
       "q_3: ─────┤ U3(4.5836,3.4157,5.8752) ├┤ H ├───────────┤ Z ├──────────────■──»\n",
       "          └──────────────────────────┘└───┘           └───┘                 »\n",
       "c: 4/═══════════════════════════════════════════════════════════════════════»\n",
       "                                                                            »\n",
       "«      ┌───┐ ┌───┐       ┌───┐┌───┐┌─┐      \n",
       "«q_0: ─┤ X ├─┤ X ├───────┤ X ├┤ X ├┤M├──────\n",
       "«      ├───┤ └─┬─┘┌─────┐└─┬─┘└─┬─┘└╥┘┌─┐   \n",
       "«q_1: ─┤ X ├───┼──┤ TDG ├──■────■───╫─┤M├───\n",
       "«      └─┬─┘   │  └┬───┬┘┌───┐ ┌─┐  ║ └╥┘   \n",
       "«q_2: ───■─────■───┤ Z ├─┤ H ├─┤M├──╫──╫────\n",
       "«     ┌─────┐┌───┐┌┴───┴┐├───┤ └╥┘  ║  ║ ┌─┐\n",
       "«q_3: ┤ SDG ├┤ S ├┤ SDG ├┤ Z ├──╫───╫──╫─┤M├\n",
       "«     └─────┘└───┘└─────┘└───┘  ║   ║  ║ └╥┘\n",
       "«c: 4/══════════════════════════╩═══╩══╩══╩═\n",
       "«                               2   0  1  3 "
      ]
     },
     "execution_count": 11,
     "metadata": {},
     "output_type": "execute_result"
    }
   ],
   "source": [
    "num_qubits = 4\n",
    "depth = 8\n",
    "circuit = random_circuit(num_qubits, depth, measure = True, seed=0)\n",
    "circuit.draw()"
   ]
  },
  {
   "cell_type": "code",
   "execution_count": 12,
   "metadata": {},
   "outputs": [
    {
     "data": {
      "text/html": [
       "<pre style=\"word-wrap: normal;white-space: pre;background: #fff0;line-height: 1.1;font-family: &quot;Courier New&quot;,Courier,monospace\">                         ┌───┐       ┌───────┐  ┌─────────┐  ┌────────────┐»\n",
       "q_0: ────────────────────┤ X ├───────┤ RZ(π) ├──┤ RX(π/2) ├──┤ RZ(4.0013) ├»\n",
       "     ┌─────────────┐     └─┬─┘      ┌┴───────┴┐┌┴─────────┴─┐└┬─────────┬─┘»\n",
       "q_1: ┤ RZ(0.67001) ├───────┼────────┤ RX(π/2) ├┤ RZ(4.3149) ├─┤ RX(π/2) ├──»\n",
       "     └─────────────┘       │        └─────────┘└────────────┘ └─────────┘  »\n",
       "q_2: ──────────────────────■───────────────────────────────────────────────»\n",
       "                    ┌──────────────┐┌─────────┐┌────────────┐ ┌─────────┐  »\n",
       "q_3: ───────────────┤ RZ(0.001826) ├┤ RX(π/2) ├┤ RZ(4.7065) ├─┤ RX(π/2) ├──»\n",
       "                    └──────────────┘└─────────┘└────────────┘ └─────────┘  »\n",
       "c: 4/══════════════════════════════════════════════════════════════════════»\n",
       "                                                                           »\n",
       "«       ┌─────────┐   ┌─────────┐                                       »\n",
       "«q_0: ──┤ RX(π/2) ├───┤ RZ(π/2) ├───────────────────────────────────────»\n",
       "«     ┌─┴─────────┴──┐└──┬───┬──┘ ┌─────────┐  ┌─────────┐ ┌─────────┐  »\n",
       "«q_1: ┤ RZ(-0.54817) ├───┤ X ├────┤ RZ(π/2) ├──┤ RX(π/2) ├─┤ RZ(π/2) ├──»\n",
       "«     └──────────────┘   └─┬─┘   ┌┴─────────┴─┐├─────────┤┌┴─────────┴─┐»\n",
       "«q_2: ─────────────────────■─────┤ RZ(2.6419) ├┤ RX(π/2) ├┤ RZ(5.2694) ├»\n",
       "«      ┌────────────┐            └────────────┘└─────────┘└────────────┘»\n",
       "«q_3: ─┤ RZ(2.8395) ├───────────────────────────────────────────────────»\n",
       "«      └────────────┘                                                   »\n",
       "«c: 4/══════════════════════════════════════════════════════════════════»\n",
       "«                                                                       »\n",
       "«                    ┌───┐                                              »\n",
       "«q_0: ─────■─────────┤ X ├──────────────────────────────────────────────»\n",
       "«        ┌─┴─┐       └───┘                                    ┌───┐     »\n",
       "«q_1: ───┤ X ├────────────────────────────────────────────────┤ X ├─────»\n",
       "«     ┌──┴───┴──┐┌────────────┐     ┌─────────┐ ┌───────┐     └─┬─┘     »\n",
       "«q_2: ┤ RX(π/2) ├┤ RZ(0.5986) ├──■──┤ RX(π/2) ├─┤ RZ(π) ├───────■───────»\n",
       "«     └─────────┘└────────────┘┌─┴─┐├─────────┤┌┴───────┴┐┌────────────┐»\n",
       "«q_3: ─────────────────────────┤ X ├┤ RZ(π/2) ├┤ RX(π/2) ├┤ RZ(2.7149) ├»\n",
       "«                              └───┘└─────────┘└─────────┘└────────────┘»\n",
       "«c: 4/══════════════════════════════════════════════════════════════════»\n",
       "«                                                                       »\n",
       "«                 ┌───┐           ┌─┐                 \n",
       "«q_0: ────────────┤ X ├───────────┤M├─────────────────\n",
       "«     ┌──────────┐└─┬─┘           └╥┘┌─┐              \n",
       "«q_1: ┤ RZ(7π/4) ├──┼──────────────╫─┤M├──────────────\n",
       "«     └──────────┘  │  ┌─────────┐ ║ └╥┘┌─────────┐┌─┐\n",
       "«q_2: ──────────────■──┤ RX(π/2) ├─╫──╫─┤ RZ(π/2) ├┤M├\n",
       "«         ┌─┐          └─────────┘ ║  ║ └─────────┘└╥┘\n",
       "«q_3: ────┤M├──────────────────────╫──╫─────────────╫─\n",
       "«         └╥┘                      ║  ║             ║ \n",
       "«c: 4/═════╩═══════════════════════╩══╩═════════════╩═\n",
       "«          3                       0  1             2 </pre>"
      ],
      "text/plain": [
       "                         ┌───┐       ┌───────┐  ┌─────────┐  ┌────────────┐»\n",
       "q_0: ────────────────────┤ X ├───────┤ RZ(π) ├──┤ RX(π/2) ├──┤ RZ(4.0013) ├»\n",
       "     ┌─────────────┐     └─┬─┘      ┌┴───────┴┐┌┴─────────┴─┐└┬─────────┬─┘»\n",
       "q_1: ┤ RZ(0.67001) ├───────┼────────┤ RX(π/2) ├┤ RZ(4.3149) ├─┤ RX(π/2) ├──»\n",
       "     └─────────────┘       │        └─────────┘└────────────┘ └─────────┘  »\n",
       "q_2: ──────────────────────■───────────────────────────────────────────────»\n",
       "                    ┌──────────────┐┌─────────┐┌────────────┐ ┌─────────┐  »\n",
       "q_3: ───────────────┤ RZ(0.001826) ├┤ RX(π/2) ├┤ RZ(4.7065) ├─┤ RX(π/2) ├──»\n",
       "                    └──────────────┘└─────────┘└────────────┘ └─────────┘  »\n",
       "c: 4/══════════════════════════════════════════════════════════════════════»\n",
       "                                                                           »\n",
       "«       ┌─────────┐   ┌─────────┐                                       »\n",
       "«q_0: ──┤ RX(π/2) ├───┤ RZ(π/2) ├───────────────────────────────────────»\n",
       "«     ┌─┴─────────┴──┐└──┬───┬──┘ ┌─────────┐  ┌─────────┐ ┌─────────┐  »\n",
       "«q_1: ┤ RZ(-0.54817) ├───┤ X ├────┤ RZ(π/2) ├──┤ RX(π/2) ├─┤ RZ(π/2) ├──»\n",
       "«     └──────────────┘   └─┬─┘   ┌┴─────────┴─┐├─────────┤┌┴─────────┴─┐»\n",
       "«q_2: ─────────────────────■─────┤ RZ(2.6419) ├┤ RX(π/2) ├┤ RZ(5.2694) ├»\n",
       "«      ┌────────────┐            └────────────┘└─────────┘└────────────┘»\n",
       "«q_3: ─┤ RZ(2.8395) ├───────────────────────────────────────────────────»\n",
       "«      └────────────┘                                                   »\n",
       "«c: 4/══════════════════════════════════════════════════════════════════»\n",
       "«                                                                       »\n",
       "«                    ┌───┐                                              »\n",
       "«q_0: ─────■─────────┤ X ├──────────────────────────────────────────────»\n",
       "«        ┌─┴─┐       └───┘                                    ┌───┐     »\n",
       "«q_1: ───┤ X ├────────────────────────────────────────────────┤ X ├─────»\n",
       "«     ┌──┴───┴──┐┌────────────┐     ┌─────────┐ ┌───────┐     └─┬─┘     »\n",
       "«q_2: ┤ RX(π/2) ├┤ RZ(0.5986) ├──■──┤ RX(π/2) ├─┤ RZ(π) ├───────■───────»\n",
       "«     └─────────┘└────────────┘┌─┴─┐├─────────┤┌┴───────┴┐┌────────────┐»\n",
       "«q_3: ─────────────────────────┤ X ├┤ RZ(π/2) ├┤ RX(π/2) ├┤ RZ(2.7149) ├»\n",
       "«                              └───┘└─────────┘└─────────┘└────────────┘»\n",
       "«c: 4/══════════════════════════════════════════════════════════════════»\n",
       "«                                                                       »\n",
       "«                 ┌───┐           ┌─┐                 \n",
       "«q_0: ────────────┤ X ├───────────┤M├─────────────────\n",
       "«     ┌──────────┐└─┬─┘           └╥┘┌─┐              \n",
       "«q_1: ┤ RZ(7π/4) ├──┼──────────────╫─┤M├──────────────\n",
       "«     └──────────┘  │  ┌─────────┐ ║ └╥┘┌─────────┐┌─┐\n",
       "«q_2: ──────────────■──┤ RX(π/2) ├─╫──╫─┤ RZ(π/2) ├┤M├\n",
       "«         ┌─┐          └─────────┘ ║  ║ └─────────┘└╥┘\n",
       "«q_3: ────┤M├──────────────────────╫──╫─────────────╫─\n",
       "«         └╥┘                      ║  ║             ║ \n",
       "«c: 4/═════╩═══════════════════════╩══╩═════════════╩═\n",
       "«          3                       0  1             2 "
      ]
     },
     "execution_count": 12,
     "metadata": {},
     "output_type": "execute_result"
    }
   ],
   "source": [
    "circuit_new = CircuitTranslation(circuit)\n",
    "circuit_new.draw()"
   ]
  },
  {
   "cell_type": "markdown",
   "metadata": {},
   "source": [
    "How does the decomposition change the depth?"
   ]
  },
  {
   "cell_type": "code",
   "execution_count": 13,
   "metadata": {},
   "outputs": [
    {
     "name": "stdout",
     "output_type": "stream",
     "text": [
      "old depth 9\n",
      "new depth 19\n"
     ]
    }
   ],
   "source": [
    "print('old depth', circuit.depth())\n",
    "print('new depth', circuit_new.depth())"
   ]
  },
  {
   "cell_type": "markdown",
   "metadata": {},
   "source": [
    "The decomposition has increased the depth by some amount. This means that when implementing the circuit on a real device or noisy simulator the raw data from the decomposed circuit is likely to be worse than that from the original."
   ]
  },
  {
   "cell_type": "markdown",
   "metadata": {},
   "source": [
    "The next function takes a Qiskit circuit and extracts the information stored in the circuit, returning that information as an array. This makes many necessary steps in the CDR methods easier to implement, like completing gate substitutions for example."
   ]
  },
  {
   "cell_type": "code",
   "execution_count": 14,
   "metadata": {},
   "outputs": [],
   "source": [
    "def CircToArray(\n",
    "    circ: QPROGRAM\n",
    ")-> np.ndarray:\n",
    "    '''Function to return the order of gates, their names and paramters in a more managable data structure than a Qiskit\n",
    "    quantum circuit.\n",
    "    \n",
    "    Args:\n",
    "        circ (QPROGRAM): Qiskit circuits (deomposed).\n",
    "        \n",
    "    Returns:\n",
    "    data (np.ndarray): np.array([order], [names], [parameters], [qubits], [cbits])\n",
    "    where order is the order of the gates from 0 to depth, names are the names of the gates, parameters are the paramters \n",
    "    specifying the gates and qubits and cbits are the qubits and classical bits on which they act.\n",
    "    qubits (int): number of qubits.\n",
    "    clbits (int): number of classical bits.\n",
    "    '''\n",
    "    order=[]\n",
    "    gates_list = []\n",
    "    qubits_list = []\n",
    "    cbit_list = []\n",
    "    parameters_list = []\n",
    "    qubits = len(circ.qubits)\n",
    "    clbits = len(circ.clbits)\n",
    "    #loop through and construct arrays:\n",
    "    for i in range(len(circ.data)):\n",
    "        order.append(i)\n",
    "        gate = circ.data[i][0]\n",
    "        name = gate.name\n",
    "        if name == 'cx':\n",
    "            qubit = [circ.data[i][1][0].index, circ.data[i][1][1].index]\n",
    "            parameters =None\n",
    "            gates_list.append(name)\n",
    "            qubits_list.append(qubit)\n",
    "            cbit_list.append(None)\n",
    "            parameters_list.append(parameters)\n",
    "        elif name =='rz':\n",
    "            parameters = gate.params[0]\n",
    "            gates_list.append(name)\n",
    "            qubit = circ.data[i][1][0].index\n",
    "            qubits_list.append(qubit)\n",
    "            cbit_list.append(None)\n",
    "            parameters_list.append(float(parameters))\n",
    "        elif name =='rx':\n",
    "            parameters = np.pi/2\n",
    "            gates_list.append('rx')\n",
    "            qubit = circ.data[i][1][0].index\n",
    "            qubits_list.append(qubit)\n",
    "            cbit_list.append(None)\n",
    "            parameters_list.append(parameters)\n",
    "        elif name =='x':\n",
    "            parameters = None\n",
    "            gates_list.append(name)\n",
    "            qubit = circ.data[i][1][0].index\n",
    "            qubits_list.append(qubit)\n",
    "            cbit_list.append(None)\n",
    "            parameters_list.append(parameters)\n",
    "        elif name =='measure':\n",
    "            parameters = None\n",
    "            gates_list.append(name)\n",
    "            qubit = circ.data[i][1][0].index\n",
    "            cbit = circ.data[i][2][0].index\n",
    "            qubits_list.append(qubit)\n",
    "            cbit_list.append(cbit)\n",
    "            parameters_list.append(parameters)\n",
    "    data = np.array([order, gates_list,  parameters_list, qubits_list, cbit_list])\n",
    "    return data, qubits, clbits\n",
    "        "
   ]
  },
  {
   "cell_type": "markdown",
   "metadata": {},
   "source": [
    "We also need a function that takes this array and gives back a Qiskit quantum circuit, this function is below."
   ]
  },
  {
   "cell_type": "code",
   "execution_count": 15,
   "metadata": {},
   "outputs": [],
   "source": [
    "def ArrayToCirc(\n",
    "    data: np.ndarray,\n",
    "    qubits: int,\n",
    "    clbits: int) -> QPROGRAM:\n",
    "    ''' Function that takes the data array containing all the circuit data and turns it into a quantum circuit.\n",
    "    \n",
    "    Args:\n",
    "        data: array containing circuit data np.array([order], [names], [parameters], [qubits], [cbits]).\n",
    "        qubits: number of qubits.\n",
    "        clbits: number of classical bits.\n",
    "        \n",
    "    Returns:\n",
    "        circ: QPROGRAM (Qiskit quantum circuit)\n",
    "    \n",
    "    '''\n",
    "    gates_list= data[1,:]\n",
    "    parameters_list = data[2,:]\n",
    "    qubits_list = data[3,:]\n",
    "    cbit_list = data[4,:]\n",
    "    circ = QuantumCircuit(qubits,clbits)\n",
    "    for i in range(len(gates_list)):\n",
    "        gate = gates_list[i]\n",
    "        parameter = parameters_list[i]\n",
    "        qubit = qubits_list[i]\n",
    "        cbit = cbit_list[i]\n",
    "        if gate =='rz':\n",
    "            circ.rz(parameter, qubit)\n",
    "        if gate=='rx':\n",
    "            circ.rx(parameter, qubit)\n",
    "        if gate=='cx':\n",
    "            circ.cx(qubit[0], qubit[1])\n",
    "        if gate=='x':\n",
    "            circ.x(qubit)\n",
    "        if gate=='measure':\n",
    "            circ.measure(qubit, cbit)\n",
    "    return(circ)\n",
    "        "
   ]
  },
  {
   "cell_type": "markdown",
   "metadata": {},
   "source": [
    "## Clifford based functions\n",
    "Here are the functions that check if a gate in our circuit is a Clifford gate and then use this information to complete projections and construct a training set."
   ]
  },
  {
   "cell_type": "code",
   "execution_count": 16,
   "metadata": {},
   "outputs": [],
   "source": [
    "def CliffordChecker(\n",
    "    ang: float\n",
    ")-> bool:\n",
    "    '''Function to check if a given angle is Clifford.\n",
    "    \n",
    "    Args:\n",
    "        ang: rotation angle in the Rz gate.\n",
    "        \n",
    "    Returns:\n",
    "        bool: True / False for Clifford or not. \n",
    "    '''\n",
    "    cliff_angs = [np.pi/2, np.pi, np.pi*3/2, 2*np.pi]\n",
    "    diff_list=[]\n",
    "    for cliff_ang in cliff_angs:\n",
    "        diff_list.append(abs(abs(ang)-cliff_ang)%(2*np.pi))\n",
    "    if any(np.array(diff_list)<=10**(-8)) == True:\n",
    "        return True\n",
    "    else:\n",
    "        return False\n",
    "    \n",
    "# Vectorize function so it can take arrays of angles as its input.\n",
    "CliffordChecker = np.vectorize(CliffordChecker)"
   ]
  },
  {
   "cell_type": "code",
   "execution_count": 17,
   "metadata": {},
   "outputs": [],
   "source": [
    "def ClosestClifford(\n",
    "    ang: float\n",
    ")-> float:\n",
    "    '''Function to take angle and return the nearest Clifford angle note the usage of this function is vectorized\n",
    "    so it takes and returns arrays.\n",
    "    \n",
    "    Args:\n",
    "        ang: angle in Rz gate.\n",
    "        \n",
    "    Returns:\n",
    "        Clifford angle: closest clifford angle.\n",
    "    '''\n",
    "    cliff_angs = [np.pi/2, np.pi, np.pi*3/2, 2*np.pi]\n",
    "    diff_list=[]\n",
    "    for cliff_ang in cliff_angs:\n",
    "        diff_list.append(abs((ang)%(2*np.pi)-cliff_ang))\n",
    "    min_1 = min(diff_list)\n",
    "    # need to check that there are not two min values in list\n",
    "    diff_list_copy = diff_list.copy()\n",
    "    diff_list_copy.remove(min_1)\n",
    "    min_2 = min(diff_list_copy)\n",
    "    # if just one min value, return the corresponding nearest cliff.\n",
    "    if abs(min_1-min_2) > 10**(-8):\n",
    "        return (cliff_angs[diff_list.index(min(diff_list))])\n",
    "    # if two min values (ie two cliff gates equidistant) randomly choose the cliff gate to return.\n",
    "    else:\n",
    "        index_list = [diff_list.index(min_1), diff_list_copy.index(min_2)]\n",
    "        index = random.choice(index_list)\n",
    "        return(cliff_angs[index])\n",
    "\n",
    "# vectorize so function can take array of angles.\n",
    "ClosestClifford = np.vectorize(ClosestClifford)"
   ]
  },
  {
   "cell_type": "markdown",
   "metadata": {},
   "source": [
    "Below is the function that takes one circuit of interest and constructs a trianing set by randon projections. This means that a given number of the non-Clifford gates in the circuit are selected and projected to their closest Clifford gate leaving N non-Cliffords. This process is repeated, producing a set of randomly projected Clifford dominated circuits."
   ]
  },
  {
   "cell_type": "code",
   "execution_count": 18,
   "metadata": {},
   "outputs": [],
   "source": [
    "def TrainingCircuitsConstructor(\n",
    "    data: np.ndarray,\n",
    "    size: int ,\n",
    "    N: int\n",
    ")-> np.ndarray:\n",
    "    \"\"\"Function that takes the original circuit and creates a training set with a given number of non-cliffords and total size.\n",
    "    Args:\n",
    "        data: data of the circuit of interst.\n",
    "        size: number of Clifford projected circuits to return (size of training set).\n",
    "        N: Number of non-Clifford gates to leave in each ciruit in the trianing set.\n",
    "    \"\"\"\n",
    "    circ_data=[]\n",
    "    mask_rz = data[1,:] == 'rz'\n",
    "    rz_circ_data = data[:,mask_rz]\n",
    "    mask_not_rz = data[1,:] != 'rz'\n",
    "    not_rz_circ_data = data[:,mask_not_rz]\n",
    "    mask_non_cliff = CliffordChecker(rz_circ_data[2,:]) == False\n",
    "    rz_non_cliff = rz_circ_data[:,mask_non_cliff]\n",
    "    mask_cliff = CliffordChecker(rz_circ_data[2,:]) == True\n",
    "    rz_cliff = rz_circ_data[:,mask_cliff]\n",
    "    tot_n_non_cliff = len(rz_non_cliff[0])\n",
    "    all_cliff = np.column_stack((not_rz_circ_data, rz_cliff))\n",
    "    for s in range(size):\n",
    "        random_columns = random.sample(np.arange(0,tot_n_non_cliff,1).tolist(),tot_n_non_cliff-N)\n",
    "        rand_rz_non_cliff_proj = rz_non_cliff.copy()[:,random_columns]\n",
    "        rand_rz_non_cliff_proj[2,:] = ClosestClifford(rand_rz_non_cliff_proj[2,:])\n",
    "        new_circ = np.column_stack((all_cliff, rand_rz_non_cliff_proj))\n",
    "        i = np.argsort(new_circ[0,:])\n",
    "        final = new_circ[:,i]\n",
    "        circ_data.append(final)\n",
    "    return(circ_data)"
   ]
  },
  {
   "cell_type": "code",
   "execution_count": 19,
   "metadata": {},
   "outputs": [],
   "source": [
    "def NoiseIncrease(\n",
    "    circ: QPROGRAM, \n",
    "    scale_factor: int\n",
    ")-> QPROGRAM:\n",
    "    '''Function to scale the noise in the same manner to all circuits - circuit of interest and circuits in trianing set.\n",
    "    \n",
    "    Args:\n",
    "        circ: circuit object\n",
    "        scale_factor: the scale factor with which to scale the noise level.\n",
    "    Returns:\n",
    "        folded_circ: the new circuit with increased noise.\n",
    "    '''\n",
    "    # Just going to put one example of noise increasing here, this needs to be generalised. \n",
    "    folded_circ = fold_gates_at_random( circ, scale_factor=scale_factor, fidelities={\"single\": 1.0,\n",
    "                                       \"CNOT\": 0.99})\n",
    "    return(folded_circ)"
   ]
  },
  {
   "cell_type": "markdown",
   "metadata": {},
   "source": [
    "## Utility functions for Qiskit \n",
    "Here we define some functions that are important to extract the desired quantities from the Qiskit simulation/ real device data."
   ]
  },
  {
   "cell_type": "code",
   "execution_count": 20,
   "metadata": {},
   "outputs": [],
   "source": [
    "def binarize(\n",
    "    decimal: float, \n",
    "    L: int\n",
    ")-> float:\n",
    "    \"\"\"Converts a decimal number <=2**L to binary. It is used to make the qiskit convention and the usual \n",
    "    description of the basis of an L-spin system compatible.\n",
    "    \n",
    "    Args:\n",
    "        decimal: (float) Number in base 10 to be converted to binary.\n",
    "        L: (float) Total number of qubits in the system.\n",
    "    Returns:\n",
    "        (string) Number described by the parameter 'decimal' in binary.\n",
    "    \"\"\"\n",
    "    binario = np.zeros(L)\n",
    "    bin = ''\n",
    "    for i in range(L):\n",
    "        binario[L - 1 - i] = decimal % 2\n",
    "        decimal = decimal // 2\n",
    "        bin = bin + str(binario.astype(int)[L - 1 - i])\n",
    "\n",
    "    return bin[::-1]"
   ]
  },
  {
   "cell_type": "code",
   "execution_count": 21,
   "metadata": {},
   "outputs": [],
   "source": [
    "def expected_value(\n",
    "    Obs: np.ndarray,\n",
    "    state: dict\n",
    ")-> float:\n",
    "    \"\"\"Calculates the expected value of a diagonal observable.\n",
    "    \n",
    "    Args:\n",
    "        Obs: (numpy.array) Observable in the form of a diagonal matrix.\n",
    "        state: (dict) Dictionary describing the state of the system on which the expected value of the observable is to\n",
    "        be calculated.\n",
    "        \n",
    "    Returns:\n",
    "        (float) Expected value <state|Obs|state>.\n",
    "    \"\"\"\n",
    "    obs = sum([Obs[i, i] * list(state.values())[i] for i in range(np.shape(Obs)[0])])\n",
    "    return obs\n"
   ]
  },
  {
   "cell_type": "code",
   "execution_count": 22,
   "metadata": {},
   "outputs": [],
   "source": [
    "def state_counts(\n",
    "    counts: dict\n",
    ")-> dict:\n",
    "    \"\"\"Expresses the result of the simulation in the usual way, that is, in the form of a dictionary whose values are\n",
    "    the module squared of the components of the final state.\n",
    "    \n",
    "    Args:\n",
    "        counts: (dict) Dictionary included in Qiskit result class that allows that allows to get the histogram\n",
    "        data of an experiment.\n",
    "        \n",
    "    Returns:\n",
    "        state (dict) Dictionary whose keys are the base elements of the L qubit system and whose values are the\n",
    "        modulus of the corresponding squared amplitudes.\n",
    "    \"\"\"\n",
    "    L = len(list(counts)[0])\n",
    "    basis = {i: binarize(i, L) for i in range(2 ** L)}\n",
    "    counts_order = [0 for i in range(2 ** L)]\n",
    "    for i in range(len(basis)):\n",
    "        for j in range(len(counts)):\n",
    "            if list(basis.values())[i] == list(counts)[j][::-1]:\n",
    "                counts_order[i] = list(counts.values())[j]\n",
    "    normalization = 0\n",
    "    for i in range(2 ** L):\n",
    "        normalization += counts_order[i]\n",
    "\n",
    "    state = {list(basis.values())[i]: counts_order[i] / normalization for i in range(2 ** L)}\n",
    "    return state\n",
    "\n"
   ]
  },
  {
   "cell_type": "code",
   "execution_count": 23,
   "metadata": {},
   "outputs": [],
   "source": [
    "def Magnetization(\n",
    "    j: float, \n",
    "    L: float\n",
    ")-> sci.sparse.csc_matrix:\n",
    "    \"\"\"Generation of the local magnetization (sigma_z) operator.\n",
    "    \n",
    "    Args:\n",
    "        j: (float) Label of the qubit on which its magnetization is to be calculated.\n",
    "        L: (float) Total number of qubits in the system.\n",
    "    Return:\n",
    "        Hz (scipy.sparse.csc_matrix of dimension 2**L) Magnetization operator for qubit j in matrix form\n",
    "    \"\"\"\n",
    "    sigmaz = scs.csc_matrix([[1, 0], [0, -1]])\n",
    "    Id = scs.identity(2,format='csc')\n",
    "    Hz = scs.csc_matrix((2**L, 2**L))\n",
    "    Hzj = Id\n",
    "    if j == 0:\n",
    "        Hzj = sigmaz\n",
    "    for i in range(L - 1):\n",
    "        if i < j - 1:\n",
    "            Hzj = scs.kron(Hzj, Id, format='csc')\n",
    "        elif i == j - 1:\n",
    "            Hzj = scs.kron(Hzj, sigmaz, format='csc')\n",
    "        elif j - 1 < i < L - 1:\n",
    "            Hzj = scs.kron(Hzj, Id, format='csc')\n",
    "    Hz = Hz + Hzj\n",
    "    return Hz\n"
   ]
  },
  {
   "cell_type": "markdown",
   "metadata": {},
   "source": [
    "## Execute and Simulate functions\n",
    "Here we define the functions that execute a given circuit on a 'real' device (in this case we use a simulated device with a given noise model), and execute a circuit on a exact simulator. These two functions are then used to build the training set data, consisting of exact and noisy expectation values.\n",
    "\n",
    "Here the executor takes any circuit and runs it on a simulation of the IBMQ Bogota computer, with a simulated noise model. The float that is returned is the expectation value of the $\\sigma_{z}$ observable at some position. \n"
   ]
  },
  {
   "cell_type": "code",
   "execution_count": 101,
   "metadata": {},
   "outputs": [],
   "source": [
    "def executor(\n",
    "    circ: QPROGRAM, \n",
    ")-> float:\n",
    "    '''\n",
    "    Function to run my noisey circuits, being treated as real backend. Measures <sigma_z> on first qubit,\n",
    "    assuming all qubits are measured.\n",
    "    \n",
    "    Args: \n",
    "        circ: quantum circuit to be evaluated.        \n",
    "    returns:\n",
    "        <sigma_z>: returns the observable at the given position with simulated device noise.\n",
    "    '''\n",
    "    position = 1\n",
    "    device = 'ibmq_bogota'\n",
    "    qubits = len(circ.qubits)\n",
    "    obs = Magnetization(position, qubits)\n",
    "    try:\n",
    "        real_device = provider.get_backend(device)\n",
    "        coupling_map = real_device.configuration().coupling_map\n",
    "        noise_model = aern.NoiseModel.from_backend(real_device)\n",
    "    except:\n",
    "        real_device = provider.get_backend(device)\n",
    "        coupling_map = real_device.configuration().coupling_map\n",
    "        noise_model = aern.NoiseModel.from_backend(real_device)\n",
    "    job = execute(circ, Aer.get_backend('qasm_simulator'),\n",
    "              optimization_level=0, shots=8192, noise_model=noise_model, \n",
    "                  basis_gates=noise_model.basis_gates, coupling_map=coupling_map)\n",
    "    result = job.result()\n",
    "    counts = result.get_counts()\n",
    "    counts = {k.replace(' ', ''): v for k, v in counts.items()}\n",
    "    state = state_counts(counts)\n",
    "    sigma_z = expected_value(obs, state)\n",
    "    return(sigma_z)"
   ]
  },
  {
   "cell_type": "markdown",
   "metadata": {},
   "source": [
    "The simulator function is the same as the executor but returns exact results (up to shot noise)."
   ]
  },
  {
   "cell_type": "code",
   "execution_count": 104,
   "metadata": {},
   "outputs": [],
   "source": [
    "def simulator(\n",
    "    circ: QPROGRAM, \n",
    ")-> float:\n",
    "    '''Function to run my noisey circuits, being treated as real backend. Measures <sigma_z> on a given qubit specified\n",
    "    by the position variable assuming all qubits are measured.\n",
    "    \n",
    "    Args: \n",
    "        circ: quantum circuit to be evaluated. \n",
    "        \n",
    "    returns:\n",
    "        <sigma_z>: returns the exact observable at the given position but includes shot noise.\n",
    "    '''\n",
    "    position = 1\n",
    "    qubits = len(circ.qubits)\n",
    "    obs = Magnetization(position, qubits)\n",
    "    job = execute(circ, Aer.get_backend('qasm_simulator'),\n",
    "              optimization_level=0, shots=8192)\n",
    "    result = job.result()\n",
    "    counts = result.get_counts()\n",
    "    counts = {k.replace(' ', ''): v for k, v in counts.items()}\n",
    "    state = state_counts(counts)\n",
    "    sigma_z = expected_value(obs, state)\n",
    "    return(sigma_z)"
   ]
  },
  {
   "cell_type": "markdown",
   "metadata": {},
   "source": [
    "With these two functions the training set data can then be generated by passing the training circuits through the exector and simulator functions. Note that due to the currrent definition of these functions each observable will have its own training set used for correction. This means to correct each observable $M$ circuits will need to be evaluated classically and on the real device. In reality this might not be neccesary. One training set could be used to correct many observables (as long as the circuit of interest is not affected by their evaluation, ie many observables diagonal in the z basis could be corrected from the same training set potentially). \n",
    "\n",
    "However, in this tutorial we are only looking at one particular observable, $\\sigma_{z}$ at some provided position, so the way the executor and simulator are defined here is sufficient."
   ]
  },
  {
   "cell_type": "code",
   "execution_count": 105,
   "metadata": {},
   "outputs": [],
   "source": [
    "def TrainingSetGenerator(\n",
    "    circ: QPROGRAM, \n",
    "    scale_factors: list, \n",
    "    M: int, \n",
    "    N: int\n",
    ")-> np.ndarray:\n",
    "    '''Function that takes a circuit of interest and the position of sigma_z observable and paramters to construct the training\n",
    "    set, returns an array of the training data.\n",
    "    \n",
    "    Args: \n",
    "        circ: circuit of interest.\n",
    "        scale_factors: scale factors to increase the noise.\n",
    "        M: size of training set. \n",
    "        N: number of non-Cliffords per circuit in training set.\n",
    "        \n",
    "    Return:\n",
    "        training_data: M by (scale_factors+1) array containing exact and noisy observables at different scale factors. \n",
    "    '''\n",
    "    circ_data, qubits, clbits = CircToArray(circ)\n",
    "    training_circ_data = TrainingCircuitsConstructor(circ_data, M, N)\n",
    "    training_data = np.zeros((M, 1+len(scale_factors)))\n",
    "    for i in range(len(training_circ_data)):\n",
    "        train_circ = ArrayToCirc(training_circ_data[i], qubits, clbits)\n",
    "        training_data[i,0] = simulator(train_circ)\n",
    "        for s, scale_factor in enumerate(scale_factors):\n",
    "            noise_inc_circ = NoiseIncrease(train_circ, scale_factor)\n",
    "            training_data[i,s+1] = executor(noise_inc_circ)\n",
    "    return(training_data)        "
   ]
  },
  {
   "cell_type": "markdown",
   "metadata": {},
   "source": [
    "## Regression functions\n",
    "Below we have the functions that take the training set produced above and fit it with the vnCDR and CDR ansatzes. The fitting is done using the package sklearn for ease of use, but this can be replaced if so desired."
   ]
  },
  {
   "cell_type": "code",
   "execution_count": 106,
   "metadata": {},
   "outputs": [],
   "source": [
    "def vnCDR_mitigate(\n",
    "    train_data: np.ndarray, \n",
    "    circ_data: np.ndarray\n",
    ")->float:\n",
    "    '''Function that uses the training data to perform a regression and return the best fit variables the ansatz used is \n",
    "    a simple linear model. \n",
    "    \n",
    "    Args: \n",
    "        train_data: Data from Clifford circuits used to train the model. \n",
    "        circ_data: Data from actual circuit of interest which the trained model is then used to mitigate.\n",
    "        \n",
    "    Returns:\n",
    "        corrected: mitigated value caluclated using the provided training set.\n",
    "    '''\n",
    "    reg = linear_model.LinearRegression(fit_intercept=False)\n",
    "    \n",
    "    X_train = np.array(train_data[:,1:])\n",
    "    y_train = np.array(train_data[:,0])\n",
    "    X_test = circ_data\n",
    "    X_test.reshape(1,-1)\n",
    "    reg.fit(X_train, y_train)\n",
    "    corr = reg.predict([X_test])\n",
    "    return corr[0]"
   ]
  },
  {
   "cell_type": "markdown",
   "metadata": {},
   "source": [
    "Note below only one noise level is used in the mitigation, as required for CDR."
   ]
  },
  {
   "cell_type": "code",
   "execution_count": 107,
   "metadata": {},
   "outputs": [],
   "source": [
    "def CDR_mitigate(\n",
    "    train_data: np.ndarray, \n",
    "    circ_data: np.ndarray\n",
    ")-> float:\n",
    "    '''Function that uses the training data to perform a regression and return the best fit variables using oly one noise level.\n",
    "    \n",
    "    Args:\n",
    "        train_data: Data from Clifford circuits used to train simple linear anstaz (only one noise level used here).\n",
    "        circ_data: Data from actual circuit of interest which is mitigated by the trained model.\n",
    "        \n",
    "    Returns:\n",
    "        corrected: mitigated observable.\n",
    "    '''\n",
    "    reg = linear_model.LinearRegression(fit_intercept=True)\n",
    "    X_train = np.array(train_data[:,1]).reshape(-1,1)\n",
    "    y_train = np.array(train_data[:,0]).reshape(-1,1)\n",
    "    X_test = circ_data.reshape(1, -1)\n",
    "    reg.fit(X_train, y_train)\n",
    "    corr = reg.coef_[0]*circ_data+reg.intercept_[0]\n",
    "    return corr[0]"
   ]
  },
  {
   "cell_type": "markdown",
   "metadata": {},
   "source": [
    "Now all the functions have been defined we can generate the real data for the circuit of interest at various noise levels."
   ]
  },
  {
   "cell_type": "code",
   "execution_count": 108,
   "metadata": {},
   "outputs": [],
   "source": [
    "def circuit_data(\n",
    "    circ: QPROGRAM,\n",
    "    scale_factors:list\n",
    ")-> np.ndarray:\n",
    "    '''Function that takes a circuit of interest and observable position and returns the observable at scaled noise values.\n",
    "    \n",
    "    Args:\n",
    "        circ: circuit of interest.\n",
    "        scale_factors: list of factors with which to scale the noise.\n",
    "        \n",
    "    Returns:\n",
    "        circ_data: array of observables at increasing noise strength.\n",
    "    '''\n",
    "    circ_data = np.zeros((len(scale_factors)))\n",
    "    for s, scale_factor in enumerate(scale_factors):\n",
    "        noise_inc_circ = NoiseIncrease(circ, scale_factor)\n",
    "        circ_data[s] = executor(noise_inc_circ)\n",
    "    return circ_data\n",
    "    "
   ]
  },
  {
   "cell_type": "code",
   "execution_count": 109,
   "metadata": {},
   "outputs": [],
   "source": [
    "def clifford_data_mitigation(\n",
    "    circ: QPROGRAM, \n",
    "    scale_factors: list, \n",
    "    M: int, \n",
    "    N: int\n",
    ")-> list:\n",
    "    '''Function that takes a circuit and scale factors and returns the vnCDR and CDR mitigations as well as the raw result.\n",
    "    \n",
    "    Args:\n",
    "        circ: quantum circuit of interest. \n",
    "        position: position of sigma_z observable.\n",
    "        scale_factors: scale factors with which to increase the noise.\n",
    "        M: size of the training set used in CDR and vnCDR. \n",
    "        N: number of non-Clifford gates per training set.\n",
    "    \n",
    "    Returns:\n",
    "        vnCDR_mit: result mitigated by vnCDR. \n",
    "        CDR_mit: result mitigated by CDR.\n",
    "        circ_data: raw noisy result.\n",
    "    '''\n",
    "    training_data = TrainingSetGenerator(circ,scale_factors, M, N)\n",
    "    circ_data = circuit_data(circ, scale_factors)\n",
    "    vnCDR_mit = vnCDR_mitigate(training_data, circ_data)\n",
    "    CDR_mit =CDR_mitigate(training_data, circ_data[0])\n",
    "    return vnCDR_mit, CDR_mit, circ_data[0], training_data\n",
    "    "
   ]
  },
  {
   "cell_type": "code",
   "execution_count": 110,
   "metadata": {},
   "outputs": [],
   "source": [
    "def Abs_error(\n",
    "    val_1: float, \n",
    "    val_2:float\n",
    ")->float:\n",
    "    '''Function to calculated the absolute error between two floats\n",
    "    \n",
    "    Args:\n",
    "        val_1: noisy/ mitigated observable. \n",
    "        val_2: exact observable.\n",
    "        \n",
    "    Returns:\n",
    "        absolute error.\n",
    "    '''\n",
    "    return abs(val_1-val_2)/abs(val_2)"
   ]
  },
  {
   "cell_type": "markdown",
   "metadata": {},
   "source": [
    "Now having defined all these functions we can tie them together and compare the performance for the RQC constructed at the beginning of this notebook.\n",
    "\n",
    "First lets define the parameters we will use, in order to do this we should check how many non-Clifford gates there are in our original decomposed circuit of interest:"
   ]
  },
  {
   "cell_type": "code",
   "execution_count": 111,
   "metadata": {},
   "outputs": [
    {
     "name": "stdout",
     "output_type": "stream",
     "text": [
      "Number non-Cliffords: 12\n"
     ]
    }
   ],
   "source": [
    "data, _, _ = CircToArray(circuit_new)\n",
    "mask_rz = data[1,:] == 'rz'\n",
    "rz_circ_data = data[:,mask_rz]\n",
    "mask_not_rz = data[1,:] != 'rz'\n",
    "not_rz_circ_data = data[:,mask_not_rz]\n",
    "mask_non_cliff = CliffordChecker(rz_circ_data[2,:]) == False\n",
    "rz_non_cliff = rz_circ_data[:,mask_non_cliff]\n",
    "print('Number non-Cliffords:', len(rz_non_cliff[0]))"
   ]
  },
  {
   "cell_type": "markdown",
   "metadata": {},
   "source": [
    "We need to use a smaller number than the above result and lets just assume we are only interested in the $\\sigma_{z}$ of the 1st qubit, so lets take the following:"
   ]
  },
  {
   "cell_type": "code",
   "execution_count": 121,
   "metadata": {},
   "outputs": [],
   "source": [
    "scale_factors = [1.0,2.0,3.0,4.0]\n",
    "M=30\n",
    "N=6"
   ]
  },
  {
   "cell_type": "markdown",
   "metadata": {},
   "source": [
    "Now lets execute the vnCDR and CDR mitigation methods. Note this may take some time due to the construction of the training set."
   ]
  },
  {
   "cell_type": "code",
   "execution_count": 122,
   "metadata": {},
   "outputs": [
    {
     "name": "stdout",
     "output_type": "stream",
     "text": [
      "Data regression underway\n",
      "Running exact simulation (with shot noise)\n"
     ]
    }
   ],
   "source": [
    "print('Data regression underway')\n",
    "vnCDR_mit, CDR_mit, noisy, training_data = clifford_data_mitigation(circuit_new, scale_factors[0:2],M,N)\n",
    "print('Running exact simulation (with shot noise)')\n",
    "exact = simulator(circuit_new)"
   ]
  },
  {
   "cell_type": "code",
   "execution_count": 123,
   "metadata": {},
   "outputs": [
    {
     "name": "stdout",
     "output_type": "stream",
     "text": [
      "exact 0.2412109375\n",
      "noisy 0.199462890625\n",
      "vnCDR mitigated 0.29372036099614485\n",
      "CDR mitigated 0.2541280757840263\n"
     ]
    }
   ],
   "source": [
    "print('exact',exact)\n",
    "print('noisy', noisy)\n",
    "print('vnCDR mitigated', vnCDR_mit)\n",
    "print('CDR mitigated', CDR_mit)"
   ]
  },
  {
   "cell_type": "markdown",
   "metadata": {},
   "source": [
    "Lets have a look at the observables in the training set that are used to understand the noise. This is often an important step in investigating how effective the training set construction method is, and if the mitigation can be improved."
   ]
  },
  {
   "cell_type": "code",
   "execution_count": 124,
   "metadata": {},
   "outputs": [
    {
     "data": {
      "image/png": "[encoded data removed]",
      "text/plain": [
       "<Figure size 432x288 with 1 Axes>"
      ]
     },
     "metadata": {
      "needs_background": "light"
     },
     "output_type": "display_data"
    },
    {
     "data": {
      "image/png": "[encoded data removed]",
      "text/plain": [
       "<Figure size 432x288 with 1 Axes>"
      ]
     },
     "metadata": {
      "needs_background": "light"
     },
     "output_type": "display_data"
    }
   ],
   "source": [
    "noise_level=1\n",
    "exact_observables = training_data[:,0]\n",
    "noise_1_observables = training_data[:,noise_level]\n",
    "plt.figure(1)\n",
    "plt.hist(exact_observables, bins=10, alpha=0.7, label = 'exact')\n",
    "plt.hist(noise_1_observables, bins=10, alpha = 0.7, label = 'noisy')\n",
    "plt.legend()\n",
    "plt.xlabel(r'$\\sigma_{z}$')\n",
    "plt.ylabel('frequency')\n",
    "plt.show()\n",
    "plt.figure(2)\n",
    "plt.scatter(exact_observables, noise_1_observables)\n",
    "plt.xlabel('exact')\n",
    "plt.ylabel('noisy (1st noise level)')\n",
    "plt.show()"
   ]
  },
  {
   "cell_type": "markdown",
   "metadata": {},
   "source": [
    "In general a training set with a diverse range of both noisy and exact values is more effective and giving an accurate mitigation. These diverse training sets require more complex methods of construction that random projection."
   ]
  },
  {
   "cell_type": "markdown",
   "metadata": {},
   "source": [
    "We can also run ZNE with various fitting forms for a comparison:"
   ]
  },
  {
   "cell_type": "code",
   "execution_count": 125,
   "metadata": {},
   "outputs": [
    {
     "name": "stdout",
     "output_type": "stream",
     "text": [
      "ZNE underway\n"
     ]
    }
   ],
   "source": [
    "print('ZNE underway')\n",
    "# method: scale noise by 1 and 2, then extrapolate linearly to the zero noise limit.\n",
    "linear_fac = LinearFactory(scale_factors=scale_factors[0:2])\n",
    "\n",
    "# method: scale noise by 1, 2 and 3, then evaluate the Richardson extrapolation.\n",
    "richardson_fac = RichardsonFactory(scale_factors=scale_factors[0:3])\n",
    "\n",
    "# method: scale noise by 1, 2, 3, and 4, then extrapolate quadratically to the zero noise limit.\n",
    "poly_fac = PolyFactory(scale_factors=scale_factors, order=2)\n",
    "\n",
    "# method: scale noise by 1, 2, 3, and 4, then extrapolate exponentially to the zero noise limit.\n",
    "exp_fac = ExpFactory(scale_factors=scale_factors)\n",
    "\n",
    "lin_zne = linear_fac.run(circuit_new, executor, scale_noise=partial(fold_gates_at_random, fidelities={\"single\": 1.0,\"CNOT\": 0.99}))\n",
    "rich_zne = richardson_fac.run(circuit_new, executor, scale_noise=partial(fold_gates_at_random, fidelities={\"single\": 1.0,\"CNOT\": 0.99}))\n",
    "poly_zne = poly_fac.run(circuit_new, executor, scale_noise=partial(fold_gates_at_random, fidelities={\"single\": 1.0,\"CNOT\": 0.99}))\n",
    "exp_zne = exp_fac.run(circuit_new, executor, scale_noise=partial(fold_gates_at_random, fidelities={\"single\": 1.0,\"CNOT\": 0.99}))\n"
   ]
  },
  {
   "cell_type": "markdown",
   "metadata": {},
   "source": [
    "Finally lets compare the results:"
   ]
  },
  {
   "cell_type": "code",
   "execution_count": 126,
   "metadata": {},
   "outputs": [
    {
     "name": "stdout",
     "output_type": "stream",
     "text": [
      "Absolute errors:\n",
      "lin_zne error 0.18522267206477766\n",
      "rich_zne error 8.719635627530396\n",
      "poly_zne error 0.17636639676113383\n",
      "vnCDR error 0.2176908893119527\n",
      "CDR_mit error 0.05355121296697542\n",
      "noisy error 0.17307692307692307\n"
     ]
    }
   ],
   "source": [
    "print('Absolute errors:')\n",
    "try:\n",
    "    zne_lin = execute_with_zne(circuit_new, executor, factory=linear_fac)\n",
    "    print('lin_zne error', Abs_error(zne_lin, exact))\n",
    "except:\n",
    "    zne_lin = None\n",
    "try:\n",
    "    zne_rich = execute_with_zne(circuit_new, executor, factory=richardson_fac)\n",
    "    print('rich_zne error', Abs_error(zne_rich, exact))\n",
    "except:\n",
    "    zne_rich = None\n",
    "try:\n",
    "    zne_poly = execute_with_zne(circuit_new, executor, factory=poly_fac)\n",
    "    print('poly_zne error', Abs_error(zne_poly, exact))\n",
    "except:\n",
    "    zne_poly = None\n",
    "try:\n",
    "    zne_exp = execute_with_zne(circuit_new, executor, factory=exp_fac)\n",
    "    print('exp_zne error', Abs_error(zne_exp, exact))\n",
    "except:\n",
    "    zne_exp = None\n",
    "\n",
    "\n",
    "print('vnCDR error', Abs_error(vnCDR_mit, exact))\n",
    "print('CDR_mit error', Abs_error(CDR_mit, exact))\n",
    "print('noisy error', Abs_error(noisy, exact))\n",
    "\n"
   ]
  },
  {
   "cell_type": "markdown",
   "metadata": {},
   "source": [
    "Hopefully one can see that the results from Clifford based methods are superior. This may vary according to the noise model from the IBM computer, which does change. Lets explore how the noisy results are changing with increased noise level, this is always something important to look at to inform the best extrpolation method to use."
   ]
  },
  {
   "cell_type": "code",
   "execution_count": 127,
   "metadata": {},
   "outputs": [],
   "source": [
    "circuit_data_example = circuit_data(circuit_new, scale_factors)"
   ]
  },
  {
   "cell_type": "code",
   "execution_count": 128,
   "metadata": {},
   "outputs": [
    {
     "data": {
      "image/png": "[encoded data removed]",
      "text/plain": [
       "<Figure size 432x288 with 1 Axes>"
      ]
     },
     "metadata": {
      "needs_background": "light"
     },
     "output_type": "display_data"
    }
   ],
   "source": [
    "plt.figure(1)\n",
    "plt.scatter(scale_factors, circuit_data_example, label = 'noisy', color = 'blue')\n",
    "plt.scatter([0], [exact], label = 'exact', color = 'black')\n",
    "plt.scatter([0], [zne_lin], label = 'zne_lin', color = 'red', marker = '*')\n",
    "plt.scatter([0], [vnCDR_mit], label = 'vnCDR', color = 'green', marker = '+')\n",
    "plt.scatter([0], [CDR_mit], label = 'CDR', color = 'green', marker = 'o')\n",
    "plt.xlabel('Noise level')\n",
    "plt.ylabel(r'$\\sigma_{z}$')\n",
    "plt.legend()\n",
    "plt.show()"
   ]
  },
  {
   "cell_type": "markdown",
   "metadata": {},
   "source": [
    "It is also important to explore convergence for the CDR and vnCDR methods, let have a look at how the accuracy of the solution changes with increasing training set size and number of non-Cliffords."
   ]
  },
  {
   "cell_type": "code",
   "execution_count": 130,
   "metadata": {},
   "outputs": [
    {
     "name": "stdout",
     "output_type": "stream",
     "text": [
      "Data regression underway\n"
     ]
    }
   ],
   "source": [
    "M_2 = 10\n",
    "M_3 = 20\n",
    "print('Data regression underway')\n",
    "vnCDR_mit_M_2, CDR_mit_M_2, noisy_M_2, _ = clifford_data_mitigation(circuit_new, scale_factors, M_2, N)\n",
    "vnCDR_mit_M_3, CDR_mit_M_3, noisy_M_3, _ = clifford_data_mitigation(circuit_new, scale_factors, M_3, N)"
   ]
  },
  {
   "cell_type": "markdown",
   "metadata": {},
   "source": [
    "Lets see how this looks on a graph:"
   ]
  },
  {
   "cell_type": "code",
   "execution_count": 131,
   "metadata": {},
   "outputs": [
    {
     "data": {
      "image/png": "[encoded data removed]",
      "text/plain": [
       "<Figure size 432x288 with 1 Axes>"
      ]
     },
     "metadata": {
      "needs_background": "light"
     },
     "output_type": "display_data"
    }
   ],
   "source": [
    "plt.figure(2)\n",
    "plt.plot([M_2,M_3,M], [Abs_error(noisy_M_2, exact), Abs_error(noisy_M_3, exact), Abs_error(noisy, exact)],\n",
    "         label = 'noisy', color = 'black')\n",
    "plt.plot([M_2,M_3,M], [Abs_error(zne_lin, exact), Abs_error(zne_lin, exact), Abs_error(zne_lin, exact)],\n",
    "         label = 'lin zne', color = 'black', ls='--')\n",
    "plt.plot([M_2,M_3,M], [Abs_error(vnCDR_mit_M_2, exact), Abs_error(vnCDR_mit_M_3,exact), Abs_error(vnCDR_mit, exact)],\n",
    "         label = 'vnCDR', color = 'red')\n",
    "plt.plot([M_2,M_3,M], [Abs_error(CDR_mit_M_2, exact), Abs_error(CDR_mit_M_3,exact), Abs_error(CDR_mit, exact)],\n",
    "         label = 'CDR', color = 'blue')\n",
    "plt.legend()\n",
    "plt.ylabel('Absolute error')\n",
    "plt.xlabel('Training set size')\n",
    "plt.tight_layout()\n",
    "plt.show()"
   ]
  },
  {
   "cell_type": "markdown",
   "metadata": {},
   "source": [
    "Convergence is observed with training set size. In general the CDR method converges more slowly. When converged both regression methods show an improvement over linear ZNE, but their performance is very similar. Due to the training set construction method, the convergence observed can be very quick or more slow, depending on how lucky one gets when completeing the Clifford projections. It can also be quite discontinous without doing any repeats, so the above graph may appear a little odd.\n",
    "\n",
    "We should also see some convergence with the number of non-Cliffords, lets explore that:"
   ]
  },
  {
   "cell_type": "code",
   "execution_count": 133,
   "metadata": {},
   "outputs": [
    {
     "name": "stdout",
     "output_type": "stream",
     "text": [
      "Data regression underway\n"
     ]
    }
   ],
   "source": [
    "N_2 = 1\n",
    "N_3 = 3\n",
    "print('Data regression underway')\n",
    "vnCDR_mit_N_2, CDR_mit_N_2, noisy_N_2, _ = clifford_data_mitigation(circuit_new, scale_factors,M, N_2)\n",
    "vnCDR_mit_N_3, CDR_mit_N_3, noisy_N_3, _ = clifford_data_mitigation(circuit_new, scale_factors,M, N_3)"
   ]
  },
  {
   "cell_type": "code",
   "execution_count": 134,
   "metadata": {},
   "outputs": [
    {
     "data": {
      "image/png": "[encoded data removed]",
      "text/plain": [
       "<Figure size 432x288 with 1 Axes>"
      ]
     },
     "metadata": {
      "needs_background": "light"
     },
     "output_type": "display_data"
    }
   ],
   "source": [
    "plt.figure(3)\n",
    "plt.plot([N_2,N_3,N], [Abs_error(noisy_N_2, exact), Abs_error(noisy_N_3, exact), Abs_error(noisy, exact)],\n",
    "         label = 'noisy', color = 'black')\n",
    "plt.plot([N_2,N_3,N], [Abs_error(zne_lin, exact), Abs_error(zne_lin, exact), Abs_error(zne_lin, exact)],\n",
    "         label = 'lin zne', color = 'black', ls='--')\n",
    "plt.plot([N_2,N_3,N], [Abs_error(vnCDR_mit_N_2, exact), Abs_error(vnCDR_mit_N_3,exact), Abs_error(vnCDR_mit, exact)],\n",
    "         label = 'vnCDR', color = 'red')\n",
    "plt.plot([N_2,N_3,N], [Abs_error(CDR_mit_N_2, exact), Abs_error(CDR_mit_N_3,exact), Abs_error(CDR_mit, exact)],\n",
    "         label = 'CDR', color = 'blue')\n",
    "plt.legend()\n",
    "plt.ylabel('Absolute error')\n",
    "plt.xlabel('Number non-Cliffords')\n",
    "plt.tight_layout()\n",
    "plt.show()"
   ]
  },
  {
   "cell_type": "markdown",
   "metadata": {},
   "source": [
    "In the plots above convergence can be difficult to see clearly due to the random nature of the training set construction method. That makes for quite a lot of fluctuation in the quality of the mitgiation at various training set parameters. "
   ]
  }
 ],
 "metadata": {
  "kernelspec": {
   "display_name": "Python 3.7.4 64-bit ('TNS': conda)",
   "language": "python",
   "name": "python37464bittnsconda6861d4d39a8a4ab8a131cf44dc9bd38f"
  },
  "language_info": {
   "codemirror_mode": {
    "name": "ipython",
    "version": 3
   },
   "file_extension": ".py",
   "mimetype": "text/x-python",
   "name": "python",
   "nbconvert_exporter": "python",
   "pygments_lexer": "ipython3",
   "version": "3.7.9"
  },
  "varInspector": {
   "cols": {
    "lenName": 16,
    "lenType": 16,
    "lenVar": 40
   },
   "kernels_config": {
    "python": {
     "delete_cmd_postfix": "",
     "delete_cmd_prefix": "del ",
     "library": "var_list.py",
     "varRefreshCmd": "print(var_dic_list())"
    },
    "r": {
     "delete_cmd_postfix": ") ",
     "delete_cmd_prefix": "rm(",
     "library": "var_list.r",
     "varRefreshCmd": "cat(var_dic_list()) "
    }
   },
   "types_to_exclude": [
    "module",
    "function",
    "builtin_function_or_method",
    "instance",
    "_Feature"
   ],
   "window_display": false
  }
 },
 "nbformat": 4,
 "nbformat_minor": 4
}

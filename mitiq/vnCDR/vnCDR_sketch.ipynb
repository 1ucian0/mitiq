{
 "cells": [
  {
   "cell_type": "markdown",
   "metadata": {},
   "source": [
    "# vnCDR sketch with Qiskit\n"
   ]
  },
  {
   "cell_type": "markdown",
   "metadata": {},
   "source": [
    "This notebook shows the skeleton for a working variable noise Clifford data regression (vnCDR) implementation for a given circuit. The vnCDR training set construction is completed using Qiskit. A single instance of a random quantum circuit is used to explore performance relative to Clifford data regression (CDR) and ZNE with various functional extrapolations. \n",
    "\n",
    "First, let’s review the vnCDR and CDR methods to remind ourselves of how these methods work and the elements necessary. vnCDR is the more general setting and is also expected to provide better mitigated results on average, so we will focus on the formalism for this method when presenting the necessary steps. \n",
    "\n",
    "## vnCDR \n",
    "vnCDR is a data driven error mitigation method. That means data from many quantum circuits is used to mitigate the effect of noise produced by one circuit of interest. vnCDR uses data from circuits which are classically simulable evaluated both classically (using a simulator) and on a real device at various levels of hardware noise. This data set is then used to train an ansatz mapping the noisy to exact data. The trained ansatz is used to mitigate the effect of the noise on the circuit of interest evaluated at different hardware noise scale factors. \n",
    "\n",
    "More formally, let $U$ be a quantum circuit which we are interested in, $|0 \\rangle$ its initial state, and $X$ an observable of interest. We want to estimate the expectation value $\\mu = \\langle 0|U^{+} X U |0 \\rangle$ from measurements on a noisy quantum device. We can mitigate the effect of noise using the following procedure:\n",
    "\n",
    "- (Clifford data) Choose a set of circuits $\\mathcal{S} = \\{V_i\\}_{i=1}^m$ based on $U$ which will be used to form the training set $\\mathcal{T}$ in step 3. The circuits in $\\mathcal{S}$ must be efficient to simulate classically, which is ensured by constructing them primarily from Clifford gates. The number of non-Cliffords used is denoted by $N$. Note that $N$ is assumed to be a constant parameter here, so the simulations are classically tractable. \n",
    "\n",
    "    \n",
    "- (Noise data) Choose a set of noise scale factors $\\mathcal{C}=\\{\\lambda_0,\\lambda_1,\\dots,\\lambda_n\\}$ where $1 = \\lambda_0 < \\lambda_1 < \\dots < \\lambda_n$ which will be used to form the training set $\\mathcal{T}$ in step 3. If the noise is characterized by a parameter $\\epsilon$ then running the device with noise level $\\lambda_j$ means the new parameter is $c_j\\epsilon$.\n",
    "    \n",
    "- (Training set)  For each of the $m$ circuits $V_i$ in $\\mathcal{S}$ and $n+1$ noise scale factors $\\lambda_j\\in \\mathcal{C}$, produce an estimate of the observable expectation called $x_{i, j}$. Also, for each of the $m$ circuits compute $y_i = \\langle 0|V_i^{+} X V_i |0 \\rangle$ using a classical simulation. The training set $\\mathcal{T}$ is then defined as $\\mathcal{T} = \\{(\\vec{x}_i, y_i)\\}$ where $\\vec{x}_i = (x_{i,0},\\dots,x_{i,n})$ is the vector of noisy estimates originating from the $i^\\text{th}$ circuit.\n",
    "\n",
    "- (Learning) Learn a function $f : \\mathbb{R}^n \\to \\mathbb{R}$ that takes a set of noisy estimates at the $n+1$ different noise scale factors and outputs an estimate for the noise-free value. Specifically, we take the linear ansatz $g : \\mathbb{R}^n \\times \\mathbb{R}^n \\to \\mathbb{R}$,\n",
    "\n",
    "\\begin{equation}\n",
    "           g(\\vec{x}; \\vec{a}) = \\vec{a}\\cdot\\vec{x}\\\n",
    "\\end{equation}\n",
    "\n",
    "We use least-squares regression on the dataset $\\mathcal{T}$ to pick optimal parameters $\\vec{a}^*$, i.e.,\n",
    "\n",
    "\\begin{align}\n",
    "        \\vec{a}^* = \\underset{\\vec{a}}{\\text{argmin}} \\sum_{i=1}^m \\left(y_i - g(\\vec{x}_i; \\vec{a})\\right)^2\\,,\n",
    "\\end{align}\n",
    "    \n",
    "so that we expect $f(\\vec{x}) = g(\\vec{x}; \\vec{a}^*)$ to output a good estimate for the noise-free expected value given a vector of noisy ones.\n",
    "    \n",
    "- (Correction) Use the estimate $\\hat{\\mu} = \\vec{a}^*\\cdot\\vec{\\mu}$, where $\\vec{\\mu} = (\\hat{\\mu}_0,\\dots,\\hat{\\mu}_n)$ is comprised of the $n+1$ noisy expectations for the original circuit.\n",
    "\n",
    "## CDR \n",
    "\n",
    "There are two important distinctions between CDR and vnCDR. CDR does not use multiple hardware noise scale factors. Therefore there is not a vector of data for each circuit in the training set just a singular point. This also leads to the trianed ansatz being different. In the case of CDR the training set consisting of the noisy evaluated trianing circuits and their exact values are used to train a linear ansatz: \n",
    "\\begin{equation}\n",
    "           g(x; a, b) = ax + c.\n",
    "\\end{equation}\n",
    "\n",
    "## Important features\n",
    "\n",
    "Two important considerations when implementing vnCDR and CDR are how hardware noise is increased and how the circuits in the training set are constructed from the circuit of interest. In this sketch we present the simplest form of training set construction and hardware noise level increase. \n",
    "\n",
    "To construct the trianing set of classically simulable circuits here we randomly select a certain number of the non-Clifford gates in our circuit of interest and project them to their nearest Clifford gate, leaving $N$ non-Cliffords. This process is repeated $M$ times, giving a training set of size $M$. \n",
    "\n",
    "Noise is incrased by inserting identites formed of repeated CNOT gates. This is done using the unitary folding method provided in the mitiq package. \n",
    "\n",
    "The perforance of the mitigation is expected to converge with the number of non-Clifford gates in the training set circuits ($N$) and the number of circuits in the training set ($M$).\n",
    "\n"
   ]
  },
  {
   "cell_type": "markdown",
   "metadata": {},
   "source": [
    "## Imports"
   ]
  },
  {
   "cell_type": "code",
   "execution_count": 1,
   "metadata": {},
   "outputs": [],
   "source": [
    "from qiskit import execute, QuantumCircuit, QuantumRegister, IBMQ, Aer, compiler\n",
    "from qiskit.circuit.random import random_circuit\n",
    "import numpy as np\n",
    "import scipy as sci\n",
    "import matplotlib.pyplot as plt\n",
    "import scipy.sparse as scs\n",
    "from typing import Callable, Optional\n",
    "from functools import wraps\n",
    "from mitiq._typing import QPROGRAM\n",
    "import numpy as np\n",
    "from sklearn import linear_model\n",
    "from operator import itemgetter\n",
    "from qiskit.circuit import QuantumRegister, ClassicalRegister, QuantumCircuit\n",
    "from qiskit.circuit import Reset\n",
    "from qiskit.circuit.library.standard_gates import (IGate, U1Gate, U2Gate, U3Gate, XGate,\n",
    "                                                   YGate, ZGate, HGate, SGate, SdgGate, TGate,\n",
    "                                                   TdgGate, RXGate, RYGate, RZGate, CXGate,\n",
    "                                                   CYGate, CZGate, CHGate, CRZGate, CU1Gate,\n",
    "                                                   CU3Gate, SwapGate, RZZGate,\n",
    "                                                   CCXGate, CSwapGate)\n",
    "from qiskit.providers.aer import QasmSimulator, StatevectorSimulator, UnitarySimulator\n",
    "from qiskit.providers.aer.noise import NoiseModel\n",
    "from qiskit.providers.aer.noise import QuantumError, ReadoutError\n",
    "from qiskit.providers.aer.noise import pauli_error\n",
    "from qiskit.providers.aer.noise import depolarizing_error\n",
    "from qiskit.providers.aer.noise import thermal_relaxation_error\n",
    "import qiskit.providers.aer.noise as aern\n",
    "from math import e\n",
    "from qiskit.circuit.exceptions import CircuitError\n",
    "from qiskit.util import deprecate_arguments\n",
    "import random\n",
    "from mitiq.zne.scaling import fold_gates_at_random\n",
    "from mitiq.zne.zne import execute_with_zne\n",
    "from mitiq.zne.inference import LinearFactory, RichardsonFactory, PolyFactory, ExpFactory\n",
    "from functools import partial\n"
   ]
  },
  {
   "cell_type": "markdown",
   "metadata": {},
   "source": [
    "## Load IBMQ account"
   ]
  },
  {
   "cell_type": "code",
   "execution_count": 2,
   "metadata": {},
   "outputs": [
    {
     "name": "stderr",
     "output_type": "stream",
     "text": [
      "C:\\Users\\Max\\Anaconda3\\envs\\TNS\\lib\\site-packages\\qiskit\\providers\\ibmq\\ibmqfactory.py:192: UserWarning: Timestamps in IBMQ backend properties, jobs, and job results are all now in local time instead of UTC.\n",
      "  warnings.warn('Timestamps in IBMQ backend properties, jobs, and job results '\n"
     ]
    }
   ],
   "source": [
    "IBMQ.load_account()\n",
    "provider = IBMQ.get_provider(hub='ibm-q-csic', group='internal', project='ift-csic')"
   ]
  },
  {
   "cell_type": "markdown",
   "metadata": {},
   "source": [
    "## Random Quantum Circuit\n",
    "In order to test the performance of vnCDR and CDR we need a test case to run on. Random quantum circuits (RQC) are a good option to use due to their generality. Below is the code to construct random quantum circuits (in Qiskit) composed of U3 and CNOT gates, with no fixed CNOT gate structure.\n"
   ]
  },
  {
   "cell_type": "code",
   "execution_count": 3,
   "metadata": {},
   "outputs": [],
   "source": [
    "def random_circuit(\n",
    "    num_qubits: int, \n",
    "    depth: int, \n",
    "    max_operands: int=2, \n",
    "    measure: bool=True,        \n",
    "    conditional: bool=False, \n",
    "    reset: bool=False, \n",
    "    seed: bool=None\n",
    ")-> QPROGRAM:\n",
    "    \"\"\"Returns random qiskit quantum circuit object, used to test the code here is working properly.\n",
    "    \n",
    "    Args:\n",
    "        num_qubits (int): number of quantum wires\n",
    "        depth (int): layers of operations (i.e. critical path length)\n",
    "        max_operands (int): maximum operands of each gate (between 1 and 3)\n",
    "        measure (bool): if True, measure all qubits at the end\n",
    "        conditional (bool): if True, insert middle measurements and conditionals\n",
    "        reset (bool): if True, insert middle resets\n",
    "        seed (int): sets random seed (optional)\n",
    "\n",
    "    Returns:\n",
    "        qc (QPROGRAM): constructed circuit\n",
    "    \n",
    "    \"\"\"\n",
    "    \n",
    "    if max_operands < 1 or max_operands > 3:\n",
    "        raise CircuitError(\"max_operands must be between 1 and 3\")\n",
    "\n",
    "    one_q_ops = [ U3Gate]\n",
    "    one_param = []\n",
    "    two_param = []\n",
    "    three_param = [U3Gate]\n",
    "    two_q_ops = [CXGate]\n",
    "    three_q_ops = []\n",
    "\n",
    "    qr = QuantumRegister(num_qubits, 'q')\n",
    "    qc = QuantumCircuit(num_qubits)\n",
    "\n",
    "    if measure or conditional:\n",
    "        cr = ClassicalRegister(num_qubits, 'c')\n",
    "        qc.add_register(cr)\n",
    "\n",
    "    if reset:\n",
    "        one_q_ops += [Reset]\n",
    "\n",
    "    if seed is None:\n",
    "        seed = np.random.randint(0, np.iinfo(np.int32).max)\n",
    "    rng = np.random.default_rng(seed)\n",
    "\n",
    "    # apply arbitrary random operations at every depth\n",
    "    for _ in range(depth):\n",
    "        # choose either 1, 2, or 3 qubits for the operation\n",
    "        remaining_qubits = list(range(num_qubits))\n",
    "        while remaining_qubits:\n",
    "            max_possible_operands = min(len(remaining_qubits), max_operands)\n",
    "            num_operands = rng.choice(range(max_possible_operands)) + 1\n",
    "            rng.shuffle(remaining_qubits)\n",
    "            operands = remaining_qubits[:num_operands]\n",
    "            remaining_qubits = [q for q in remaining_qubits if q not in operands]\n",
    "            if num_operands == 1:\n",
    "                operation = rng.choice(one_q_ops)\n",
    "            elif num_operands == 2:\n",
    "                operation = rng.choice(two_q_ops)\n",
    "            elif num_operands == 3:\n",
    "                operation = rng.choice(three_q_ops)\n",
    "            if operation in one_param:\n",
    "                num_angles = 1\n",
    "            elif operation in two_param:\n",
    "                num_angles = 2\n",
    "            elif operation in three_param:\n",
    "                num_angles = 3\n",
    "            else:\n",
    "                num_angles = 0\n",
    "            angles = [rng.uniform(0, 2 * np.pi) for x in range(num_angles)]\n",
    "            register_operands = [qr[i] for i in operands]\n",
    "            op = operation(*angles)\n",
    "\n",
    "            # with some low probability, condition on classical bit values\n",
    "            if conditional and rng.choice(range(10)) == 0:\n",
    "                value = rng.integers(0, np.power(2, num_qubits))\n",
    "                op.condition = (cr, value)\n",
    "\n",
    "            qc.append(op, register_operands)\n",
    "\n",
    "    if measure:\n",
    "        qc.measure(qr, cr)\n",
    "\n",
    "    return qc"
   ]
  },
  {
   "cell_type": "markdown",
   "metadata": {},
   "source": [
    "## Functions used in CDR\n",
    "Here we begin the code that is used in the CDR method. First up we have a function that takes any Qiskit circuit and compiles it to minimise depth, as well as decomposing it into a gate set where the only non-Clifford gate is the Rz rotation gate."
   ]
  },
  {
   "cell_type": "code",
   "execution_count": 4,
   "metadata": {},
   "outputs": [],
   "source": [
    "def CircuitTranslation(\n",
    "    circ: QPROGRAM\n",
    ")-> QPROGRAM:\n",
    "    \"\"\"Decomposes qiskit circuit object into Rz, Rx(pi/2) (sx), X and CNOT gates. \n",
    "    \n",
    "    Args:\n",
    "        circ: original circuit of interest assumed to be qiskit circuit object.\n",
    "        \n",
    "    Returns: \n",
    "        circ_new: new circuite compiled and decomposed into the above gate set.\n",
    "    \"\"\"\n",
    "    # this decomposes the circuit into u3 and cnot gates:\n",
    "    circ = compiler.transpile(circ, basis_gates = ['sx','rz','cx', 'x'], optimization_level=3)\n",
    "    #print(circ.draw())\n",
    "    # now for each U3(theta, phi, lambda), this can be converted into Rz(phi+pi)Rx(pi/2)Rz(theta+pi)Rx(pi/2)Rz(lambda)\n",
    "    try:\n",
    "        circ_new = QuantumCircuit(len(circ.qubits),len(circ.clbits))\n",
    "    except:\n",
    "        circ_new = QuantumCircuit(len(circ.qubits))\n",
    "    for i in range(len(circ.data)):\n",
    "        # get information for the gate\n",
    "        gate = circ.data[i][0]\n",
    "        name = gate.name\n",
    "        if name == 'cx':\n",
    "            qubit = [circ.data[i][1][0].index, circ.data[i][1][1].index]\n",
    "            parameters =[]\n",
    "            circ_new.cx(qubit[0], qubit[1])\n",
    "        if name =='rz':\n",
    "            parameters = (float(gate.params[0]))%(2*np.pi)\n",
    "            # leave out empty Rz gates:\n",
    "            if parameters!=0:\n",
    "                qubit = circ.data[i][1][0].index\n",
    "                circ_new.rz(parameters, qubit)\n",
    "        if name =='sx':\n",
    "            parameters = np.pi/2\n",
    "            qubit = circ.data[i][1][0].index\n",
    "            circ_new.rx(parameters, qubit)\n",
    "        if name =='x':\n",
    "            qubit = circ.data[i][1][0].index\n",
    "            circ_new.x(qubit)\n",
    "        elif name =='measure':\n",
    "            qubit = circ.data[i][1][0].index\n",
    "            cbit = circ.data[i][2][0].index\n",
    "            circ_new.measure(qubit, cbit) \n",
    "    return(circ_new)"
   ]
  },
  {
   "cell_type": "markdown",
   "metadata": {},
   "source": [
    "It should be noted that the gates that are involved in this decomposition are soon to be made the basis gate set for all IBM computers. Lets have a look at the circuits we have constructed and how the decomposition affects our circuit."
   ]
  },
  {
   "cell_type": "code",
   "execution_count": 5,
   "metadata": {
    "scrolled": false
   },
   "outputs": [
    {
     "data": {
      "text/html": [
       "<pre style=\"word-wrap: normal;white-space: pre;background: #fff0;line-height: 1.1;font-family: &quot;Courier New&quot;,Courier,monospace\">     ┌───┐                                 ┌───┐ ┌──────────────────────────┐ »\n",
       "q_0: ┤ X ├─────────────────────────────────┤ X ├─┤ U3(1.1037,5.4235,3.4021) ├─»\n",
       "     └─┬─┘┌──────────────────────────┐┌───┐└─┬─┘ ├──────────────────────────┤ »\n",
       "q_1: ──┼──┤ U3(0.10385,5.1099,5.735) ├┤ X ├──┼───┤ U3(3.8666,2.4107,6.2657) ├─»\n",
       "       │  └──────────────────────────┘└─┬─┘  │   ├─────────────────────────┬┘ »\n",
       "q_2: ──■────────────────────────────────■────┼───┤ U3(6.1628,4.3074,4.087) ├──»\n",
       "          ┌──────────────────────────┐       │  ┌┴─────────────────────────┴─┐»\n",
       "q_3: ─────┤ U3(3.8116,4.5836,3.4157) ├───────■──┤ U3(0.17794,0.78089,4.2137) ├»\n",
       "          └──────────────────────────┘          └────────────────────────────┘»\n",
       "c: 4/═════════════════════════════════════════════════════════════════════════»\n",
       "                                                                              »\n",
       "«     ┌──────────────────────────┐                                 »\n",
       "«q_0: ┤ U3(4.5332,3.3009,1.9493) ├──────────────────────────────■──»\n",
       "«     └──────────┬───┬───────────┘┌──────────────────────────┐  │  »\n",
       "«q_1: ───────────┤ X ├────────────┤ U3(5.5938,1.4273,3.9156) ├──┼──»\n",
       "«                └─┬─┘            ├──────────────────────────┤  │  »\n",
       "«q_2: ─────────────■──────────────┤ U3(2.0224,3.7341,2.1232) ├──┼──»\n",
       "«     ┌──────────────────────────┐└──────────────────────────┘┌─┴─┐»\n",
       "«q_3: ┤ U3(3.0526,5.5888,5.8688) ├────────────────────────────┤ X ├»\n",
       "«     └──────────────────────────┘                            └───┘»\n",
       "«c: 4/═════════════════════════════════════════════════════════════»\n",
       "«                                                                  »\n",
       "«     ┌───────────────────────────┐                                       ┌─┐»\n",
       "«q_0: ┤ U3(0.94423,2.8296,5.0035) ├───────────────────────────────■────■──┤M├»\n",
       "«     ├───────────────────────────┤┌───────────────────────────┐  │  ┌─┴─┐└╥┘»\n",
       "«q_1: ┤ U3(0.32686,2.5419,1.2473) ├┤ U3(5.9195,2.2941,0.66285) ├──┼──┤ X ├─╫─»\n",
       "«     └┬─────────────────────────┬┘└───────────────────────────┘┌─┴─┐├───┤ ║ »\n",
       "«q_2: ─┤ U3(4.9455,1.504,5.5071) ├──────────────────────────────┤ X ├┤ X ├─╫─»\n",
       "«     ┌┴─────────────────────────┴┐ ┌─────────────────────────┐ └───┘└─┬─┘ ║ »\n",
       "«q_3: ┤ U3(0.57022,3.6463,1.8768) ├─┤ U3(2.767,5.9979,3.1409) ├────────■───╫─»\n",
       "«     └───────────────────────────┘ └─────────────────────────┘            ║ »\n",
       "«c: 4/═════════════════════════════════════════════════════════════════════╩═»\n",
       "«                                                                          0 »\n",
       "«              \n",
       "«q_0: ─────────\n",
       "«     ┌─┐      \n",
       "«q_1: ┤M├──────\n",
       "«     └╥┘┌─┐   \n",
       "«q_2: ─╫─┤M├───\n",
       "«      ║ └╥┘┌─┐\n",
       "«q_3: ─╫──╫─┤M├\n",
       "«      ║  ║ └╥┘\n",
       "«c: 4/═╩══╩══╩═\n",
       "«      1  2  3 </pre>"
      ],
      "text/plain": [
       "     ┌───┐                                 ┌───┐ ┌──────────────────────────┐ »\n",
       "q_0: ┤ X ├─────────────────────────────────┤ X ├─┤ U3(1.1037,5.4235,3.4021) ├─»\n",
       "     └─┬─┘┌──────────────────────────┐┌───┐└─┬─┘ ├──────────────────────────┤ »\n",
       "q_1: ──┼──┤ U3(0.10385,5.1099,5.735) ├┤ X ├──┼───┤ U3(3.8666,2.4107,6.2657) ├─»\n",
       "       │  └──────────────────────────┘└─┬─┘  │   ├─────────────────────────┬┘ »\n",
       "q_2: ──■────────────────────────────────■────┼───┤ U3(6.1628,4.3074,4.087) ├──»\n",
       "          ┌──────────────────────────┐       │  ┌┴─────────────────────────┴─┐»\n",
       "q_3: ─────┤ U3(3.8116,4.5836,3.4157) ├───────■──┤ U3(0.17794,0.78089,4.2137) ├»\n",
       "          └──────────────────────────┘          └────────────────────────────┘»\n",
       "c: 4/═════════════════════════════════════════════════════════════════════════»\n",
       "                                                                              »\n",
       "«     ┌──────────────────────────┐                                 »\n",
       "«q_0: ┤ U3(4.5332,3.3009,1.9493) ├──────────────────────────────■──»\n",
       "«     └──────────┬───┬───────────┘┌──────────────────────────┐  │  »\n",
       "«q_1: ───────────┤ X ├────────────┤ U3(5.5938,1.4273,3.9156) ├──┼──»\n",
       "«                └─┬─┘            ├──────────────────────────┤  │  »\n",
       "«q_2: ─────────────■──────────────┤ U3(2.0224,3.7341,2.1232) ├──┼──»\n",
       "«     ┌──────────────────────────┐└──────────────────────────┘┌─┴─┐»\n",
       "«q_3: ┤ U3(3.0526,5.5888,5.8688) ├────────────────────────────┤ X ├»\n",
       "«     └──────────────────────────┘                            └───┘»\n",
       "«c: 4/═════════════════════════════════════════════════════════════»\n",
       "«                                                                  »\n",
       "«     ┌───────────────────────────┐                                       ┌─┐»\n",
       "«q_0: ┤ U3(0.94423,2.8296,5.0035) ├───────────────────────────────■────■──┤M├»\n",
       "«     ├───────────────────────────┤┌───────────────────────────┐  │  ┌─┴─┐└╥┘»\n",
       "«q_1: ┤ U3(0.32686,2.5419,1.2473) ├┤ U3(5.9195,2.2941,0.66285) ├──┼──┤ X ├─╫─»\n",
       "«     └┬─────────────────────────┬┘└───────────────────────────┘┌─┴─┐├───┤ ║ »\n",
       "«q_2: ─┤ U3(4.9455,1.504,5.5071) ├──────────────────────────────┤ X ├┤ X ├─╫─»\n",
       "«     ┌┴─────────────────────────┴┐ ┌─────────────────────────┐ └───┘└─┬─┘ ║ »\n",
       "«q_3: ┤ U3(0.57022,3.6463,1.8768) ├─┤ U3(2.767,5.9979,3.1409) ├────────■───╫─»\n",
       "«     └───────────────────────────┘ └─────────────────────────┘            ║ »\n",
       "«c: 4/═════════════════════════════════════════════════════════════════════╩═»\n",
       "«                                                                          0 »\n",
       "«              \n",
       "«q_0: ─────────\n",
       "«     ┌─┐      \n",
       "«q_1: ┤M├──────\n",
       "«     └╥┘┌─┐   \n",
       "«q_2: ─╫─┤M├───\n",
       "«      ║ └╥┘┌─┐\n",
       "«q_3: ─╫──╫─┤M├\n",
       "«      ║  ║ └╥┘\n",
       "«c: 4/═╩══╩══╩═\n",
       "«      1  2  3 "
      ]
     },
     "execution_count": 5,
     "metadata": {},
     "output_type": "execute_result"
    }
   ],
   "source": [
    "num_qubits = 4\n",
    "depth = 8\n",
    "circuit = random_circuit(num_qubits, depth, measure = True, seed=0)\n",
    "circuit.draw()"
   ]
  },
  {
   "cell_type": "code",
   "execution_count": 6,
   "metadata": {},
   "outputs": [
    {
     "data": {
      "text/html": [
       "<pre style=\"word-wrap: normal;white-space: pre;background: #fff0;line-height: 1.1;font-family: &quot;Courier New&quot;,Courier,monospace\">                       ┌───┐      ┌──────────┐  ┌─────────┐  ┌────────────┐»\n",
       "q_0: ──────────────────┤ X ├──────┤ RZ(3π/2) ├──┤ RX(π/2) ├──┤ RZ(1.9061) ├»\n",
       "     ┌────────────┐    └─┬─┘      ├─────────┬┘ ┌┴─────────┴─┐└┬─────────┬─┘»\n",
       "q_1: ┤ RZ(2.9451) ├──────┼────────┤ RX(π/2) ├──┤ RZ(5.5425) ├─┤ RX(π/2) ├──»\n",
       "     └────────────┘      │       ┌┴─────────┴─┐├───────────┬┘ ├─────────┤  »\n",
       "q_2: ────────────────────■───────┤ RZ(5.6578) ├┤ RZ(1.938) ├──┤ RX(π/2) ├──»\n",
       "                   ┌────────────┐└┬─────────┬─┘├───────────┤  ├─────────┤  »\n",
       "q_3: ──────────────┤ RZ(4.6403) ├─┤ RX(π/2) ├──┤ RZ(4.975) ├──┤ RX(π/2) ├──»\n",
       "                   └────────────┘ └─────────┘  └───────────┘  └─────────┘  »\n",
       "c: 4/══════════════════════════════════════════════════════════════════════»\n",
       "                                                                           »\n",
       "«     ┌─────────────┐┌─────────┐  ┌───────┐   ┌─────────┐ ┌────────────┐»\n",
       "«q_0: ┤ RZ(0.11379) ├┤ RX(π/2) ├──┤ RZ(π) ├───┤ RX(π/2) ├─┤ RZ(6.1694) ├»\n",
       "«     └┬────────────┤└─────────┘  └───────┘   └─────────┘ └┬──────────┬┘»\n",
       "«q_1: ─┤ RZ(4.6529) ├──────────────────────────────■───────┤ RZ(3π/2) ├─»\n",
       "«      └─┬───────┬──┘┌─────────┐┌────────────┐   ┌─┴─┐   ┌─┴──────────┴┐»\n",
       "«q_2: ───┤ RZ(π) ├───┤ RX(π/2) ├┤ RZ(1.2036) ├───┤ X ├───┤ RZ(0.60523) ├»\n",
       "«      ┌─┴───────┴──┐└─────────┘└────────────┘   └───┘   └─────────────┘»\n",
       "«q_3: ─┤ RZ(3.7654) ├───────────────────────────────────────────────────»\n",
       "«      └────────────┘                                                   »\n",
       "«c: 4/══════════════════════════════════════════════════════════════════»\n",
       "«                                                                       »\n",
       "«                       ┌──────────┐  ┌─────────┐┌────────────┐┌─────────┐»\n",
       "«q_0: ─────────────■────┤ RZ(3π/2) ├──┤ RX(π/2) ├┤ RZ(4.8399) ├┤ RX(π/2) ├»\n",
       "«     ┌─────────┐  │   ┌┴──────────┴┐ ├─────────┤└─┬───────┬──┘└─────────┘»\n",
       "«q_1: ┤ RX(π/2) ├──┼───┤ RZ(6.1628) ├─┤ RX(π/2) ├──┤ RZ(π) ├────────■─────»\n",
       "«     ├─────────┤  │   └┬──────────┬┘ ├─────────┤ ┌┴───────┴┐     ┌─┴─┐   »\n",
       "«q_2: ┤ RX(π/2) ├──┼────┤ RZ(3π/2) ├──┤ RX(π/2) ├─┤ RZ(π/2) ├─────┤ X ├───»\n",
       "«     └─────────┘┌─┴─┐┌─┴──────────┴─┐├─────────┤ ├─────────┴┐ ┌──┴───┴──┐»\n",
       "«q_3: ───────────┤ X ├┤ RZ(0.018675) ├┤ RX(π/2) ├─┤ RZ(3π/2) ├─┤ RX(π/2) ├»\n",
       "«                └───┘└──────────────┘└─────────┘ └──────────┘ └─────────┘»\n",
       "«c: 4/════════════════════════════════════════════════════════════════════»\n",
       "«                                                                         »\n",
       "«       ┌───────┐                   ┌────────────┐┌─────────┐┌───────────┐ »\n",
       "«q_0: ──┤ RZ(π) ├────────────────■──┤ RZ(3.7279) ├┤ RX(π/2) ├┤ RZ(5.339) ├─»\n",
       "«     ┌─┴───────┴──┐┌─────────┐  │  ├───────────┬┘├─────────┤├───────────┴┐»\n",
       "«q_1: ┤ RZ(1.4643) ├┤ RX(π/2) ├──┼──┤ RZ(5.246) ├─┤ RX(π/2) ├┤ RZ(6.1576) ├»\n",
       "«     ├────────────┤├─────────┤  │  ├───────────┴┐├─────────┤├────────────┤»\n",
       "«q_2: ┤ RZ(4.5009) ├┤ RX(π/2) ├──┼──┤ RZ(4.8947) ├┤ RX(π/2) ├┤ RZ(1.2751) ├»\n",
       "«     └┬─────────┬─┘└─────────┘┌─┴─┐├────────────┤├─────────┤├────────────┤»\n",
       "«q_3: ─┤ RZ(π/2) ├─────────────┤ X ├┤ RZ(4.4507) ├┤ RX(π/2) ├┤ RZ(5.8928) ├»\n",
       "«      └─────────┘             └───┘└────────────┘└─────────┘└────────────┘»\n",
       "«c: 4/═════════════════════════════════════════════════════════════════════»\n",
       "«                                                                          »\n",
       "«     ┌─────────┐┌────────────┐          ┌─┐         \n",
       "«q_0: ┤ RX(π/2) ├┤ RZ(2.8296) ├──■────■──┤M├─────────\n",
       "«     └─────────┘└────────────┘  │  ┌─┴─┐└╥┘┌─┐      \n",
       "«q_1: ───────────────────────────┼──┤ X ├─╫─┤M├──────\n",
       "«                              ┌─┴─┐├───┤ ║ └╥┘┌─┐   \n",
       "«q_2: ─────────────────────────┤ X ├┤ X ├─╫──╫─┤M├───\n",
       "«     ┌─────────┐┌────────────┐└───┘└─┬─┘ ║  ║ └╥┘┌─┐\n",
       "«q_3: ┤ RX(π/2) ├┤ RZ(4.9823) ├───────■───╫──╫──╫─┤M├\n",
       "«     └─────────┘└────────────┘           ║  ║  ║ └╥┘\n",
       "«c: 4/════════════════════════════════════╩══╩══╩══╩═\n",
       "«                                         0  1  2  3 </pre>"
      ],
      "text/plain": [
       "                       ┌───┐      ┌──────────┐  ┌─────────┐  ┌────────────┐»\n",
       "q_0: ──────────────────┤ X ├──────┤ RZ(3π/2) ├──┤ RX(π/2) ├──┤ RZ(1.9061) ├»\n",
       "     ┌────────────┐    └─┬─┘      ├─────────┬┘ ┌┴─────────┴─┐└┬─────────┬─┘»\n",
       "q_1: ┤ RZ(2.9451) ├──────┼────────┤ RX(π/2) ├──┤ RZ(5.5425) ├─┤ RX(π/2) ├──»\n",
       "     └────────────┘      │       ┌┴─────────┴─┐├───────────┬┘ ├─────────┤  »\n",
       "q_2: ────────────────────■───────┤ RZ(5.6578) ├┤ RZ(1.938) ├──┤ RX(π/2) ├──»\n",
       "                   ┌────────────┐└┬─────────┬─┘├───────────┤  ├─────────┤  »\n",
       "q_3: ──────────────┤ RZ(4.6403) ├─┤ RX(π/2) ├──┤ RZ(4.975) ├──┤ RX(π/2) ├──»\n",
       "                   └────────────┘ └─────────┘  └───────────┘  └─────────┘  »\n",
       "c: 4/══════════════════════════════════════════════════════════════════════»\n",
       "                                                                           »\n",
       "«     ┌─────────────┐┌─────────┐  ┌───────┐   ┌─────────┐ ┌────────────┐»\n",
       "«q_0: ┤ RZ(0.11379) ├┤ RX(π/2) ├──┤ RZ(π) ├───┤ RX(π/2) ├─┤ RZ(6.1694) ├»\n",
       "«     └┬────────────┤└─────────┘  └───────┘   └─────────┘ └┬──────────┬┘»\n",
       "«q_1: ─┤ RZ(4.6529) ├──────────────────────────────■───────┤ RZ(3π/2) ├─»\n",
       "«      └─┬───────┬──┘┌─────────┐┌────────────┐   ┌─┴─┐   ┌─┴──────────┴┐»\n",
       "«q_2: ───┤ RZ(π) ├───┤ RX(π/2) ├┤ RZ(1.2036) ├───┤ X ├───┤ RZ(0.60523) ├»\n",
       "«      ┌─┴───────┴──┐└─────────┘└────────────┘   └───┘   └─────────────┘»\n",
       "«q_3: ─┤ RZ(3.7654) ├───────────────────────────────────────────────────»\n",
       "«      └────────────┘                                                   »\n",
       "«c: 4/══════════════════════════════════════════════════════════════════»\n",
       "«                                                                       »\n",
       "«                       ┌──────────┐  ┌─────────┐┌────────────┐┌─────────┐»\n",
       "«q_0: ─────────────■────┤ RZ(3π/2) ├──┤ RX(π/2) ├┤ RZ(4.8399) ├┤ RX(π/2) ├»\n",
       "«     ┌─────────┐  │   ┌┴──────────┴┐ ├─────────┤└─┬───────┬──┘└─────────┘»\n",
       "«q_1: ┤ RX(π/2) ├──┼───┤ RZ(6.1628) ├─┤ RX(π/2) ├──┤ RZ(π) ├────────■─────»\n",
       "«     ├─────────┤  │   └┬──────────┬┘ ├─────────┤ ┌┴───────┴┐     ┌─┴─┐   »\n",
       "«q_2: ┤ RX(π/2) ├──┼────┤ RZ(3π/2) ├──┤ RX(π/2) ├─┤ RZ(π/2) ├─────┤ X ├───»\n",
       "«     └─────────┘┌─┴─┐┌─┴──────────┴─┐├─────────┤ ├─────────┴┐ ┌──┴───┴──┐»\n",
       "«q_3: ───────────┤ X ├┤ RZ(0.018675) ├┤ RX(π/2) ├─┤ RZ(3π/2) ├─┤ RX(π/2) ├»\n",
       "«                └───┘└──────────────┘└─────────┘ └──────────┘ └─────────┘»\n",
       "«c: 4/════════════════════════════════════════════════════════════════════»\n",
       "«                                                                         »\n",
       "«       ┌───────┐                   ┌────────────┐┌─────────┐┌───────────┐ »\n",
       "«q_0: ──┤ RZ(π) ├────────────────■──┤ RZ(3.7279) ├┤ RX(π/2) ├┤ RZ(5.339) ├─»\n",
       "«     ┌─┴───────┴──┐┌─────────┐  │  ├───────────┬┘├─────────┤├───────────┴┐»\n",
       "«q_1: ┤ RZ(1.4643) ├┤ RX(π/2) ├──┼──┤ RZ(5.246) ├─┤ RX(π/2) ├┤ RZ(6.1576) ├»\n",
       "«     ├────────────┤├─────────┤  │  ├───────────┴┐├─────────┤├────────────┤»\n",
       "«q_2: ┤ RZ(4.5009) ├┤ RX(π/2) ├──┼──┤ RZ(4.8947) ├┤ RX(π/2) ├┤ RZ(1.2751) ├»\n",
       "«     └┬─────────┬─┘└─────────┘┌─┴─┐├────────────┤├─────────┤├────────────┤»\n",
       "«q_3: ─┤ RZ(π/2) ├─────────────┤ X ├┤ RZ(4.4507) ├┤ RX(π/2) ├┤ RZ(5.8928) ├»\n",
       "«      └─────────┘             └───┘└────────────┘└─────────┘└────────────┘»\n",
       "«c: 4/═════════════════════════════════════════════════════════════════════»\n",
       "«                                                                          »\n",
       "«     ┌─────────┐┌────────────┐          ┌─┐         \n",
       "«q_0: ┤ RX(π/2) ├┤ RZ(2.8296) ├──■────■──┤M├─────────\n",
       "«     └─────────┘└────────────┘  │  ┌─┴─┐└╥┘┌─┐      \n",
       "«q_1: ───────────────────────────┼──┤ X ├─╫─┤M├──────\n",
       "«                              ┌─┴─┐├───┤ ║ └╥┘┌─┐   \n",
       "«q_2: ─────────────────────────┤ X ├┤ X ├─╫──╫─┤M├───\n",
       "«     ┌─────────┐┌────────────┐└───┘└─┬─┘ ║  ║ └╥┘┌─┐\n",
       "«q_3: ┤ RX(π/2) ├┤ RZ(4.9823) ├───────■───╫──╫──╫─┤M├\n",
       "«     └─────────┘└────────────┘           ║  ║  ║ └╥┘\n",
       "«c: 4/════════════════════════════════════╩══╩══╩══╩═\n",
       "«                                         0  1  2  3 "
      ]
     },
     "execution_count": 6,
     "metadata": {},
     "output_type": "execute_result"
    }
   ],
   "source": [
    "circuit_new = CircuitTranslation(circuit)\n",
    "circuit_new.draw()"
   ]
  },
  {
   "cell_type": "markdown",
   "metadata": {},
   "source": [
    "How does the decomposition change the depth?"
   ]
  },
  {
   "cell_type": "code",
   "execution_count": 7,
   "metadata": {},
   "outputs": [
    {
     "name": "stdout",
     "output_type": "stream",
     "text": [
      "old depth 9\n",
      "new depth 24\n"
     ]
    }
   ],
   "source": [
    "print('old depth', circuit.depth())\n",
    "print('new depth', circuit_new.depth())\n"
   ]
  },
  {
   "cell_type": "markdown",
   "metadata": {},
   "source": [
    "The decomposition has increased the depth by some amount. This means that when implementing the circuit on a real device or noisy simulator the raw data from the decomposed circuit is likely to be worse than that from the original."
   ]
  },
  {
   "cell_type": "markdown",
   "metadata": {},
   "source": [
    "The next function takes a Qiskit circuit and extracts the information stored in the circuit, returning that information as an array. This makes many necessary steps in the CDR methods easier to implement, like completing gate substitutions for example."
   ]
  },
  {
   "cell_type": "code",
   "execution_count": 8,
   "metadata": {},
   "outputs": [],
   "source": [
    "def CircToArray(\n",
    "    circ: QPROGRAM\n",
    ")-> list:\n",
    "    '''Function to return the order of gates, their names and paramters in a more managable data structure than a Qiskit\n",
    "    quantum circuit.\n",
    "    \n",
    "    Args:\n",
    "        circ: Qiskit circuits (deomposed).\n",
    "        \n",
    "    Returns:\n",
    "        data: np.array([order], [names], [parameters], [qubits], [cbits])\n",
    "        where order is the order of the gates from 0 to depth, names are the names of the gates, parameters are the paramters \n",
    "        specifying the gates and qubits and cbits are the qubits and classical bits on which they act.\n",
    "        qubits: number of qubits.\n",
    "        clbits: number of classical bits.\n",
    "    '''\n",
    "    order=[]\n",
    "    gates_list = []\n",
    "    qubits_list = []\n",
    "    cbit_list = []\n",
    "    parameters_list = []\n",
    "    qubits = len(circ.qubits)\n",
    "    clbits = len(circ.clbits)\n",
    "    #loop through and construct arrays:\n",
    "    for i in range(len(circ.data)):\n",
    "        order.append(i)\n",
    "        gate = circ.data[i][0]\n",
    "        name = gate.name\n",
    "        if name == 'cx':\n",
    "            qubit = [circ.data[i][1][0].index, circ.data[i][1][1].index]\n",
    "            parameters =None\n",
    "            gates_list.append(name)\n",
    "            qubits_list.append(qubit)\n",
    "            cbit_list.append(None)\n",
    "            parameters_list.append(parameters)\n",
    "        elif name =='rz':\n",
    "            parameters = gate.params[0]\n",
    "            gates_list.append(name)\n",
    "            qubit = circ.data[i][1][0].index\n",
    "            qubits_list.append(qubit)\n",
    "            cbit_list.append(None)\n",
    "            parameters_list.append(float(parameters)%(2*np.pi))\n",
    "        elif name =='rx':\n",
    "            parameters = np.pi/2\n",
    "            gates_list.append('rx')\n",
    "            qubit = circ.data[i][1][0].index\n",
    "            qubits_list.append(qubit)\n",
    "            cbit_list.append(None)\n",
    "            parameters_list.append(parameters)\n",
    "        elif name =='x':\n",
    "            parameters = None\n",
    "            gates_list.append(name)\n",
    "            qubit = circ.data[i][1][0].index\n",
    "            qubits_list.append(qubit)\n",
    "            cbit_list.append(None)\n",
    "            parameters_list.append(parameters)\n",
    "        elif name =='measure':\n",
    "            parameters = None\n",
    "            gates_list.append(name)\n",
    "            qubit = circ.data[i][1][0].index\n",
    "            cbit = circ.data[i][2][0].index\n",
    "            qubits_list.append(qubit)\n",
    "            cbit_list.append(cbit)\n",
    "            parameters_list.append(parameters)\n",
    "    data = np.array([order, gates_list,  parameters_list, qubits_list, cbit_list])\n",
    "    return data, qubits, clbits\n",
    "        "
   ]
  },
  {
   "cell_type": "markdown",
   "metadata": {},
   "source": [
    "We also need a function that takes this array and gives back a Qiskit quantum circuit, this function is below."
   ]
  },
  {
   "cell_type": "code",
   "execution_count": 9,
   "metadata": {},
   "outputs": [],
   "source": [
    "def ArrayToCirc(\n",
    "    data: np.ndarray,\n",
    "    qubits: int,\n",
    "    clbits: int\n",
    ") -> QPROGRAM:\n",
    "    ''' Function that takes the data array containing all the circuit data and turns it into a quantum circuit.\n",
    "    \n",
    "    Args:\n",
    "        data: array containing circuit data np.array([order], [names], [parameters], [qubits], [cbits]).\n",
    "        qubits: number of qubits.\n",
    "        clbits: number of classical bits.\n",
    "        \n",
    "    Returns:\n",
    "        circ: Qiskit quantum circuit\n",
    "    \n",
    "    '''\n",
    "    gates_list= data[1,:]\n",
    "    parameters_list = data[2,:]\n",
    "    qubits_list = data[3,:]\n",
    "    cbit_list = data[4,:]\n",
    "    circ = QuantumCircuit(qubits,clbits)\n",
    "    for i in range(len(gates_list)):\n",
    "        gate = gates_list[i]\n",
    "        parameter = parameters_list[i]\n",
    "        qubit = qubits_list[i]\n",
    "        cbit = cbit_list[i]\n",
    "        if gate =='rz':\n",
    "            circ.rz(parameter, qubit)\n",
    "        if gate=='rx':\n",
    "            circ.rx(parameter, qubit)\n",
    "        if gate=='cx':\n",
    "            circ.cx(qubit[0], qubit[1])\n",
    "        if gate=='x':\n",
    "            circ.x(qubit)\n",
    "        if gate=='measure':\n",
    "            circ.measure(qubit, cbit)\n",
    "    return(circ)\n",
    "        "
   ]
  },
  {
   "cell_type": "markdown",
   "metadata": {},
   "source": [
    "## Clifford based functions\n",
    "Here are the functions that check if a gate in our circuit is a Clifford gate and then use this information to complete projections and construct a training set."
   ]
  },
  {
   "cell_type": "code",
   "execution_count": 10,
   "metadata": {},
   "outputs": [],
   "source": [
    "def CliffordChecker(\n",
    "    ang: float\n",
    ")-> bool:\n",
    "    '''Function to check if a given angle is Clifford.\n",
    "    \n",
    "    Args:\n",
    "        ang: rotation angle in the Rz gate.\n",
    "        \n",
    "    Returns:\n",
    "        bool: True / False for Clifford or not. \n",
    "    '''\n",
    "    cliff_angs = [np.pi/2, np.pi, np.pi*3/2, 2*np.pi]\n",
    "    diff_list=[]\n",
    "    for cliff_ang in cliff_angs:\n",
    "        diff_list.append(abs(abs(ang)-cliff_ang)%(2*np.pi))\n",
    "    if any(np.array(diff_list)<=10**(-8)) == True:\n",
    "        return True\n",
    "    else:\n",
    "        return False\n",
    "    \n",
    "# Vectorize function so it can take arrays of angles as its input.\n",
    "CliffordChecker = np.vectorize(CliffordChecker)"
   ]
  },
  {
   "cell_type": "code",
   "execution_count": 11,
   "metadata": {},
   "outputs": [],
   "source": [
    "def ClosestClifford(\n",
    "    ang: float\n",
    ")-> float:\n",
    "    '''Function to take angle and return the nearest Clifford angle note the usage of this function is vectorized\n",
    "    so it takes and returns arrays.\n",
    "    \n",
    "    Args:\n",
    "        ang: angle in Rz gate.\n",
    "        \n",
    "    Returns:\n",
    "        Clifford angle: closest clifford angle.\n",
    "    '''\n",
    "    cliff_angs = [np.pi/2, np.pi, np.pi*3/2, 2*np.pi]\n",
    "    diff_list=[]\n",
    "    for cliff_ang in cliff_angs:\n",
    "        diff_list.append(abs(e**(-1j*ang)-e**(-1j*cliff_ang)))\n",
    "    min_1 = min(diff_list)\n",
    "    # need to check that there are not two min values in list\n",
    "    diff_list_copy = diff_list.copy()\n",
    "    diff_list_copy.remove(min_1)\n",
    "    min_2 = min(diff_list_copy)\n",
    "    # if just one min value, return the corresponding nearest cliff.\n",
    "    if abs(min_1-min_2) > 10**(-8):\n",
    "        return (cliff_angs[diff_list.index(min(diff_list))])\n",
    "    # if two min values (ie two cliff gates equidistant) randomly choose the cliff gate to return.\n",
    "    else:\n",
    "        index_list = [diff_list.index(min_1), diff_list_copy.index(min_2)]\n",
    "        index = random.choice(index_list)\n",
    "        return(cliff_angs[index])\n",
    "\n",
    "# vectorize so function can take array of angles.\n",
    "ClosestClifford = np.vectorize(ClosestClifford)"
   ]
  },
  {
   "cell_type": "markdown",
   "metadata": {},
   "source": [
    "Below is the function that takes one circuit of interest and constructs a trianing set by randon projections. This means that a given number of the non-Clifford gates in the circuit are selected and projected to their closest Clifford gate leaving N non-Cliffords. This process is repeated, producing a set of randomly projected Clifford dominated circuits."
   ]
  },
  {
   "cell_type": "code",
   "execution_count": 36,
   "metadata": {},
   "outputs": [],
   "source": [
    "def TrainingCircuitsConstructor(\n",
    "    data: np.ndarray,\n",
    "    size: int ,\n",
    "    frac_N: float\n",
    ")-> np.ndarray:\n",
    "    \"\"\"Function that takes the original circuit and creates a training set with a given number of non-cliffords and total size.\n",
    "    \n",
    "    Args:\n",
    "        data: data of the circuit of interst.\n",
    "        size: number of Clifford projected circuits to return (size of training set).\n",
    "        frac_N: fraction of non-Clifford gates to leave in each ciruit in the trianing set.\n",
    "    \n",
    "    Returns:\n",
    "        circ_data: list of data arrays for projected circuits.\n",
    "    \"\"\"\n",
    "    circ_data=[]\n",
    "    mask_rz = data[1,:] == 'rz'\n",
    "    rz_circ_data = data[:,mask_rz]\n",
    "    mask_not_rz = data[1,:] != 'rz'\n",
    "    not_rz_circ_data = data[:,mask_not_rz]\n",
    "    mask_non_cliff = CliffordChecker(rz_circ_data[2,:]) == False\n",
    "    rz_non_cliff = rz_circ_data[:,mask_non_cliff]\n",
    "    mask_cliff = CliffordChecker(rz_circ_data[2,:]) == True\n",
    "    rz_cliff = rz_circ_data[:,mask_cliff]\n",
    "    tot_n_non_cliff = len(rz_non_cliff[0])\n",
    "    #print(tot_n_non_cliff)\n",
    "    N = int(frac_N*tot_n_non_cliff)\n",
    "    all_cliff = np.column_stack((not_rz_circ_data, rz_cliff))\n",
    "    #print(rz_non_cliff)\n",
    "    for s in range(size):\n",
    "        rz_non_cliff_copy = rz_non_cliff.copy()\n",
    "        random_columns = random.sample(np.arange(0,tot_n_non_cliff,1).tolist(),tot_n_non_cliff-N)\n",
    "        rand_rz_non_cliff_proj = rz_non_cliff_copy[:,random_columns]\n",
    "        #print(rz_non_cliff_copy)\n",
    "        rz_non_cliff_copy=np.delete(rz_non_cliff_copy, random_columns, axis=1)\n",
    "        rand_rz_non_cliff_proj[2,:] = ClosestClifford(rand_rz_non_cliff_proj[2,:])\n",
    "        #print(rz_non_cliff_copy)\n",
    "        new_circ = np.column_stack((all_cliff, rand_rz_non_cliff_proj))\n",
    "        new_circ = np.column_stack((new_circ, rz_non_cliff_copy))\n",
    "        i = np.argsort(new_circ[0,:])\n",
    "        final = new_circ[:,i]\n",
    "        circ_data.append(final)\n",
    "    return(circ_data)"
   ]
  },
  {
   "cell_type": "markdown",
   "metadata": {},
   "source": [
    "There are many different ways to select the non-Clifford gates to replace with Cliffords. Selecting them at random does not in general form a good set of circuits that accurately reflect the effect of noise on the circuit of interest. A better method to choose the gates to replace considers the closeness of gates to Clifford gates when executing the replacement. Rotation gates that are closer to Cliffords are more likely to be replaced according to some probability distribution. \n",
    "\n",
    "This we define as probabilistic projection and has been observed to result in better mitigations in most cases. Below is the code used to construct the training sets in the probabilistic manner described."
   ]
  },
  {
   "cell_type": "code",
   "execution_count": 13,
   "metadata": {},
   "outputs": [],
   "source": [
    "def TrainingCircuitsConstructorProbProject(\n",
    "    data: np.ndarray,\n",
    "    size: int ,\n",
    "    frac_N: int,\n",
    "    sigma: float\n",
    ")-> np.ndarray:\n",
    "    \"\"\"Function that takes the original circuit and creates a training set with a given number of non-cliffords and total size.\n",
    "    The Clifford gates to replace are chosen probabilistically according to the probabilitiy distribution:\n",
    "    \n",
    "                            Prob_project = exp(-(dist/sigma)^2)\n",
    "    \n",
    "    Where dist is the frobenius norm from powers of the S gate and the non-Clifford gate in consideration. The gate with which\n",
    "    to replace the gate of question in is also replaced according to this probability distribution.\n",
    "    \n",
    "    Args:\n",
    "        data: data of the circuit of interst.\n",
    "        size: number of Clifford projected circuits to return (size of training set).\n",
    "        N: Number of non-Clifford gates to leave in each ciruit in the trianing set.\n",
    "        sigma: the width of the probability distribution.\n",
    "    \n",
    "    Returns:\n",
    "        circ_data: list of data arrays for projected circuits.\n",
    "    \"\"\"\n",
    "    circ_data=[]\n",
    "    mask_rz = data[1,:] == 'rz'\n",
    "    rz_circ_data = data[:,mask_rz]\n",
    "    mask_not_rz = data[1,:] != 'rz'\n",
    "    not_rz_circ_data = data[:,mask_not_rz]\n",
    "    mask_non_cliff = CliffordChecker(rz_circ_data[2,:]) == False\n",
    "    rz_non_cliff = rz_circ_data[:,mask_non_cliff]\n",
    "    mask_cliff = CliffordChecker(rz_circ_data[2,:]) == True\n",
    "    rz_cliff = rz_circ_data[:,mask_cliff]\n",
    "    tot_n_non_cliff = len(rz_non_cliff[0])\n",
    "    N = int(frac_N*tot_n_non_cliff)\n",
    "    #print(tot_n_non_cliff)\n",
    "    all_cliff = np.column_stack((not_rz_circ_data, rz_cliff))\n",
    "    for s in range(size):\n",
    "        rz_non_cliff_copy = rz_non_cliff.copy()\n",
    "        non_cliff_angles = rz_non_cliff_copy[2]\n",
    "        # form a probability distribution: \n",
    "        probabilities = ProbabilityDist(non_cliff_angles, sigma)\n",
    "        prob_flip_gate = [k/sum(probabilities) for k in probabilities]\n",
    "        random_columns = np.random.choice(np.arange(0,tot_n_non_cliff,1).tolist(), tot_n_non_cliff-N, replace=False,\n",
    "                                            p=prob_flip_gate)\n",
    "        #Now we have the positions of the non-Cliffords to change we need to change them probabilistically as well:\n",
    "        rand_rz_non_cliff_proj = rz_non_cliff_copy[:,random_columns]\n",
    "        #print(rz_non_cliff_copy)\n",
    "        rz_non_cliff_copy=np.delete(rz_non_cliff_copy, random_columns, axis=1)\n",
    "        rand_rz_non_cliff_proj[2,:] = ProbabilisticClifford(rand_rz_non_cliff_proj[2,:], sigma)\n",
    "        #print(rz_non_cliff_copy)\n",
    "        new_circ = np.column_stack((all_cliff, rand_rz_non_cliff_proj))\n",
    "        new_circ = np.column_stack((new_circ, rz_non_cliff_copy))\n",
    "        i = np.argsort(new_circ[0,:])\n",
    "        final = new_circ[:,i]\n",
    "        circ_data.append(final)\n",
    "    return(circ_data)"
   ]
  },
  {
   "cell_type": "code",
   "execution_count": 14,
   "metadata": {},
   "outputs": [],
   "source": [
    "def ProbabilityDist(\n",
    "    angle: float,\n",
    "    sigma: float\n",
    ")-> float:\n",
    "    \"\"\"Function to return probability disribtuion based on distance from angles to Clifford gates.\n",
    "    \n",
    "    Args:\n",
    "        angle: angle to form probability distribution. \n",
    "    \n",
    "    Returns:\n",
    "        discrete value of probability distribution calucalted from Prob_project = exp(-(dist/sigma)^2) where dist = sum(dists)\n",
    "        is the sum of distances from each Clifford gate.\n",
    "    \"\"\"\n",
    "    S = np.array([[1,0.0],[0.0,1j]])\n",
    "    Rz = np.array([[1,0.0],[0.0,np.exp(angle*1j)]])\n",
    "    dists = []\n",
    "    cliff_angs = [np.pi/2, np.pi, np.pi*3/2, 2*np.pi]\n",
    "    for i in range(4):\n",
    "        i+=1\n",
    "        diff = np.linalg.norm(Rz - S**(i))\n",
    "        dists.append(np.exp(-(diff/sigma)**2))\n",
    "    return(sum(dists))\n",
    "\n",
    "# vectorize so function can take array of angles.\n",
    "ProbabilityDist = np.vectorize(ProbabilityDist)"
   ]
  },
  {
   "cell_type": "code",
   "execution_count": 15,
   "metadata": {},
   "outputs": [],
   "source": [
    "def ProbabilisticClifford(\n",
    "    ang: float,\n",
    "    sigma: float\n",
    ")-> float:\n",
    "    '''Function to take angle and return the Clifford angle according to the probability distirbution:\n",
    "                        \n",
    "                        prob = exp(-(dist/sigma)^2)\n",
    "                        \n",
    "    where dist is the frobenius norm from the 4 clifford angles and the gate of interest. Note the usage of this function\n",
    "    is vectorized so it takes and returns arrays.\n",
    "    \n",
    "    Args:\n",
    "        ang: angle in Rz gate.\n",
    "        sigma: width of probability distribution.\n",
    "        \n",
    "    Returns:\n",
    "        Clifford angle: clifford angle to replace gate angle, calculated probabilistically.\n",
    "    '''\n",
    "    S = np.array([[1,0.0],[0.0,1j]])\n",
    "    Rz = np.array([[1,0.0],[0.0,np.exp(ang*1j)]])\n",
    "    cliff_angs = [np.pi/2, np.pi, np.pi*3/2, 2*np.pi]\n",
    "    dists=[]\n",
    "    for i in range(4):\n",
    "        i+=1\n",
    "        diff = np.linalg.norm(Rz - S**(i))\n",
    "        dists.append(np.exp(-(diff/sigma)**2))\n",
    "    prob_gate = [i/sum(dists) for i in dists]\n",
    "    cliff_ang = np.random.choice(cliff_angs, 1, replace=False, p=prob_gate)\n",
    "    return(cliff_ang)\n",
    "\n",
    "# vectorize so function can take array of angles.\n",
    "ProbabilisticClifford = np.vectorize(ProbabilisticClifford)"
   ]
  },
  {
   "cell_type": "markdown",
   "metadata": {},
   "source": [
    "Now we have got the training circuits constructed lets define the way we increase the noise:"
   ]
  },
  {
   "cell_type": "code",
   "execution_count": 16,
   "metadata": {},
   "outputs": [],
   "source": [
    "def NoiseIncrease(\n",
    "    circ: QPROGRAM, \n",
    "    scale_factor: int\n",
    ")-> QPROGRAM:\n",
    "    '''Function to scale the noise in the same manner to all circuits - circuit of interest and circuits in trianing set.\n",
    "    \n",
    "    Args:\n",
    "        circ: circuit object\n",
    "        scale_factor: the scale factor with which to scale the noise level.\n",
    "        \n",
    "    Returns:\n",
    "        folded_circ: the new circuit with increased noise.\n",
    "    '''\n",
    "    # Just going to put one example of noise increasing here, this needs to be generalised. \n",
    "    folded_circ = fold_gates_at_random( circ, scale_factor=scale_factor, fidelities={\"single\": 1.0,\n",
    "                                       \"CNOT\": 0.99})\n",
    "    return(folded_circ)"
   ]
  },
  {
   "cell_type": "markdown",
   "metadata": {},
   "source": [
    "## Utility functions for Qiskit \n",
    "Here we define some functions that are important to extract the desired quantities from the Qiskit simulation/ real device data."
   ]
  },
  {
   "cell_type": "code",
   "execution_count": 17,
   "metadata": {},
   "outputs": [],
   "source": [
    "def binarize(\n",
    "    decimal: float, \n",
    "    L: int\n",
    ")-> float:\n",
    "    \"\"\"Converts a decimal number <=2**L to binary. It is used to make the qiskit convention and the usual \n",
    "    description of the basis of an L-spin system compatible.\n",
    "    \n",
    "    Args:\n",
    "        decimal: Number in base 10 to be converted to binary.\n",
    "        L: Total number of qubits in the system.\n",
    "        \n",
    "    Returns:\n",
    "        Number described by the parameter 'decimal' in binary.\n",
    "    \"\"\"\n",
    "    binario = np.zeros(L)\n",
    "    bin = ''\n",
    "    for i in range(L):\n",
    "        binario[L - 1 - i] = decimal % 2\n",
    "        decimal = decimal // 2\n",
    "        bin = bin + str(binario.astype(int)[L - 1 - i])\n",
    "\n",
    "    return bin[::-1]"
   ]
  },
  {
   "cell_type": "code",
   "execution_count": 18,
   "metadata": {},
   "outputs": [],
   "source": [
    "def expected_value(\n",
    "    Obs: np.ndarray,\n",
    "    state: dict\n",
    ")-> float:\n",
    "    \"\"\"Calculates the expected value of a diagonal observable.\n",
    "    \n",
    "    Args:\n",
    "        Obs: Observable in the form of a diagonal matrix.\n",
    "        state: Dictionary describing the state of the system on which the expected value of the observable is to\n",
    "        be calculated.\n",
    "        \n",
    "    Returns:\n",
    "        Expected value <state|Obs|state>.\n",
    "    \"\"\"\n",
    "    obs = sum([Obs[i, i] * list(state.values())[i] for i in range(np.shape(Obs)[0])])\n",
    "    return obs\n"
   ]
  },
  {
   "cell_type": "code",
   "execution_count": 19,
   "metadata": {},
   "outputs": [],
   "source": [
    "def state_counts(\n",
    "    counts: dict\n",
    ")-> dict:\n",
    "    \"\"\"Expresses the result of the simulation in the usual way, that is, in the form of a dictionary whose values are\n",
    "    the module squared of the components of the final state.\n",
    "    \n",
    "    Args:\n",
    "        counts: Dictionary included in Qiskit result class that allows that allows to get the histogram\n",
    "        data of an experiment.\n",
    "        \n",
    "    Returns:\n",
    "        state: Dictionary whose keys are the base elements of the L qubit system and whose values are the\n",
    "        modulus of the corresponding squared amplitudes.\n",
    "    \"\"\"\n",
    "    L = len(list(counts)[0])\n",
    "    basis = {i: binarize(i, L) for i in range(2 ** L)}\n",
    "    counts_order = [0 for i in range(2 ** L)]\n",
    "    for i in range(len(basis)):\n",
    "        for j in range(len(counts)):\n",
    "            if list(basis.values())[i] == list(counts)[j][::-1]:\n",
    "                counts_order[i] = list(counts.values())[j]\n",
    "    normalization = 0\n",
    "    for i in range(2 ** L):\n",
    "        normalization += counts_order[i]\n",
    "\n",
    "    state = {list(basis.values())[i]: counts_order[i] / normalization for i in range(2 ** L)}\n",
    "    return state\n",
    "\n"
   ]
  },
  {
   "cell_type": "code",
   "execution_count": 20,
   "metadata": {},
   "outputs": [],
   "source": [
    "def Magnetization(\n",
    "    j: float, \n",
    "    L: float\n",
    ")-> sci.sparse.csc_matrix:\n",
    "    \"\"\"Generation of the local magnetization (sigma_z) operator.\n",
    "    \n",
    "    Args:\n",
    "        j: Label of the qubit on which its magnetization is to be calculated.\n",
    "        L: Total number of qubits in the system.\n",
    "        \n",
    "    Return:\n",
    "        Hz: Magnetization operator for qubit j in matrix form\n",
    "    \"\"\"\n",
    "    sigmaz = scs.csc_matrix([[1, 0], [0, -1]])\n",
    "    Id = scs.identity(2,format='csc')\n",
    "    Hz = scs.csc_matrix((2**L, 2**L))\n",
    "    Hzj = Id\n",
    "    if j == 0:\n",
    "        Hzj = sigmaz\n",
    "    for i in range(L - 1):\n",
    "        if i < j - 1:\n",
    "            Hzj = scs.kron(Hzj, Id, format='csc')\n",
    "        elif i == j - 1:\n",
    "            Hzj = scs.kron(Hzj, sigmaz, format='csc')\n",
    "        elif j - 1 < i < L - 1:\n",
    "            Hzj = scs.kron(Hzj, Id, format='csc')\n",
    "    Hz = Hz + Hzj\n",
    "    return Hz\n"
   ]
  },
  {
   "cell_type": "markdown",
   "metadata": {},
   "source": [
    "## Execute and Simulate functions\n",
    "Here we define the functions that execute a given circuit on a 'real' device (in this case we use a simulated device with a given noise model), and execute a circuit on a exact simulator. These two functions are then used to build the training set data, consisting of exact and noisy expectation values.\n",
    "\n",
    "Here the executor takes any circuit and runs it on a simulation of the IBMQ Bogota computer, with a simulated noise model. The float that is returned is the expectation value of the $\\sigma_{z}$ observable at some position. \n"
   ]
  },
  {
   "cell_type": "code",
   "execution_count": 21,
   "metadata": {},
   "outputs": [],
   "source": [
    "def executor(\n",
    "    circ: QPROGRAM,\n",
    ")-> float:\n",
    "    '''\n",
    "    Function to run my noisey circuits, being treated as real backend. Measures <sigma_z> on first qubit,\n",
    "    assuming all qubits are measured.\n",
    "    \n",
    "    Args: \n",
    "        circ: quantum circuit to be evaluated.    \n",
    "        noise_model: qiskit noise model to run with simulation.\n",
    "        \n",
    "    returns:\n",
    "        <sigma_z>: returns the observable at the given position with simulated device noise.\n",
    "    '''\n",
    "    \n",
    "    # extracting the basis gates:\n",
    "    device = 'ibmq_bogota'\n",
    "    try:\n",
    "        real_device = provider.get_backend(device)\n",
    "        coupling_map = real_device.configuration().coupling_map\n",
    "        noise_model = aern.NoiseModel.from_backend(real_device)\n",
    "        basis_gates = noise_model.basis_gates\n",
    "    except:\n",
    "        real_device = provider.get_backend(device)\n",
    "        coupling_map = real_device.configuration().coupling_map\n",
    "        noise_model = aern.NoiseModel.from_backend(real_device)\n",
    "        basis_gates = noise_model.basis_gates\n",
    "    \n",
    "    # Create an empty noise model\n",
    "    noise_model = NoiseModel()\n",
    "    \n",
    "    #add bit flip and phase flip:\n",
    "    p_error = 0.05\n",
    "    bit_flip = pauli_error([('X', p_error), ('I', 1 - p_error)])\n",
    "    phase_flip = pauli_error([('Z', p_error), ('I', 1 - p_error)])\n",
    "    error_bpf = bit_flip.compose(phase_flip)\n",
    "    \n",
    "    # Add depolarizing error to all single qubit u1, u2, u3 gates\n",
    "    error_dp = depolarizing_error(0.05, 1)\n",
    "    error_2 = error_dp.compose(error_bpf)\n",
    "    \n",
    "    # add thermal relaxation error: \n",
    "    error_tr = thermal_relaxation_error(60*10**(-6),80*10**(-6), 0.1)\n",
    "    \n",
    "    #make 2 qubit error:\n",
    "    error_2_qubit = error_2.tensor(error_2)\n",
    "    error = error_dp.compose(error_tr)\n",
    "    \n",
    "    #readout error:\n",
    "    error_ro = ReadoutError([[1 - 0.05, 0.05], [0.1, 1 - 0.1]])\n",
    "    \n",
    "    # construct noise model:\n",
    "    noise_model.add_all_qubit_quantum_error(error_2_qubit, ['cx'])\n",
    "    noise_model.add_all_qubit_quantum_error(error_2, ['rx', 'rz'])\n",
    "    noise_model.add_all_qubit_readout_error(error_ro, ['measure'])\n",
    "    \n",
    "    position = 1\n",
    "    qubits = len(circ.qubits)\n",
    "    obs = Magnetization(position, qubits)\n",
    "    job = execute(circ, Aer.get_backend('qasm_simulator'),\n",
    "              optimization_level=0, shots=8192, noise_model=noise_model, \n",
    "                  basis_gates=basis_gates)\n",
    "    result = job.result()\n",
    "    counts = result.get_counts()\n",
    "    counts = {k.replace(' ', ''): v for k, v in counts.items()}\n",
    "    state = state_counts(counts)\n",
    "    sigma_z = expected_value(obs, state)\n",
    "    return(sigma_z)"
   ]
  },
  {
   "cell_type": "markdown",
   "metadata": {},
   "source": [
    "The simulator function is the same as the executor but returns exact results (up to shot noise)."
   ]
  },
  {
   "cell_type": "code",
   "execution_count": 22,
   "metadata": {},
   "outputs": [],
   "source": [
    "def simulator(\n",
    "    circ: QPROGRAM, \n",
    ")-> float:\n",
    "    '''Function to run my noisey circuits, being treated as real backend. Measures <sigma_z> on a given qubit specified\n",
    "    by the position variable assuming all qubits are measured.\n",
    "    \n",
    "    Args: \n",
    "        circ: quantum circuit to be evaluated. \n",
    "        \n",
    "    returns:\n",
    "        <sigma_z>: returns the exact observable at the given position but includes shot noise.\n",
    "    '''\n",
    "    position = 1\n",
    "    qubits = len(circ.qubits)\n",
    "\n",
    "    obs = Magnetization(position, qubits)\n",
    "    job = execute(circ, Aer.get_backend('qasm_simulator'),\n",
    "              optimization_level=0, shots=8192)\n",
    "\n",
    "    result = job.result()\n",
    "    counts = result.get_counts()\n",
    "    counts = {k.replace(' ', ''): v for k, v in counts.items()}\n",
    "    state = state_counts(counts)\n",
    "    sigma_z = expected_value(obs, state)\n",
    "\n",
    "    return(sigma_z)"
   ]
  },
  {
   "cell_type": "markdown",
   "metadata": {},
   "source": [
    "With these two functions the training set data can then be generated by passing the training circuits through the exector and simulator functions. Note that due to the currrent definition of these functions each observable will have its own training set used for correction. This means to correct each observable $M$ circuits will need to be evaluated classically and on the real device. In reality this might not be neccesary. One training set could be used to correct many observables (as long as the circuit of interest is not affected by their evaluation, ie many observables diagonal in the z basis could be corrected from the same training set potentially). \n",
    "\n",
    "However, in this tutorial we are only looking at one particular observable, $\\sigma_{z}$ at some provided position, so the way the executor and simulator are defined here is sufficient."
   ]
  },
  {
   "cell_type": "code",
   "execution_count": 23,
   "metadata": {},
   "outputs": [],
   "source": [
    "def TrainingSetGenerator(\n",
    "    circ: QPROGRAM, \n",
    "    scale_factors: list, \n",
    "    M: int, \n",
    "    frac_N: float,\n",
    "    sigma: float\n",
    ")-> np.ndarray:\n",
    "    '''Function that takes a circuit of interest and the position of sigma_z observable and paramters to construct the training\n",
    "    set, returns an array of the training data.\n",
    "    \n",
    "    Args: \n",
    "        circ: circuit of interest.\n",
    "        scale_factors: scale factors to increase the noise.\n",
    "        M: size of training set. \n",
    "        frac_N: fraction of number of non-Cliffords to be left per circuit in training set.\n",
    "        sigma: width of probability distribution used in probabilistic training set construction.\n",
    "        \n",
    "    Return:\n",
    "        training_data: M by (scale_factors+1) array containing exact and noisy observables at different scale factors. \n",
    "    '''\n",
    "    circ_data, qubits, clbits = CircToArray(circ)\n",
    "    if sigma==None:\n",
    "        training_circ_data = TrainingCircuitsConstructor(circ_data, M, frac_N)\n",
    "    else:\n",
    "        training_circ_data = TrainingCircuitsConstructorProbProject(circ_data, M, frac_N, sigma)\n",
    "    training_data = np.zeros((M, 1+len(scale_factors)))\n",
    "    for i in range(len(training_circ_data)):\n",
    "        train_circ = ArrayToCirc(training_circ_data[i], qubits, clbits)\n",
    "        # checking how many non-Cliffords:\n",
    "        data, _, _ = CircToArray(train_circ)\n",
    "        mask_rz = data[1,:] == 'rz'\n",
    "        rz_circ_data = data[:,mask_rz]\n",
    "        mask_not_rz = data[1,:] != 'rz'\n",
    "        not_rz_circ_data = data[:,mask_not_rz]\n",
    "        mask_non_cliff = CliffordChecker(rz_circ_data[2,:]) == False\n",
    "        rz_non_cliff = rz_circ_data[:,mask_non_cliff]\n",
    "        training_data[i,0] = simulator(train_circ)\n",
    "        for s, scale_factor in enumerate(scale_factors):\n",
    "            noise_inc_circ = NoiseIncrease(train_circ, scale_factor)\n",
    "            training_data[i,s+1] = executor(noise_inc_circ)\n",
    "    return(training_data)        "
   ]
  },
  {
   "cell_type": "markdown",
   "metadata": {},
   "source": [
    "## Regression functions\n",
    "Below we have the functions that take the training set produced above and fit it with the vnCDR and CDR ansatzes. The fitting is done using the package sklearn for ease of use, but this can be replaced if so desired."
   ]
  },
  {
   "cell_type": "code",
   "execution_count": 24,
   "metadata": {},
   "outputs": [],
   "source": [
    "def vnCDR_mitigate(\n",
    "    train_data: np.ndarray, \n",
    "    circ_data: np.ndarray\n",
    ")->float:\n",
    "    '''Function that uses the training data to perform a regression and return the best fit variables the ansatz used is \n",
    "    a simple linear model. \n",
    "    \n",
    "    Args: \n",
    "        train_data: Data from Clifford circuits used to train the model. \n",
    "        circ_data: Data from actual circuit of interest which the trained model is then used to mitigate.\n",
    "        \n",
    "    Returns:\n",
    "        corrected: mitigated value caluclated using the provided training set.\n",
    "    '''\n",
    "    reg = linear_model.LinearRegression(fit_intercept=False)\n",
    "    \n",
    "    X_train = np.array(train_data[:,1:])\n",
    "    y_train = np.array(train_data[:,0])\n",
    "    X_test = circ_data\n",
    "    X_test.reshape(1,-1)\n",
    "    reg.fit(X_train, y_train)\n",
    "    corr = reg.predict([X_test])\n",
    "    return corr[0]"
   ]
  },
  {
   "cell_type": "markdown",
   "metadata": {},
   "source": [
    "Note below only one noise level is used in the mitigation, as required for CDR."
   ]
  },
  {
   "cell_type": "code",
   "execution_count": 25,
   "metadata": {},
   "outputs": [],
   "source": [
    "def CDR_mitigate(\n",
    "    train_data: np.ndarray, \n",
    "    circ_data: np.ndarray\n",
    ")-> float:\n",
    "    '''Function that uses the training data to perform a regression and return the best fit variables using oly one noise level.\n",
    "    \n",
    "    Args:\n",
    "        train_data: Data from Clifford circuits used to train simple linear anstaz (only one noise level used here).\n",
    "        circ_data: Data from actual circuit of interest which is mitigated by the trained model.\n",
    "        \n",
    "    Returns:\n",
    "        corrected: mitigated observable.\n",
    "    '''\n",
    "    reg = linear_model.LinearRegression(fit_intercept=True)\n",
    "    X_train = np.array(train_data[:,1]).reshape(-1,1)\n",
    "    y_train = np.array(train_data[:,0]).reshape(-1,1)\n",
    "    X_test = circ_data.reshape(1, -1)\n",
    "    reg.fit(X_train, y_train)\n",
    "    corr = reg.coef_[0]*circ_data+reg.intercept_[0]\n",
    "    return corr[0]"
   ]
  },
  {
   "cell_type": "markdown",
   "metadata": {},
   "source": [
    "Now all the functions have been defined we can generate the real data for the circuit of interest at various noise scale factors."
   ]
  },
  {
   "cell_type": "code",
   "execution_count": 26,
   "metadata": {},
   "outputs": [],
   "source": [
    "def circuit_data(\n",
    "    circ: QPROGRAM,\n",
    "    scale_factors:list\n",
    ")-> np.ndarray:\n",
    "    '''Function that takes a circuit of interest and observable position and returns the observable at scaled noise values.\n",
    "    \n",
    "    Args:\n",
    "        circ: circuit of interest.\n",
    "        scale_factors: list of factors with which to scale the noise.\n",
    "        \n",
    "    Returns:\n",
    "        circ_data: array of observables at increasing noise strength.\n",
    "    '''\n",
    "    circ_data = np.zeros((len(scale_factors)))\n",
    "    for s, scale_factor in enumerate(scale_factors):\n",
    "        noise_inc_circ = NoiseIncrease(circ, scale_factor)\n",
    "        circ_data[s] = executor(noise_inc_circ)\n",
    "    return circ_data\n",
    "    "
   ]
  },
  {
   "cell_type": "code",
   "execution_count": 27,
   "metadata": {},
   "outputs": [],
   "source": [
    "def clifford_data_mitigation(\n",
    "    circ: QPROGRAM, \n",
    "    scale_factors: list, \n",
    "    M: int, \n",
    "    frac_N: int,\n",
    "    sigma: float=None,\n",
    ")-> list:\n",
    "    '''Function that takes a circuit and scale factors and returns the vnCDR and CDR mitigations as well as the raw result.\n",
    "    \n",
    "    Args:\n",
    "        circ: quantum circuit of interest. \n",
    "        position: position of sigma_z observable.\n",
    "        scale_factors: scale factors with which to increase the noise.\n",
    "        M: size of the training set used in CDR and vnCDR. \n",
    "        N: fraction of non-Clifford gates to remain per circuit in the training set.\n",
    "        sigma: the width of the probability distribution for probabilistic projection (if None, random projection used).\n",
    "        \n",
    "    Returns:\n",
    "        vnCDR_mit: result mitigated by vnCDR. \n",
    "        CDR_mit: result mitigated by CDR.\n",
    "        circ_data: raw noisy result.\n",
    "    '''\n",
    "    training_data = TrainingSetGenerator(circ,scale_factors, M, frac_N, sigma)\n",
    "    circ_data = circuit_data(circ, scale_factors)\n",
    "    vnCDR_mit = vnCDR_mitigate(training_data, circ_data)\n",
    "    CDR_mit =CDR_mitigate(training_data, circ_data[0])\n",
    "    return vnCDR_mit, CDR_mit, circ_data, training_data\n",
    "    "
   ]
  },
  {
   "cell_type": "code",
   "execution_count": 28,
   "metadata": {},
   "outputs": [],
   "source": [
    "def Abs_error(\n",
    "    val_1: float, \n",
    "    val_2:float\n",
    ")->float:\n",
    "    '''Function to calculated the absolute error between two floats\n",
    "    \n",
    "    Args:\n",
    "        val_1: noisy/ mitigated observable. \n",
    "        val_2: exact observable.\n",
    "        \n",
    "    Returns:\n",
    "        absolute error.\n",
    "    '''\n",
    "    return abs(val_1-val_2)/abs(val_2)"
   ]
  },
  {
   "cell_type": "markdown",
   "metadata": {},
   "source": [
    "Now having defined all these functions we can tie them together and compare the performance for the RQC constructed at the beginning of this notebook.\n",
    "\n",
    "First lets define the parameters we will use, in order to do this we should check how many non-Clifford gates there are in our original decomposed circuit of interest:"
   ]
  },
  {
   "cell_type": "code",
   "execution_count": 29,
   "metadata": {},
   "outputs": [],
   "source": [
    "def NumberNonCliffords(\n",
    "    circuit: QPROGRAM\n",
    ")-> float:\n",
    "    '''Function to check how many non-Clifford gates are in a give circuit.\n",
    "    \n",
    "    Args: \n",
    "        circuit: some quantum circuit.\n",
    "        \n",
    "    Returns: \n",
    "        number of non-Clifford gates in the given circuit.\n",
    "    '''\n",
    "    data, _, _ = CircToArray(circuit)\n",
    "    mask_rz = data[1,:] == 'rz'\n",
    "    rz_circ_data = data[:,mask_rz]\n",
    "    mask_not_rz = data[1,:] != 'rz'\n",
    "    not_rz_circ_data = data[:,mask_not_rz]\n",
    "    mask_non_cliff = CliffordChecker(rz_circ_data[2,:]) == False\n",
    "    rz_non_cliff = rz_circ_data[:,mask_non_cliff]\n",
    "    return(len(rz_non_cliff[0]))"
   ]
  },
  {
   "cell_type": "markdown",
   "metadata": {},
   "source": [
    "We need to use a smaller number than the above result and lets just assume we are only interested in the $\\sigma_{z}$ of the 1st qubit, so lets take the following:"
   ]
  },
  {
   "cell_type": "code",
   "execution_count": 37,
   "metadata": {},
   "outputs": [
    {
     "name": "stdout",
     "output_type": "stream",
     "text": [
      "Non Cliffords 28\n"
     ]
    }
   ],
   "source": [
    "print('Non Cliffords', NumberNonCliffords(circuit_new))"
   ]
  },
  {
   "cell_type": "code",
   "execution_count": 38,
   "metadata": {},
   "outputs": [],
   "source": [
    "# fix parameters for CDR:\n",
    "scale_factors = [1.0,2.0,3.0]\n",
    "M=30\n",
    "\n",
    "# fraction of non-Clifford gates to leave:\n",
    "frac_N = 0.3"
   ]
  },
  {
   "cell_type": "markdown",
   "metadata": {},
   "source": [
    "Now lets execute the vnCDR and CDR mitigation methods. Note this may take some time due to the construction of the training set."
   ]
  },
  {
   "cell_type": "code",
   "execution_count": 39,
   "metadata": {},
   "outputs": [
    {
     "name": "stdout",
     "output_type": "stream",
     "text": [
      "Data regression underway\n",
      "Running exact simulation (with shot noise)\n",
      "Finished\n"
     ]
    }
   ],
   "source": [
    "print('Data regression underway')\n",
    "vnCDR_mit, CDR_mit, noisy, training_data = clifford_data_mitigation(circuit_new, scale_factors,M,frac_N)\n",
    "print('Running exact simulation (with shot noise)')\n",
    "exact = simulator(circuit_new)\n",
    "print('Finished')"
   ]
  },
  {
   "cell_type": "code",
   "execution_count": 40,
   "metadata": {},
   "outputs": [
    {
     "name": "stdout",
     "output_type": "stream",
     "text": [
      "exact -0.225830078125\n",
      "noisy 0.080078125\n",
      "vnCDR mitigated 0.0035714514217648347\n",
      "CDR mitigated 0.009290803729910299\n"
     ]
    }
   ],
   "source": [
    "print('exact',exact)\n",
    "print('noisy', noisy[0])\n",
    "print('vnCDR mitigated', vnCDR_mit)\n",
    "print('CDR mitigated', CDR_mit)"
   ]
  },
  {
   "cell_type": "markdown",
   "metadata": {},
   "source": [
    "Lets have a look at the observables in the training set that are used to understand the noise. This is often an important step in investigating how effective the training set construction method is, and if the mitigation can be improved."
   ]
  },
  {
   "cell_type": "code",
   "execution_count": 41,
   "metadata": {},
   "outputs": [
    {
     "data": {
      "image/png": "[encoded data removed]",
      "text/plain": [
       "<Figure size 432x288 with 1 Axes>"
      ]
     },
     "metadata": {
      "needs_background": "light"
     },
     "output_type": "display_data"
    },
    {
     "data": {
      "image/png": "[encoded data removed]",
      "text/plain": [
       "<Figure size 432x288 with 1 Axes>"
      ]
     },
     "metadata": {
      "needs_background": "light"
     },
     "output_type": "display_data"
    }
   ],
   "source": [
    "noise_level=1\n",
    "exact_observables = training_data[:,0]\n",
    "noise_1_observables = training_data[:,noise_level]\n",
    "plt.figure(1)\n",
    "plt.hist(exact_observables, bins=10, alpha=0.7, label = 'exact')\n",
    "plt.hist(noise_1_observables, bins=10, alpha = 0.7, label = 'noisy')\n",
    "plt.legend()\n",
    "plt.xlabel(r'$\\sigma_{z}$')\n",
    "plt.ylabel('frequency')\n",
    "plt.show()\n",
    "plt.figure(2)\n",
    "plt.scatter(exact_observables, noise_1_observables)\n",
    "plt.xlabel('exact')\n",
    "plt.ylabel('noisy')\n",
    "plt.show()"
   ]
  },
  {
   "cell_type": "markdown",
   "metadata": {},
   "source": [
    "In general a training set with a diverse range of both noisy and exact values is more effective and giving an accurate mitigation. These diverse training sets require more complex methods of construction that random projection."
   ]
  },
  {
   "cell_type": "markdown",
   "metadata": {},
   "source": [
    "What about the other training set construction method? How does this perform for the same training set size and number of non-Clifford gates? Well, it depends on the parameter $\\sigma$, which governs the width of probability distribution used in the projections. \n",
    "\n",
    "One can think of $\\sigma$ as the parameter that governs how random (or deterministic) the projections are. Generally, a balance between the two is best so we expect sigma values of around $0.8$ to work well. Let’s have a look:\n"
   ]
  },
  {
   "cell_type": "code",
   "execution_count": 43,
   "metadata": {},
   "outputs": [
    {
     "name": "stdout",
     "output_type": "stream",
     "text": [
      "Data regression underway\n",
      "Running exact simulation (with shot noise)\n",
      "Finished\n"
     ]
    }
   ],
   "source": [
    "print('Data regression underway')\n",
    "\n",
    "# Now including sigma argument:\n",
    "\n",
    "sigma = 0.5\n",
    "vnCDR_mit, CDR_mit, noisy, training_data = clifford_data_mitigation(circuit_new, scale_factors,M,frac_N, sigma)\n",
    "print('Running exact simulation (with shot noise)')\n",
    "exact = simulator(circuit_new)\n",
    "print('Finished')"
   ]
  },
  {
   "cell_type": "code",
   "execution_count": 44,
   "metadata": {},
   "outputs": [
    {
     "name": "stdout",
     "output_type": "stream",
     "text": [
      "exact -0.23681640625\n",
      "noisy 0.0615234375\n",
      "vnCDR mitigated -0.20439866924792907\n",
      "CDR mitigated -0.1875981858613665\n"
     ]
    }
   ],
   "source": [
    "print('exact',exact)\n",
    "print('noisy', noisy[0])\n",
    "print('vnCDR mitigated', vnCDR_mit)\n",
    "print('CDR mitigated', CDR_mit)"
   ]
  },
  {
   "cell_type": "markdown",
   "metadata": {},
   "source": [
    "Once again lets have a look at the training set constructed with this method."
   ]
  },
  {
   "cell_type": "code",
   "execution_count": 45,
   "metadata": {},
   "outputs": [
    {
     "data": {
      "image/png": "[encoded data removed]",
      "text/plain": [
       "<Figure size 432x288 with 1 Axes>"
      ]
     },
     "metadata": {
      "needs_background": "light"
     },
     "output_type": "display_data"
    },
    {
     "data": {
      "image/png": "[encoded data removed]",
      "text/plain": [
       "<Figure size 432x288 with 1 Axes>"
      ]
     },
     "metadata": {
      "needs_background": "light"
     },
     "output_type": "display_data"
    }
   ],
   "source": [
    "noise_level=1\n",
    "exact_observables = training_data[:,0]\n",
    "noise_1_observables = training_data[:,noise_level]\n",
    "plt.figure(1)\n",
    "plt.hist(exact_observables, bins=10, alpha=0.7, label = 'exact')\n",
    "plt.hist(noise_1_observables, bins=10, alpha = 0.7, label = 'noisy')\n",
    "plt.legend()\n",
    "plt.xlabel(r'$\\sigma_{z}$')\n",
    "plt.ylabel('frequency')\n",
    "plt.show()\n",
    "plt.figure(2)\n",
    "plt.scatter(exact_observables, noise_1_observables)\n",
    "plt.xlabel('exact')\n",
    "plt.ylabel('noisy')\n",
    "plt.show()"
   ]
  },
  {
   "cell_type": "markdown",
   "metadata": {},
   "source": [
    "We can also run ZNE with various fitting forms for a comparison:"
   ]
  },
  {
   "cell_type": "code",
   "execution_count": 46,
   "metadata": {},
   "outputs": [
    {
     "name": "stdout",
     "output_type": "stream",
     "text": [
      "ZNE underway\n",
      "Zne finished\n"
     ]
    }
   ],
   "source": [
    "print('ZNE underway')\n",
    "# method: scale noise by 1 and 2, then extrapolate linearly to the zero noise limit.\n",
    "linear_fac = LinearFactory(scale_factors=scale_factors[0:2])\n",
    "\n",
    "# method: scale noise by 1, 2 and 3, then evaluate the Richardson extrapolation.\n",
    "richardson_fac = RichardsonFactory(scale_factors=scale_factors[0:3])\n",
    "\n",
    "# method: scale noise by 1, 2, 3, and 4, then extrapolate quadratically to the zero noise limit.\n",
    "poly_fac = PolyFactory(scale_factors=scale_factors, order=2)\n",
    "\n",
    "# method: scale noise by 1, 2, 3, and 4, then extrapolate exponentially to the zero noise limit.\n",
    "exp_fac = ExpFactory(scale_factors=scale_factors)\n",
    "\n",
    "lin_zne = linear_fac.run(circuit_new, executor, scale_noise=partial(fold_gates_at_random, fidelities={\"single\": 1.0,\"CNOT\": 0.99}))\n",
    "rich_zne = richardson_fac.run(circuit_new, executor, scale_noise=partial(fold_gates_at_random, fidelities={\"single\": 1.0,\"CNOT\": 0.99}))\n",
    "poly_zne = poly_fac.run(circuit_new, executor, scale_noise=partial(fold_gates_at_random, fidelities={\"single\": 1.0,\"CNOT\": 0.99}))\n",
    "exp_zne = exp_fac.run(circuit_new, executor, scale_noise=partial(fold_gates_at_random, fidelities={\"single\": 1.0,\"CNOT\": 0.99}))\n",
    "print('Zne finished')"
   ]
  },
  {
   "cell_type": "markdown",
   "metadata": {},
   "source": [
    "Finally lets compare the results:"
   ]
  },
  {
   "cell_type": "code",
   "execution_count": 47,
   "metadata": {},
   "outputs": [
    {
     "name": "stdout",
     "output_type": "stream",
     "text": [
      "Absolute errors:\n",
      "lin_zne error 1.604123711340206\n",
      "rich_zne error 1.5567010309278353\n",
      "poly_zne error 1.3814432989690717\n",
      "vnCDR error 0.13688974305204385\n",
      "CDR_mit error 0.20783281516684823\n",
      "noisy error 1.2597938144329897\n"
     ]
    }
   ],
   "source": [
    "print('Absolute errors:')\n",
    "try:\n",
    "    zne_lin = execute_with_zne(circuit_new, executor, factory=linear_fac)\n",
    "    print('lin_zne error', Abs_error(zne_lin, exact))\n",
    "except:\n",
    "    zne_lin = None\n",
    "try:\n",
    "    zne_rich = execute_with_zne(circuit_new, executor, factory=richardson_fac)\n",
    "    print('rich_zne error', Abs_error(zne_rich, exact))\n",
    "except:\n",
    "    zne_rich = None\n",
    "try:\n",
    "    zne_poly = execute_with_zne(circuit_new, executor, factory=poly_fac)\n",
    "    print('poly_zne error', Abs_error(zne_poly, exact))\n",
    "except:\n",
    "    zne_poly = None\n",
    "try:\n",
    "    zne_exp = execute_with_zne(circuit_new, executor, factory=exp_fac)\n",
    "    print('exp_zne error', Abs_error(zne_exp, exact))\n",
    "except:\n",
    "    zne_exp = None\n",
    "\n",
    "\n",
    "print('vnCDR error', Abs_error(vnCDR_mit, exact))\n",
    "print('CDR_mit error', Abs_error(CDR_mit, exact))\n",
    "print('noisy error', Abs_error(noisy[0], exact))\n",
    "\n"
   ]
  },
  {
   "cell_type": "markdown",
   "metadata": {},
   "source": [
    "Hopefully one can see that the results from Clifford based methods are superior. This may vary according to the noise model from the IBM computer, which does change. Lets explore how the noisy results are changing with increased noise level, this is always something important to look at to inform the best extrpolation method to use."
   ]
  },
  {
   "cell_type": "code",
   "execution_count": 48,
   "metadata": {},
   "outputs": [],
   "source": [
    "circuit_data_example = circuit_data(circuit_new, scale_factors)"
   ]
  },
  {
   "cell_type": "code",
   "execution_count": 49,
   "metadata": {},
   "outputs": [
    {
     "data": {
      "image/png": "[encoded data removed]",
      "text/plain": [
       "<Figure size 432x288 with 1 Axes>"
      ]
     },
     "metadata": {
      "needs_background": "light"
     },
     "output_type": "display_data"
    }
   ],
   "source": [
    "plt.figure(1)\n",
    "plt.scatter(scale_factors, circuit_data_example, label = 'noisy', color = 'blue')\n",
    "plt.scatter([0], [exact], label = 'exact', color = 'black')\n",
    "plt.scatter([0], [zne_lin], label = 'zne_lin', color = 'red', marker = '*')\n",
    "plt.scatter([0], [zne_poly], label = 'zne_poly', color = 'red', marker = 'o')\n",
    "plt.scatter([0], [vnCDR_mit], label = 'vnCDR', color = 'green', marker = '+')\n",
    "plt.scatter([0], [CDR_mit], label = 'CDR', color = 'green', marker = 'o')\n",
    "plt.xlabel('Noise level')\n",
    "plt.ylabel(r'$\\sigma_{z}$')\n",
    "plt.legend()\n",
    "plt.show()"
   ]
  },
  {
   "cell_type": "markdown",
   "metadata": {},
   "source": [
    "It is also important to explore convergence for the CDR and vnCDR methods, let have a look at how the accuracy of the solution changes with increasing training set size and number of non-Cliffords."
   ]
  },
  {
   "cell_type": "code",
   "execution_count": 50,
   "metadata": {},
   "outputs": [
    {
     "name": "stdout",
     "output_type": "stream",
     "text": [
      "Data regression underway\n",
      "Finished\n"
     ]
    }
   ],
   "source": [
    "CDR_list = []\n",
    "vnCDR_list = []\n",
    "M_list=np.arange(4,M,1)\n",
    "print('Data regression underway')\n",
    "for M_1 in M_list:\n",
    "    vnCDR_mit = vnCDR_mitigate(training_data[0:M_1], noisy)\n",
    "    vnCDR_list.append(Abs_error(vnCDR_mit, exact))\n",
    "    CDR_mit =CDR_mitigate(training_data[0:M_1], noisy[0])\n",
    "    CDR_list.append(Abs_error(CDR_mit, exact))\n",
    "print('Finished')"
   ]
  },
  {
   "cell_type": "markdown",
   "metadata": {},
   "source": [
    "Lets see how this looks on a graph:"
   ]
  },
  {
   "cell_type": "code",
   "execution_count": 51,
   "metadata": {},
   "outputs": [
    {
     "data": {
      "image/png": "[encoded data removed]",
      "text/plain": [
       "<Figure size 432x288 with 1 Axes>"
      ]
     },
     "metadata": {
      "needs_background": "light"
     },
     "output_type": "display_data"
    }
   ],
   "source": [
    "plt.figure(2)\n",
    "plt.plot(M_list,vnCDR_list,label = 'vnCDR', color = 'red')\n",
    "plt.plot(M_list, CDR_list, label = 'CDR', color = 'blue')\n",
    "plt.legend()\n",
    "plt.ylabel('Absolute error')\n",
    "plt.xlabel('Training set size')\n",
    "plt.tight_layout()\n",
    "plt.show()"
   ]
  },
  {
   "cell_type": "markdown",
   "metadata": {},
   "source": [
    "Convergence is observed with training set size. In general the CDR method converges more slowly. When converged both regression methods show an improvement over linear ZNE, but their performance is very similar. Due to the training set construction method, the convergence observed can be very quick or more slow, depending on how lucky one gets when completeing the Clifford projections. It can also be quite discontinous without doing any repeats, so the above graph may appear a little odd.\n",
    "\n",
    "We should also see some convergence with the number of non-Cliffords."
   ]
  }
 ],
 "metadata": {
  "kernelspec": {
   "display_name": "Python 3.7.4 64-bit ('TNS': conda)",
   "language": "python",
   "name": "python37464bittnsconda6861d4d39a8a4ab8a131cf44dc9bd38f"
  },
  "language_info": {
   "codemirror_mode": {
    "name": "ipython",
    "version": 3
   },
   "file_extension": ".py",
   "mimetype": "text/x-python",
   "name": "python",
   "nbconvert_exporter": "python",
   "pygments_lexer": "ipython3",
   "version": "3.7.9"
  },
  "varInspector": {
   "cols": {
    "lenName": 16,
    "lenType": 16,
    "lenVar": 40
   },
   "kernels_config": {
    "python": {
     "delete_cmd_postfix": "",
     "delete_cmd_prefix": "del ",
     "library": "var_list.py",
     "varRefreshCmd": "print(var_dic_list())"
    },
    "r": {
     "delete_cmd_postfix": ") ",
     "delete_cmd_prefix": "rm(",
     "library": "var_list.r",
     "varRefreshCmd": "cat(var_dic_list()) "
    }
   },
   "types_to_exclude": [
    "module",
    "function",
    "builtin_function_or_method",
    "instance",
    "_Feature"
   ],
   "window_display": false
  }
 },
 "nbformat": 4,
 "nbformat_minor": 4
}

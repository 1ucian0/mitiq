{
 "cells": [
  {
   "cell_type": "markdown",
   "metadata": {},
   "source": [
    "# Usage of the Mitigator object (PyQuil)"
   ]
  },
  {
   "cell_type": "markdown",
   "metadata": {},
   "source": [
    "This notebook shows the usage of the `run_mitigation` function and the associated `fun_mitigator` decorator.\n",
    " \n",
    "**Important: We assume that the user is able to evaluate the expectation value of an input circuit and also to increase the noise level of the backend.**"
   ]
  },
  {
   "source": [
    "import numpy as np\n",
    "\n",
    "# Error mitigation\n",
    "from mitiq import run_mitigation, fun_mitigator"
   ],
   "cell_type": "code",
   "outputs": [],
   "metadata": {},
   "execution_count": 1
  },
  {
   "cell_type": "code",
   "execution_count": 2,
   "metadata": {},
   "outputs": [],
   "source": [
    "# PyQuil\n",
    "from pyquil import get_qc, Program\n",
    "from pyquil.gates import X,Y,Z, MEASURE\n",
    "\n",
    "# Noise simulation\n",
    "from pyquil.noise import append_kraus_to_gate"
   ]
  },
  {
   "cell_type": "markdown",
   "metadata": {},
   "source": [
    "The following function generates a random sequence of Pauli gates which is equivalent to the identity."
   ]
  },
  {
   "cell_type": "code",
   "execution_count": 3,
   "metadata": {},
   "outputs": [],
   "source": [
    "def random_identity_circuit(depth=None):\n",
    "    \"\"\"Returns a single-qubit identity circuit based on Pauli gates.\"\"\"\n",
    "    \n",
    "    # initialize a quantum circuit \n",
    "    prog = Program()  \n",
    "    \n",
    "    # index of the (inverting) final gate: 0=I, 1=X, 2=Y, 3=Z\n",
    "    k_inv = 0\n",
    "\n",
    "    # apply a random sequence of Pauli gates\n",
    "    for _ in range(depth):\n",
    "        # random index for the next gate: 1=X, 2=Y, 3=Z\n",
    "        k = np.random.choice([1, 2, 3])\n",
    "        # apply the Pauli gate \"k\"\n",
    "        if k == 1:\n",
    "            prog += X(0)\n",
    "        elif k == 2:\n",
    "            prog += Y(0)\n",
    "        elif k == 3:\n",
    "            prog += Z(0)\n",
    "        \n",
    "        # update the inverse index according to \n",
    "        # the product rules of Pauli matrices k and k_inv\n",
    "        if k_inv == 0:\n",
    "            k_inv = k\n",
    "        elif k_inv == k:\n",
    "            k_inv = 0\n",
    "        else:\n",
    "            _ = [1, 2, 3]\n",
    "            _.remove(k_inv)\n",
    "            _.remove(k)\n",
    "            k_inv = _[0]\n",
    "    \n",
    "    # apply the final inverse gate\n",
    "    if k_inv == 1:\n",
    "        prog += X(0)\n",
    "    elif k_inv == 2:\n",
    "        prog += Y(0)\n",
    "    elif k_inv == 3:\n",
    "        prog += Z(0)\n",
    "        \n",
    "    return prog"
   ]
  },
  {
   "cell_type": "markdown",
   "metadata": {},
   "source": [
    "We assume that the user is able to define a function which:\n",
    "* takes as arguments a circuit and a noise stretch factor,\n",
    "* executes the circuit in an arbitrary backend,\n",
    "* returns the final expectation value."
   ]
  },
  {
   "cell_type": "code",
   "execution_count": 4,
   "metadata": {},
   "outputs": [],
   "source": [
    "def noisy_run(circuit=None, stretch=1):\n",
    "    \"\"\"Execute a circuit on a noisy device and returns the expectation value of \n",
    "    the final measurement.\"\"\"\n",
    "    \n",
    "    _circuit = circuit.copy()\n",
    "    \n",
    "    shots = 10 ** 3      # measurement shots\n",
    "    true_noise = 0.007    # real value of the noise\n",
    "    \n",
    "    # noise stretching\n",
    "    noise = true_noise * stretch\n",
    "\n",
    "    # apply depolarizing noise to all gates\n",
    "    npI = np.array([[1, 0], [0, 1]])\n",
    "    npX = np.array([[0, 1], [1, 0]])\n",
    "    npY = np.array([[0, -1j], [1j, 0]])\n",
    "    npZ = np.array([[1, 0], [0, -1]])\n",
    "    kraus_ops = [np.sqrt(1 - noise) * npI, \n",
    "                     np.sqrt(noise / 3) * npX,\n",
    "                     np.sqrt(noise / 3) * npY,\n",
    "                     np.sqrt(noise / 3) * npZ]\n",
    "    _circuit.define_noisy_gate(\"X\", [0],  append_kraus_to_gate(kraus_ops, npX))\n",
    "    _circuit.define_noisy_gate(\"Y\", [0],  append_kraus_to_gate(kraus_ops, npY))\n",
    "    _circuit.define_noisy_gate(\"Z\", [0],  append_kraus_to_gate(kraus_ops, npZ))\n",
    "\n",
    "\n",
    "    # set number of shots\n",
    "    _circuit.wrap_in_numshots_loop(shots)\n",
    "    \n",
    "    # we want to simulate noise, so we run without compiling\n",
    "    \n",
    "    results = qvm.run(_circuit)\n",
    "    expval = (results == [0]).sum() / shots\n",
    "    return expval"
   ]
  },
  {
   "cell_type": "markdown",
   "metadata": {},
   "source": [
    "Let us use the function without error mitigation:"
   ]
  },
  {
   "cell_type": "code",
   "execution_count": 5,
   "metadata": {},
   "outputs": [
    {
     "data": {
      "text/plain": [
       "0.74593"
      ]
     },
     "execution_count": 5,
     "metadata": {},
     "output_type": "execute_result"
    }
   ],
   "source": [
    "qvm = get_qc('1q-qvm')\n",
    "\n",
    "# add measurement\n",
    "rand_circ = random_identity_circuit(depth=30)\n",
    "ro = rand_circ.declare('ro', 'BIT', 1)\n",
    "rand_circ += MEASURE(0, ro[0])\n",
    "\n",
    "# execution\n",
    "noisy_run(rand_circ)"
   ]
  },
  {
   "cell_type": "markdown",
   "metadata": {},
   "source": [
    "Now we use the error the mitigation toolkit (without using the decorator):"
   ]
  },
  {
   "cell_type": "code",
   "execution_count": 6,
   "metadata": {},
   "outputs": [
    {
     "data": {
      "text/plain": [
       "0.9351400000000001"
      ]
     },
     "execution_count": 6,
     "metadata": {},
     "output_type": "execute_result"
    }
   ],
   "source": [
    "qvm = get_qc('1q-qvm')\n",
    "\n",
    "# add measurement\n",
    "rand_circ = random_identity_circuit(depth=30)\n",
    "ro = rand_circ.declare('ro', 'BIT', 1)\n",
    "rand_circ += MEASURE(0, ro[0])\n",
    "\n",
    "# execution with automatic error mitigation\n",
    "run_mitigation(noisy_run, rand_circ, order=2)"
   ]
  },
  {
   "cell_type": "markdown",
   "metadata": {},
   "source": [
    "The user can also directly decorate its own function with a single line of code `@fun_mitigator()`, placed right above the function definition. For example:"
   ]
  },
  {
   "cell_type": "code",
   "execution_count": 7,
   "metadata": {},
   "outputs": [],
   "source": [
    "@fun_mitigator(order=2)\n",
    "def magic_run(circuit=None, stretch=1):\n",
    "     \"\"\"Execute a circuit on a noisy device and returns the expectation value of \n",
    "    the final measurement.\"\"\"\n",
    "    \n",
    "    _circuit = circuit.copy()\n",
    "    \n",
    "    shots = 10 ** 3      # measurement shots\n",
    "    true_noise = 0.007    # real value of the noise\n",
    "    \n",
    "    # noise stretching\n",
    "    noise = true_noise * stretch\n",
    "\n",
    "    # apply depolarizing noise to all gates\n",
    "    npI = np.array([[1, 0], [0, 1]])\n",
    "    npX = np.array([[0, 1], [1, 0]])\n",
    "    npY = np.array([[0, -1j], [1j, 0]])\n",
    "    npZ = np.array([[1, 0], [0, -1]])\n",
    "    kraus_ops = [np.sqrt(1 - noise) * npI, \n",
    "                     np.sqrt(noise / 3) * npX,\n",
    "                     np.sqrt(noise / 3) * npY,\n",
    "                     np.sqrt(noise / 3) * npZ]\n",
    "    _circuit.define_noisy_gate(\"X\", [0],  append_kraus_to_gate(kraus_ops, npX))\n",
    "    _circuit.define_noisy_gate(\"Y\", [0],  append_kraus_to_gate(kraus_ops, npY))\n",
    "    _circuit.define_noisy_gate(\"Z\", [0],  append_kraus_to_gate(kraus_ops, npZ))\n",
    "\n",
    "\n",
    "    # set number of shots\n",
    "    _circuit.wrap_in_numshots_loop(shots)\n",
    "    \n",
    "    # we want to simulate noise, so we run without compiling\n",
    "    \n",
    "    results = qvm.run(_circuit)\n",
    "    expval = (results == [0]).sum() / shots\n",
    "    return expval"
   ]
  },
  {
   "cell_type": "markdown",
   "metadata": {},
   "source": [
    "Now the user can directly apply the function `magic_run` to evaluate circuits. Error mitigation is automatically applied behind the scenes!"
   ]
  },
  {
   "cell_type": "code",
   "execution_count": 8,
   "metadata": {},
   "outputs": [
    {
     "data": {
      "text/plain": [
       "0.9362800000000002"
      ]
     },
     "execution_count": 8,
     "metadata": {},
     "output_type": "execute_result"
    }
   ],
   "source": [
    "qvm = get_qc('1q-qvm')\n",
    "\n",
    "# add measurement\n",
    "rand_circ = random_identity_circuit(depth=30)\n",
    "ro = rand_circ.declare('ro', 'BIT', 1)\n",
    "rand_circ += MEASURE(0, ro[0])\n",
    "\n",
    "# execution with automatic error mitigation\n",
    "noisy_run(rand_circ)"
   ]
  }
 ],
 "metadata": {
  "kernelspec": {
   "display_name": "Python 3",
   "language": "python",
   "name": "python3"
  },
  "language_info": {
   "codemirror_mode": {
    "name": "ipython",
    "version": 3
   },
   "file_extension": ".py",
   "mimetype": "text/x-python",
   "name": "python",
   "nbconvert_exporter": "python",
   "pygments_lexer": "ipython3",
   "version": "3.7.5-final"
  }
 },
 "nbformat": 4,
 "nbformat_minor": 2
}
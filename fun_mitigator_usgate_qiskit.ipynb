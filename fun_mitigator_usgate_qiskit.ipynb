{
 "cells": [
  {
   "cell_type": "markdown",
   "metadata": {},
   "source": [
    "# Usage of the Mitigator object"
   ]
  },
  {
   "cell_type": "markdown",
   "metadata": {},
   "source": [
    "This notebook shows the usage of the Mitigator object.\n",
    " \n",
    "**Important: We assume that the user is able to evaluate the expectation value of an input circuit and also to increase the noise level of the backend.**"
   ]
  },
  {
   "cell_type": "code",
   "execution_count": 1,
   "metadata": {},
   "outputs": [],
   "source": [
    "import numpy as np\n",
    "\n",
    "# Error mitigation package\n",
    "from mitiq import run_mitigation, fun_mitigator"
   ]
  },
  {
   "cell_type": "code",
   "execution_count": 2,
   "metadata": {},
   "outputs": [],
   "source": [
    "# IBM SDK\n",
    "import qiskit\n",
    "from qiskit import QuantumCircuit\n",
    "\n",
    "# Noise simulation packages\n",
    "from qiskit.providers.aer.noise import NoiseModel\n",
    "from qiskit.providers.aer.noise.errors.standard_errors import depolarizing_error\n",
    "\n",
    "# Other tools\n"
   ]
  },
  {
   "cell_type": "markdown",
   "metadata": {},
   "source": [
    "The following function generates a random sequence of Pauli gates which is equivalent to the identity."
   ]
  },
  {
   "cell_type": "code",
   "execution_count": 3,
   "metadata": {},
   "outputs": [],
   "source": [
    "def random_identity_circuit(depth=None):\n",
    "    \"\"\"Returns a single-qubit identity circuit based on Pauli gates.\"\"\"\n",
    "    \n",
    "    # initialize a quantum circuit with 1 qubit and 1 classical bit\n",
    "    circuit = QuantumCircuit(1, 1)\n",
    "    \n",
    "    # index of the (inverting) final gate: 0=I, 1=X, 2=Y, 3=Z\n",
    "    k_inv = 0\n",
    "\n",
    "    # apply a random sequence of Pauli gates\n",
    "    for _ in range(depth):\n",
    "        # random index for the next gate: 1=X, 2=Y, 3=Z\n",
    "        k = np.random.choice([1, 2, 3])\n",
    "        # apply the Pauli gate \"k\"\n",
    "        if k == 1:\n",
    "            circuit.x(0)\n",
    "        elif k == 2:\n",
    "            circuit.y(0)\n",
    "        elif k == 3:\n",
    "            circuit.z(0)\n",
    "        \n",
    "        # update the inverse index according to \n",
    "        # the product rules of Pauli matrices k and k_inv\n",
    "        if k_inv == 0:\n",
    "            k_inv = k\n",
    "        elif k_inv == k:\n",
    "            k_inv = 0\n",
    "        else:\n",
    "            _ = [1, 2, 3]\n",
    "            _.remove(k_inv)\n",
    "            _.remove(k)\n",
    "            k_inv = _[0]\n",
    "    \n",
    "    # apply the final inverse gate\n",
    "    if k_inv == 1:\n",
    "        circuit.x(0)\n",
    "    elif k_inv == 2:\n",
    "        circuit.y(0)\n",
    "    elif k_inv == 3:\n",
    "        circuit.z(0)\n",
    "        \n",
    "    return circuit"
   ]
  },
  {
   "cell_type": "markdown",
   "metadata": {},
   "source": [
    "We assume that the user is able to define a function which:\n",
    "* takes as arguments a circuit and a noise stretch factor,\n",
    "* executes the circuit in an arbitrary backend,\n",
    "* returns the final expectation value.\n",
    "\n",
    "The user can directly decorate its own function with a single line of code `@mitigate()`, placed right above the function definition. For example:"
   ]
  },
  {
   "cell_type": "code",
   "execution_count": 4,
   "metadata": {},
   "outputs": [],
   "source": [
    "def noisy_run(circuit=None, stretch=1):\n",
    "    \"\"\"Execute a circuit on a noisy device and returns the expectation value of \n",
    "    the final measurement.\"\"\"\n",
    "    \n",
    "    shots = 10 ** 5       # measurement shots\n",
    "    true_noise = 0.007    # real value of the noise\n",
    "    \n",
    "    # noise stretching\n",
    "    noise = true_noise * stretch\n",
    "    \n",
    "    # initialize a qiskit noise model\n",
    "    noise_model = NoiseModel()\n",
    "    \n",
    "    # we assume a depolarizing error for each gate of the standard IBM basis set (u1, u2, u3)\n",
    "    noise_model.add_all_qubit_quantum_error(depolarizing_error(noise, 1), ['u1', 'u2', 'u3'])\n",
    "    \n",
    "    # execution of the experiment\n",
    "    job = qiskit.execute(circuit, \n",
    "                         backend=backend, \n",
    "                         basis_gates=['u1', 'u2', 'u3'],\n",
    "                         # we want all gates to be actually applied,\n",
    "                         # so we skip any circuit optimization\n",
    "                         optimization_level=0, \n",
    "                         noise_model=noise_model,\n",
    "                         shots=shots)\n",
    "    results = job.result()\n",
    "    counts = results.get_counts()\n",
    "    expval = counts['0'] / shots\n",
    "    return expval"
   ]
  },
  {
   "cell_type": "markdown",
   "metadata": {},
   "source": [
    "Let us use the function without error mitigation."
   ]
  },
  {
   "cell_type": "code",
   "execution_count": 5,
   "metadata": {},
   "outputs": [
    {
     "data": {
      "text/plain": [
       "0.74593"
      ]
     },
     "execution_count": 5,
     "metadata": {},
     "output_type": "execute_result"
    }
   ],
   "source": [
    "# beckend initialization\n",
    "backend = qiskit.Aer.get_backend('qasm_simulator')\n",
    "rand_circ = random_identity_circuit(depth=100)\n",
    "rand_circ.measure(0, 0)\n",
    "\n",
    "# execution with automatic error mitigation\n",
    "noisy_run(rand_circ, stretch=1)"
   ]
  },
  {
   "cell_type": "markdown",
   "metadata": {},
   "source": [
    "Now we use the error the mitigation toolkit (without using the decorator):"
   ]
  },
  {
   "cell_type": "code",
   "execution_count": 6,
   "metadata": {},
   "outputs": [
    {
     "data": {
      "text/plain": [
       "0.9351400000000001"
      ]
     },
     "execution_count": 6,
     "metadata": {},
     "output_type": "execute_result"
    }
   ],
   "source": [
    "# beckend initialization\n",
    "backend = qiskit.Aer.get_backend('qasm_simulator')\n",
    "rand_circ = random_identity_circuit(depth=100)\n",
    "rand_circ.measure(0, 0)\n",
    "\n",
    "# execution with automatic error mitigation\n",
    "run_mitigation(noisy_run, rand_circ, order=2)"
   ]
  },
  {
   "cell_type": "markdown",
   "metadata": {},
   "source": [
    "The user can also directly decorate its own function with a single line of code `@fun_mitigator()`, placed right above the function definition. For example:"
   ]
  },
  {
   "cell_type": "code",
   "execution_count": 7,
   "metadata": {},
   "outputs": [],
   "source": [
    "@fun_mitigator(order=2)\n",
    "def magic_run(circuit=None, stretch=1):\n",
    "    \"\"\"Execute a circuit on a noisy device and returns the expectation value of \n",
    "    the final measurement.\"\"\"\n",
    "    \n",
    "    shots = 10 ** 5       # measurement shots\n",
    "    true_noise = 0.007    # real value of the noise\n",
    "    \n",
    "    # noise stretching\n",
    "    noise = true_noise * stretch\n",
    "    \n",
    "    # initialize a qiskit noise model\n",
    "    noise_model = NoiseModel()\n",
    "    \n",
    "    # we assume a depolarizing error for each gate of the standard IBM basis set (u1, u2, u3)\n",
    "    noise_model.add_all_qubit_quantum_error(depolarizing_error(noise, 1), ['u1', 'u2', 'u3'])\n",
    "    \n",
    "    # execution of the experiment\n",
    "    job = qiskit.execute(circuit, \n",
    "                         backend=backend, \n",
    "                         basis_gates=['u1', 'u2', 'u3'],\n",
    "                         # we want all gates to be actually applied,\n",
    "                         # so we skip any circuit optimization\n",
    "                         optimization_level=0, \n",
    "                         noise_model=noise_model,\n",
    "                         shots=shots)\n",
    "    results = job.result()\n",
    "    counts = results.get_counts()\n",
    "    expval = counts['0'] / shots\n",
    "    return expval"
   ]
  },
  {
   "cell_type": "markdown",
   "metadata": {},
   "source": [
    "Now the user can directly apply the function `magic_run` to evaluate circuits. Error mitigation is automatically applied behind the scenes!"
   ]
  },
  {
   "cell_type": "code",
   "execution_count": 8,
   "metadata": {},
   "outputs": [
    {
     "data": {
      "text/plain": [
       "0.9362800000000002"
      ]
     },
     "execution_count": 8,
     "metadata": {},
     "output_type": "execute_result"
    }
   ],
   "source": [
    "# beckend initialization\n",
    "backend = qiskit.Aer.get_backend('qasm_simulator')\n",
    "rand_circ = random_identity_circuit(depth=100)\n",
    "rand_circ.measure(0, 0)\n",
    "\n",
    "# execution with automatic error mitigation\n",
    "magic_run(rand_circ)"
   ]
  }
 ],
 "metadata": {
  "kernelspec": {
   "display_name": "Python 3",
   "language": "python",
   "name": "python3"
  },
  "language_info": {
   "codemirror_mode": {
    "name": "ipython",
    "version": 3
   },
   "file_extension": ".py",
   "mimetype": "text/x-python",
   "name": "python",
   "nbconvert_exporter": "python",
   "pygments_lexer": "ipython3",
   "version": "3.7.5"
  }
 },
 "nbformat": 4,
 "nbformat_minor": 2
}
